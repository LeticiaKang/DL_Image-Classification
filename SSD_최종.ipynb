{
  "nbformat": 4,
  "nbformat_minor": 0,
  "metadata": {
    "colab": {
      "provenance": [],
      "machine_shape": "hm",
      "collapsed_sections": [
        "r3hhVg2c3OL1",
        "T7QscCZv2_da",
        "zUxDmC63iOvY",
        "bBH6agzh6stt",
        "potXeUS6QWsE"
      ]
    },
    "kernelspec": {
      "name": "python3",
      "display_name": "Python 3"
    },
    "language_info": {
      "name": "python"
    },
    "accelerator": "GPU",
    "gpuClass": "premium"
  },
  "cells": [
    {
      "cell_type": "markdown",
      "source": [],
      "metadata": {
        "id": "XWQ49qeAKcTl"
      }
    },
    {
      "cell_type": "markdown",
      "source": [
        "드라이브 연동"
      ],
      "metadata": {
        "id": "56rM6mF4xU0i"
      }
    },
    {
      "cell_type": "code",
      "source": [
        "from google.colab import drive\n",
        "drive.mount('/content/gdrive')"
      ],
      "metadata": {
        "id": "8jO89K2JEf72",
        "colab": {
          "base_uri": "https://localhost:8080/"
        },
        "outputId": "189ec657-147c-45fc-d27c-5750eaff6559"
      },
      "execution_count": null,
      "outputs": [
        {
          "output_type": "stream",
          "name": "stdout",
          "text": [
            "Mounted at /content/gdrive\n"
          ]
        }
      ]
    },
    {
      "cell_type": "markdown",
      "source": [
        "라이브러리 불러오기"
      ],
      "metadata": {
        "id": "S5qXY3ARxXf9"
      }
    },
    {
      "cell_type": "code",
      "source": [
        "# 1.데이터 불러오는 라이브러리\n",
        "import os\n",
        "import glob\n",
        "import random\n",
        "import shutil\n",
        "\n",
        "# 3. csv 파일로 변경할 때 필요\n",
        "import os\n",
        "import glob\n",
        "import pandas as pd\n",
        "import xml.etree.ElementTree as ET\n",
        "\n",
        "# 파일 변경을 위한 \n",
        "import shutil"
      ],
      "metadata": {
        "id": "QzZb9TcQsaQ8"
      },
      "execution_count": null,
      "outputs": []
    },
    {
      "cell_type": "markdown",
      "source": [
        "## 완료된 모델 사용시 실행해야 하는 코드 모음"
      ],
      "metadata": {
        "id": "r3hhVg2c3OL1"
      }
    },
    {
      "cell_type": "code",
      "source": [
        "# %cd /content/gdrive/MyDrive/models/research\n",
        "# !protoc object_detection/protos/*.proto --python_out=."
      ],
      "metadata": {
        "id": "5INkGtbp3fbw"
      },
      "execution_count": null,
      "outputs": []
    },
    {
      "cell_type": "code",
      "source": [
        "# %cd /content/gdrive/MyDrive/models/research\n",
        "# !cp /content/gdrive/MyDrive/models/research/object_detection/packages/tf2/setup.py ."
      ],
      "metadata": {
        "id": "yZIkN08g9WWw"
      },
      "execution_count": null,
      "outputs": []
    },
    {
      "cell_type": "code",
      "source": [
        "# %cd /content/gdrive/MyDrive/models/research\n",
        "# !cp /content/gdrive/MyDrive/models/research/object_detection/packages/tf2/setup.py .\n",
        "# !python -m pip install  ."
      ],
      "metadata": {
        "id": "0t9K89yi3kLi"
      },
      "execution_count": null,
      "outputs": []
    },
    {
      "cell_type": "markdown",
      "source": [
        "# 모델 새로 구축시시"
      ],
      "metadata": {
        "id": "vp7nqU-rBOLa"
      }
    },
    {
      "cell_type": "markdown",
      "source": [
        "## 1. 데이터 분리(훈련, 테스트)"
      ],
      "metadata": {
        "id": "T7QscCZv2_da"
      }
    },
    {
      "cell_type": "markdown",
      "source": [
        "라벨링 개수와 이미지 개수 일치 시키기"
      ],
      "metadata": {
        "id": "swZ6Kan_xZf1"
      }
    },
    {
      "cell_type": "code",
      "source": [
        "# # 이미지 파일 모두 리스트에 저장\n",
        "# %cd /content/gdrive/MyDrive/data/com_data/images_c\n",
        "# images = glob.glob(\"*.jpg\")\n",
        "\n",
        "# # 라벨링 파일 모두 리스트에 저장\n",
        "# %cd /content/gdrive/MyDrive/data/com_data/labels_xml\n",
        "# labels = glob.glob(\"*.xml\")\n",
        "\n",
        "# # 이미지, 라벨링 개수 확인\n",
        "# print(len(images))\n",
        "# # print(images[:5])\n",
        "# print(len(labels))\n",
        "\n",
        "# # 삭제해야 하는 이미지 파일 출력하기\n",
        "# for img in images:\n",
        "#   if img[:-4]+\".xml\" not in labels:\n",
        "#     print(\"label 없는 파일 : \",img)\n",
        "\n",
        "# for label in labels:\n",
        "#   if label[:-4]+\".jpg\" not in images:\n",
        "#     print(\"img 없는 파일 : \",label)\n",
        "\n",
        "# %cd /content/gdrive/MyDrive/"
      ],
      "metadata": {
        "id": "QeJUSV52sdFV",
        "colab": {
          "base_uri": "https://localhost:8080/"
        },
        "outputId": "7eb31c78-12d0-449c-ed0b-3027ac64dde1"
      },
      "execution_count": null,
      "outputs": [
        {
          "output_type": "stream",
          "name": "stdout",
          "text": [
            "/content/gdrive/MyDrive/data/com_data/images_c\n",
            "/content/gdrive/MyDrive/data/com_data/labels_xml\n",
            "1621\n",
            "1622\n",
            "img 없는 파일 :  447632_DTD1T_5729_004_067_0029_Light5 (1).xml\n",
            "/content/gdrive/MyDrive\n"
          ]
        }
      ]
    },
    {
      "cell_type": "markdown",
      "source": [
        "%cd /content/gdrive/MyDrive/ 위치로 이동하기"
      ],
      "metadata": {
        "id": "bDmR9P-cxRj8"
      }
    },
    {
      "cell_type": "markdown",
      "source": [
        "raw_data파일에 있는 images와 labels 훈련데이터, 테스트 데이터 나우기"
      ],
      "metadata": {
        "id": "8uxUF8CC6HR9"
      }
    },
    {
      "cell_type": "code",
      "source": [
        "# raw_data_path = \"/content/gdrive/MyDrive/data/com_data/images_c\"\n",
        "# train_data_path = \"/content/gdrive/MyDrive/data/split_data/train\"\n",
        "# test_data_path = \"/content/gdrive/MyDrive/data/split_data/test\"\n",
        "\n",
        "# # split_data 폴더가 존재하지 않으면 생성\n",
        "# if not os.path.exists(\"/content/gdrive/MyDrive/data/split_data/\"):\n",
        "#   os.mkdir(\"/content/gdrive/MyDrive/data/split_data/\")\n",
        "  \n",
        "# try:\n",
        "#   shutil.rmtree(train_data_path)\n",
        "#   shutil.rmtree(test_data_path)\n",
        "# except:\n",
        "#   pass\n",
        "\n",
        "# os.mkdir(train_data_path)\n",
        "# os.mkdir(test_data_path)\n",
        "\n",
        "# # 이미지 파일들 total_files에 저장\n",
        "# total_files = glob.glob(raw_data_path + \"/*.jpg\")\n",
        "# print(\"샘플 이미지  = \", total_files)\n",
        "# print(\"이미지 총 개수 = \", len(total_files))\n",
        "\n",
        "# # 이미지 총 개수를 0~N까지 리스트로 만들어서 indices에 저장\n",
        "# indices = list(range(len(total_files)))\n",
        "# # train_indices : 임의의 숫자 k개를 뽑아서 리스트로 만들어줌(7:3)\n",
        "# train_indices = random.sample(indices, k = int(len(total_files)*0.7))\n",
        "# print(\"훈련데이터 개수 = \", len(train_indices))\n",
        "\n",
        "# # 아래 코드는 주석처리함\n",
        "\n",
        "# # 총 이미지 개수만큼 for문을 돌릴거임\n",
        "# # raw data에서 훈련데이터와 테스트데이터를 나눌 예정\n",
        "# for i in indices:\n",
        "#     # 숫자가 train_indices에 있으면 train에 해당되는 것이므로 훈련데이터 폴더에 복사하기\n",
        "#     if (i in train_indices):\n",
        "#         # Copy to train\n",
        "#         shutil.copy(total_files[i], train_data_path + total_files[i].replace(raw_data_path,\"\"))\n",
        "#         shutil.copy(total_files[i].replace(\"images_c\",\"labels_xml\").replace(\".jpg\",\".xml\"), \n",
        "#                     train_data_path + total_files[i].replace(raw_data_path, \"\").replace(\".jpg\",\".xml\"))\n",
        "#     else:\n",
        "#         # Copy to test\n",
        "#         shutil.copy(total_files[i], test_data_path + total_files[i].replace(raw_data_path, \"\"))\n",
        "#         shutil.copy(total_files[i].replace(\"images_c\", \"labels_xml\").replace(\".jpg\", \".xml\"),\n",
        "#                     test_data_path + total_files[i].replace(raw_data_path, \"\").replace(\".jpg\",\".xml\"))\n"
      ],
      "metadata": {
        "id": "P0FwNWudH_uS",
        "colab": {
          "base_uri": "https://localhost:8080/"
        },
        "outputId": "edeb3137-a160-48b6-ef3d-dd4f12996a44"
      },
      "execution_count": null,
      "outputs": [
        {
          "output_type": "stream",
          "name": "stdout",
          "text": [
            "샘플 이미지  =  ['/content/gdrive/MyDrive/data/com_data/images_c/400249_UN50N_2176_001_076_0000_Light5.jpg', '/content/gdrive/MyDrive/data/com_data/images_c/658574_18YSG_1060_002_100_0000_Light5.jpg', '/content/gdrive/MyDrive/data/com_data/images_c/675797_AAAW4_4950_001_070_0000_Light5.jpg', '/content/gdrive/MyDrive/data/com_data/images_c/446744_DTDIT_1000_001_055_0000_Light5.jpg', '/content/gdrive/MyDrive/data/com_data/images_c/636706_E12CK_9361_002_080_0000_Light5.jpg', '/content/gdrive/MyDrive/data/com_data/images_c/645454_1DB0G_1000_002_065_0000_Light5.jpg', '/content/gdrive/MyDrive/data/com_data/images_c/675797_AAAW4_4950_002_070_0000_Light5.jpg', '/content/gdrive/MyDrive/data/com_data/images_c/636709_E0UFG_8840_007_080_0000_Light5.jpg', '/content/gdrive/MyDrive/data/com_data/images_c/443496_DTDIT_1000_003_100_0000_Light5.jpg', '/content/gdrive/MyDrive/data/com_data/images_c/550618_96I3B_8745_002_061_0000_Light5.jpg', '/content/gdrive/MyDrive/data/com_data/images_c/675797_AAAW4_4950_007_070_0000_Light5.jpg', '/content/gdrive/MyDrive/data/com_data/images_c/443497_DTDIT_6433_002_063_0000_Light5.jpg', '/content/gdrive/MyDrive/data/com_data/images_c/675797_AAAW4_4950_003_100_0000_Light5.jpg', '/content/gdrive/MyDrive/data/com_data/images_c/686864_10ODT_1060_010_057_0006_Light5.jpg', '/content/gdrive/MyDrive/data/com_data/images_c/550621_UULEG_9682_003_100_0000_Light5.jpg', '/content/gdrive/MyDrive/data/com_data/images_c/446744_DTDIT_1000_003_100_0000_Light5.jpg', '/content/gdrive/MyDrive/data/com_data/images_c/658574_18YSG_1060_001_100_0000_Light5.jpg', '/content/gdrive/MyDrive/data/com_data/images_c/447632_DTD1T_6433_003_100_0000_Light5.jpg', '/content/gdrive/MyDrive/data/com_data/images_c/400249_EY0RK_9978_006_100_0000_Light5.jpg', '/content/gdrive/MyDrive/data/com_data/images_c/400249_UN50N_2176_002_076_0000_Light5.jpg', '/content/gdrive/MyDrive/data/com_data/images_c/645454_1DB0G_1000_004_100_0000_Light5.jpg', '/content/gdrive/MyDrive/data/com_data/images_c/550621_UULEK_9956_001_092_0000_Light5.jpg', '/content/gdrive/MyDrive/data/com_data/images_c/550621_UULEG_9682_006_100_0000_Light5.jpg', '/content/gdrive/MyDrive/data/com_data/images_c/686864_UQLBT_2570_003_066_0000_Light5.jpg', '/content/gdrive/MyDrive/data/com_data/images_c/636709_E0UFG_8840_002_080_0000_Light5.jpg', '/content/gdrive/MyDrive/data/com_data/images_c/602204_K9GSN_4075_006_100_0000_Light5.jpg', '/content/gdrive/MyDrive/data/com_data/images_c/498156_KHNKG_9761_001_061_0014_Light5.jpg', '/content/gdrive/MyDrive/data/com_data/images_c/447632_DTD1T_6433_002_067_0058_Light5.jpg', '/content/gdrive/MyDrive/data/com_data/images_c/479197_KHNKG_8534_002_074_0000_Light5.jpg', '/content/gdrive/MyDrive/data/com_data/images_c/686864_UQLBT_2570_004_066_0000_Light5.jpg', '/content/gdrive/MyDrive/data/com_data/images_c/631685_UM8IG_2546_001_100_0000_Light5.jpg', '/content/gdrive/MyDrive/data/com_data/images_c/476466_K9GVT_8856_002_081_0020_Light5.jpg', '/content/gdrive/MyDrive/data/com_data/images_c/658574_18YSG_1060_003_100_0000_Light5.jpg', '/content/gdrive/MyDrive/data/com_data/images_c/686864_UQLBT_2570_002_066_0000_Light5.jpg', '/content/gdrive/MyDrive/data/com_data/images_c/447632_DTD1T_6433_001_067_0058_Light5.jpg', '/content/gdrive/MyDrive/data/com_data/images_c/636706_HUHHG_8565_001_080_0000_Light5.jpg', '/content/gdrive/MyDrive/data/com_data/images_c/602204_EY0RK_9978_002_074_0000_Light5.jpg', '/content/gdrive/MyDrive/data/com_data/images_c/686864_UQLBT_2570_001_066_0000_Light5.jpg', '/content/gdrive/MyDrive/data/com_data/images_c/636709_10O0G_1000_003_100_0000_Light5.jpg', '/content/gdrive/MyDrive/data/com_data/images_c/400249_UN50N_2176_003_076_0000_Light5.jpg', '/content/gdrive/MyDrive/data/com_data/images_c/636709_10O0G_1000_002_080_0000_Light5.jpg', '/content/gdrive/MyDrive/data/com_data/images_c/658574_UULAK_9956_003_100_0000_Light5.jpg', '/content/gdrive/MyDrive/data/com_data/images_c/636709_10O0G_6638_002_080_0000_Light5.jpg', '/content/gdrive/MyDrive/data/com_data/images_c/681483_UM8BF_3352_002_062_0000_Light5.jpg', '/content/gdrive/MyDrive/data/com_data/images_c/636706_E12CK_9361_007_080_0000_Light5.jpg', '/content/gdrive/MyDrive/data/com_data/images_c/550620_UULEG_9682_004_100_0000_Light5.jpg', '/content/gdrive/MyDrive/data/com_data/images_c/636706_E12CK_9361_001_080_0000_Light5.jpg', '/content/gdrive/MyDrive/data/com_data/images_c/443497_DTDIT_6433_003_100_0000_Light5.jpg', '/content/gdrive/MyDrive/data/com_data/images_c/636706_HUHHG_8565_002_080_0000_Light5.jpg', '/content/gdrive/MyDrive/data/com_data/images_c/686864_10ODT_1060_007_057_0006_Light5.jpg', '/content/gdrive/MyDrive/data/com_data/images_c/498156_KHNKG_9761_002_061_0014_Light5.jpg', '/content/gdrive/MyDrive/data/com_data/images_c/446744_UM8AF_3352_004_100_0000_Light5.jpg', '/content/gdrive/MyDrive/data/com_data/images_c/400249_CAOGN_8176_002_074_0000_Light5.jpg', '/content/gdrive/MyDrive/data/com_data/images_c/681483_UM8BF_3352_003_100_0000_Light5.jpg', '/content/gdrive/MyDrive/data/com_data/images_c/443496_DTDIT_1000_001_066_0000_Light5.jpg', '/content/gdrive/MyDrive/data/com_data/images_c/601044_96IWB_8745_001_066_0000_Light5.jpg', '/content/gdrive/MyDrive/data/com_data/images_c/634936_DTDHV_1000_003_100_0000_Light5.jpg', '/content/gdrive/MyDrive/data/com_data/images_c/447632_UM8BF_3352_003_100_0000_Light5.jpg', '/content/gdrive/MyDrive/data/com_data/images_c/446744_DTDFV_1000_003_100_0000_Light5.jpg', '/content/gdrive/MyDrive/data/com_data/images_c/637092_AAA1C_7545_001_053_0000_Light5.jpg', '/content/gdrive/MyDrive/data/com_data/images_c/476466_K9GVT_8856_003_100_0000_Light5.jpg', '/content/gdrive/MyDrive/data/com_data/images_c/631685_UM8IG_2546_003_100_0000_Light5.jpg', '/content/gdrive/MyDrive/data/com_data/images_c/443497_AAA73_3757_012_063_0000_Light5.jpg', '/content/gdrive/MyDrive/data/com_data/images_c/400249_FAARG_9752_009_076_0000_Light5.jpg', '/content/gdrive/MyDrive/data/com_data/images_c/675797_10ODT_1060_004_100_0000_Light5.jpg', '/content/gdrive/MyDrive/data/com_data/images_c/550618_96I3B_8745_003_100_0000_Light5.jpg', '/content/gdrive/MyDrive/data/com_data/images_c/446744_DTDIT_1000_004_100_0000_Light5.jpg', '/content/gdrive/MyDrive/data/com_data/images_c/602204_EY0RK_9978_009_074_0000_Light5.jpg', '/content/gdrive/MyDrive/data/com_data/images_c/443497_AAA73_3757_002_063_0000_Light5.jpg', '/content/gdrive/MyDrive/data/com_data/images_c/446744_DTDIT_1000_002_055_0000_Light5.jpg', '/content/gdrive/MyDrive/data/com_data/images_c/637092_AAA1C_7545_002_053_0000_Light5.jpg', '/content/gdrive/MyDrive/data/com_data/images_c/446744_DTDIT_9022_002_055_0000_Light5.jpg', '/content/gdrive/MyDrive/data/com_data/images_c/446744_UM8AF_3352_003_100_0000_Light5.jpg', '/content/gdrive/MyDrive/data/com_data/images_c/400249_CAOGN_8176_003_100_0000_Light5.jpg', '/content/gdrive/MyDrive/data/com_data/images_c/446744_DTDIT_9022_003_055_0000_Light5.jpg', '/content/gdrive/MyDrive/data/com_data/images_c/400249_CAOGN_8176_001_074_0000_Light5.jpg', '/content/gdrive/MyDrive/data/com_data/images_c/634936_DTDHV_1000_004_100_0000_Light5.jpg', '/content/gdrive/MyDrive/data/com_data/images_c/443497_AAA73_3757_001_063_0000_Light5.jpg', '/content/gdrive/MyDrive/data/com_data/images_c/400249_FAARG_9752_002_076_0000_Light5.jpg', '/content/gdrive/MyDrive/data/com_data/images_c/400249_FAARG_9752_010_076_0000_Light5.jpg', '/content/gdrive/MyDrive/data/com_data/images_c/675797_10ODT_1060_003_100_0000_Light5.jpg', '/content/gdrive/MyDrive/data/com_data/images_c/631685_UM8IG_1000_003_100_0000_Light5.jpg', '/content/gdrive/MyDrive/data/com_data/images_c/658574_UULAK_9956_004_100_0000_Light5.jpg', '/content/gdrive/MyDrive/data/com_data/images_c/636706_HUHHG_8565_004_100_0000_Light5.jpg', '/content/gdrive/MyDrive/data/com_data/images_c/637092_AAA1C_7545_004_100_0000_Light5.jpg', '/content/gdrive/MyDrive/data/com_data/images_c/498156_KHNKG_9761_003_100_0000_Light5.jpg', '/content/gdrive/MyDrive/data/com_data/images_c/658574_UULAG_9682_006_100_0000_Light5.jpg', '/content/gdrive/MyDrive/data/com_data/images_c/479197_KHNKG_8534_003_100_0000_Light5.jpg', '/content/gdrive/MyDrive/data/com_data/images_c/637092_AAA1C_7545_007_053_0000_Light5.jpg', '/content/gdrive/MyDrive/data/com_data/images_c/400249_FAARG_9752_001_076_0000_Light5.jpg', '/content/gdrive/MyDrive/data/com_data/images_c/443497_AAA73_3757_009_063_0000_Light5.jpg', '/content/gdrive/MyDrive/data/com_data/images_c/446744_DTDFV_1000_004_100_0000_Light5.jpg', '/content/gdrive/MyDrive/data/com_data/images_c/446744_DTDIT_9022_001_055_0000_Light5.jpg', '/content/gdrive/MyDrive/data/com_data/images_c/686864_1TRCT_1281_006_100_0000_Light5.jpg', '/content/gdrive/MyDrive/data/com_data/images_c/637092_AAA1C_7545_003_100_0000_Light5.jpg', '/content/gdrive/MyDrive/data/com_data/images_c/631685_UM8IG_2546_006_100_0000_Light5.jpg', '/content/gdrive/MyDrive/data/com_data/images_c/602204_EY0RK_9978_003_100_0000_Light5.jpg', '/content/gdrive/MyDrive/data/com_data/images_c/447632_DTDHV_1000_006_100_0000_Light5.jpg', '/content/gdrive/MyDrive/data/com_data/images_c/400249_UKMLN_2572_006_100_0000_Light5.jpg', '/content/gdrive/MyDrive/data/com_data/images_c/443497_AABHM_9071_001_063_0000_Light5.jpg', '/content/gdrive/MyDrive/data/com_data/images_c/678843_UULAG_9682_006_100_0000_Light5.jpg', '/content/gdrive/MyDrive/data/com_data/images_c/658574_U3ZDG_8727_006_100_0000_Light5.jpg', '/content/gdrive/MyDrive/data/com_data/images_c/631685_UM8IG_1000_006_100_0000_Light5.jpg', '/content/gdrive/MyDrive/data/com_data/images_c/443497_DTDIY_5306_002_063_0000_Light5.jpg', '/content/gdrive/MyDrive/data/com_data/images_c/602204_UULBG_9683_006_100_0000_Light5.jpg', '/content/gdrive/MyDrive/data/com_data/images_c/443497_FAASR_9044_009_063_0000_Light5.jpg', '/content/gdrive/MyDrive/data/com_data/images_c/443497_DTDIY_5306_009_063_0000_Light5.jpg', '/content/gdrive/MyDrive/data/com_data/images_c/443497_FAASR_9044_002_063_0000_Light5.jpg', '/content/gdrive/MyDrive/data/com_data/images_c/409487_96IWN_4076_006_100_0000_Light5.jpg', '/content/gdrive/MyDrive/data/com_data/images_c/447632_UM8BF_3352_004_100_0000_Light5.jpg', '/content/gdrive/MyDrive/data/com_data/images_c/658574_UULAK_9956_006_100_0000_Light5.jpg', '/content/gdrive/MyDrive/data/com_data/images_c/443497_AABHM_9071_009_063_0000_Light5.jpg', '/content/gdrive/MyDrive/data/com_data/images_c/675799_1TR0G_8106_006_100_0000_Light5.jpg', '/content/gdrive/MyDrive/data/com_data/images_c/675797_10ODT_1060_006_100_0000_Light5.jpg', '/content/gdrive/MyDrive/data/com_data/images_c/443497_DTDIY_5306_001_063_0000_Light5.jpg', '/content/gdrive/MyDrive/data/com_data/images_c/598125_UULAT_9682_006_100_0000_Light5.jpg', '/content/gdrive/MyDrive/data/com_data/images_c/675796_0AAAX_6154_009_073_0000_Light5.jpg', '/content/gdrive/MyDrive/data/com_data/images_c/443497_AABHM_9071_010_063_0000_Light5.jpg', '/content/gdrive/MyDrive/data/com_data/images_c/636706_AAA1C_6641_002_080_0000_Light5.jpg', '/content/gdrive/MyDrive/data/com_data/images_c/550621_UULEK_9956_006_100_0000_Light5.jpg', '/content/gdrive/MyDrive/data/com_data/images_c/499623_UULBN_9683_006_100_0000_Light5.jpg', '/content/gdrive/MyDrive/data/com_data/images_c/675796_0AAAX_6154_002_073_0000_Light5.jpg', '/content/gdrive/MyDrive/data/com_data/images_c/602204_CAOEG_4153_001_074_0000_Light5.jpg', '/content/gdrive/MyDrive/data/com_data/images_c/443497_AABHM_9071_002_063_0000_Light5.jpg', '/content/gdrive/MyDrive/data/com_data/images_c/400249_UKMBN_2572_006_100_0000_Light5.jpg', '/content/gdrive/MyDrive/data/com_data/images_c/550620_UULEG_9682_006_100_0000_Light5.jpg', '/content/gdrive/MyDrive/data/com_data/images_c/631685_UM8IG_1000_004_100_0000_Light5.jpg', '/content/gdrive/MyDrive/data/com_data/images_c/443497_FAASR_9044_001_063_0000_Light5.jpg', '/content/gdrive/MyDrive/data/com_data/images_c/675796_0AAAX_6154_001_073_0000_Light5.jpg', '/content/gdrive/MyDrive/data/com_data/images_c/636706_FAAW8_9077_002_080_0000_Light5.jpg', '/content/gdrive/MyDrive/data/com_data/images_c/602204_CAOEG_4153_002_074_0000_Light5.jpg', '/content/gdrive/MyDrive/data/com_data/images_c/675797_UKMDT_9198_002_070_0000_Light5.jpg', '/content/gdrive/MyDrive/data/com_data/images_c/636706_FAAW8_9077_001_080_0000_Light5.jpg', '/content/gdrive/MyDrive/data/com_data/images_c/636706_AAA1C_6641_007_080_0000_Light5.jpg', '/content/gdrive/MyDrive/data/com_data/images_c/550621_UULEK_9956_003_100_0000_Light5.jpg', '/content/gdrive/MyDrive/data/com_data/images_c/675797_UKMDT_9198_001_070_0000_Light5.jpg', '/content/gdrive/MyDrive/data/com_data/images_c/636706_AAA1C_6641_001_080_0000_Light5.jpg', '/content/gdrive/MyDrive/data/com_data/images_c/498156_96IWN_4076_006_100_0000_Light5.jpg', '/content/gdrive/MyDrive/data/com_data/images_c/602204_CAOEG_4153_003_100_0000_Light5.jpg', '/content/gdrive/MyDrive/data/com_data/images_c/443497_DTDIY_5306_006_100_0000_Light5.jpg', '/content/gdrive/MyDrive/data/com_data/images_c/636706_FAAW8_9077_004_100_0000_Light5.jpg', '/content/gdrive/MyDrive/data/com_data/images_c/636706_FAAW8_9077_003_100_0000_Light5.jpg', '/content/gdrive/MyDrive/data/com_data/images_c/636706_FAAW8_9077_006_100_0000_Light5.jpg', '/content/gdrive/MyDrive/data/com_data/images_c/636706_AAA1C_6641_003_100_0000_Light5.jpg', '/content/gdrive/MyDrive/data/com_data/images_c/636706_AAA1C_6641_004_100_0000_Light5.jpg', '/content/gdrive/MyDrive/data/com_data/images_c/443497_DTDIY_5306_003_100_0000_Light5.jpg', '/content/gdrive/MyDrive/data/com_data/images_c/443497_FAASR_9541_002_063_0000_Light5.jpg', '/content/gdrive/MyDrive/data/com_data/images_c/400249_FAARG_9752_003_100_0000_Light5.jpg', '/content/gdrive/MyDrive/data/com_data/images_c/550620_96I3B_8745_005_100_0000_Light2.jpg', '/content/gdrive/MyDrive/data/com_data/images_c/443497_FAASR_9541_001_063_0000_Light5.jpg', '/content/gdrive/MyDrive/data/com_data/images_c/602204_1DB0G_1000_005_100_0000_Light2.jpg', '/content/gdrive/MyDrive/data/com_data/images_c/447632_HVKEG_9772_005_100_0000_Light2.jpg', '/content/gdrive/MyDrive/data/com_data/images_c/443497_DTDIT_9022_005_100_0000_Light2.jpg', '/content/gdrive/MyDrive/data/com_data/images_c/479197_KHNKG_9769_005_100_0000_Light2.jpg', '/content/gdrive/MyDrive/data/com_data/images_c/675796_0AAAX_6154_003_100_0000_Light5.jpg', '/content/gdrive/MyDrive/data/com_data/images_c/498156_KHNKG_8534_005_100_0000_Light2.jpg', '/content/gdrive/MyDrive/data/com_data/images_c/447632_DTD1T_9022_005_100_0000_Light2.jpg', '/content/gdrive/MyDrive/data/com_data/images_c/443497_FAASR_9541_003_100_0000_Light5.jpg', '/content/gdrive/MyDrive/data/com_data/images_c/602204_92TCG_8563_005_100_0000_Light2.jpg', '/content/gdrive/MyDrive/data/com_data/images_c/479197_KHNKG_9761_005_100_0000_Light2.jpg', '/content/gdrive/MyDrive/data/com_data/images_c/443497_AABHM_9071_003_100_0000_Light5.jpg', '/content/gdrive/MyDrive/data/com_data/images_c/498156_KHNKG_9769_005_100_0000_Light2.jpg', '/content/gdrive/MyDrive/data/com_data/images_c/575163_DTDRT_9022_005_100_0000_Light2.jpg', '/content/gdrive/MyDrive/data/com_data/images_c/550621_96I3B_8745_005_100_0000_Light2.jpg', '/content/gdrive/MyDrive/data/com_data/images_c/447632_DTD1T_1000_005_100_0000_Light2.jpg', '/content/gdrive/MyDrive/data/com_data/images_c/681483_UM8BF_3352_001_062_0000_Light5.jpg', '/content/gdrive/MyDrive/data/com_data/images_c/443497_FAASR_9044_003_100_0000_Light5.jpg', '/content/gdrive/MyDrive/data/com_data/images_c/598125_9IK3T_8745_005_100_0000_Light2.jpg', '/content/gdrive/MyDrive/data/com_data/images_c/636706_10OBG_9099_005_100_0000_Light2.jpg', '/content/gdrive/MyDrive/data/com_data/images_c/400249_KHNRN_9769_005_100_0000_Light2.jpg', '/content/gdrive/MyDrive/data/com_data/images_c/672206_10ODT_2579_005_100_0000_Light2.jpg', '/content/gdrive/MyDrive/data/com_data/images_c/447632_DTD1T_5729_005_100_0000_Light2.jpg', '/content/gdrive/MyDrive/data/com_data/images_c/447632_UM8BN_1711_005_100_0000_Light2.jpg', '/content/gdrive/MyDrive/data/com_data/images_c/443497_UM8AN_1000_005_100_0000_Light2.jpg', '/content/gdrive/MyDrive/data/com_data/images_c/686864_10ODT_3384_005_100_0000_Light2.jpg', '/content/gdrive/MyDrive/data/com_data/images_c/421970_KHNRN_8642_005_100_0000_Light2.jpg', '/content/gdrive/MyDrive/data/com_data/images_c/637091_10O0G_9022_005_100_0000_Light2.jpg', '/content/gdrive/MyDrive/data/com_data/images_c/448065_DTD1T_5729_005_100_0000_Light2.jpg', '/content/gdrive/MyDrive/data/com_data/images_c/499621_K05NB_9794_005_100_0000_Light2.jpg', '/content/gdrive/MyDrive/data/com_data/images_c/447632_UM8BN_2754_005_100_0000_Light2.jpg', '/content/gdrive/MyDrive/data/com_data/images_c/421970_KHNRN_9769_005_100_0000_Light2.jpg', '/content/gdrive/MyDrive/data/com_data/images_c/499623_92TJN_9862_005_100_0000_Light2.jpg', '/content/gdrive/MyDrive/data/com_data/images_c/636709_10O0G_9022_005_100_0000_Light2.jpg', '/content/gdrive/MyDrive/data/com_data/images_c/448065_DTD1T_1000_005_100_0000_Light2.jpg', '/content/gdrive/MyDrive/data/com_data/images_c/637091_10O0G_6638_005_100_0000_Light2.jpg', '/content/gdrive/MyDrive/data/com_data/images_c/636709_10O0G_3120_005_100_0000_Light2.jpg', '/content/gdrive/MyDrive/data/com_data/images_c/575163_DTDRT_1000_005_100_0000_Light2.jpg', '/content/gdrive/MyDrive/data/com_data/images_c/400249_CAOGX_8990_005_100_0000_Light2.jpg', '/content/gdrive/MyDrive/data/com_data/images_c/447632_UM8BN_9022_005_100_0000_Light2.jpg', '/content/gdrive/MyDrive/data/com_data/images_c/443497_DTDIT_1000_005_100_0000_Light.jpg', '/content/gdrive/MyDrive/data/com_data/images_c/550620_96I3B_9794_005_100_0000_Light2.jpg', '/content/gdrive/MyDrive/data/com_data/images_c/645454_92TCG_9761_005_100_0000_Light2.jpg', '/content/gdrive/MyDrive/data/com_data/images_c/658574_HUHHG_9759_005_100_0000_Light2.jpg', '/content/gdrive/MyDrive/data/com_data/images_c/602204_EZ60G_9528_005_100_0000_Light2.jpg', '/content/gdrive/MyDrive/data/com_data/images_c/443497_DTDIT_1000_005_100_0000_Light2.jpg', '/content/gdrive/MyDrive/data/com_data/images_c/636709_10O0G_4933_005_100_0000_Light2.jpg', '/content/gdrive/MyDrive/data/com_data/images_c/658574_HUHHG_8565_005_100_0000_Light2.jpg', '/content/gdrive/MyDrive/data/com_data/images_c/499621_K05NG_8745_005_100_0000_Light2.jpg', '/content/gdrive/MyDrive/data/com_data/images_c/447632_UM8BN_1000_005_100_0000_Light2.jpg', '/content/gdrive/MyDrive/data/com_data/images_c/499623_92TJN_8677_005_100_0000_Light2.jpg', '/content/gdrive/MyDrive/data/com_data/images_c/636706_HUHHG_9794_005_100_0000_Light2.jpg', '/content/gdrive/MyDrive/data/com_data/images_c/443497_UM8AN_9022_005_100_0000_Light2.jpg', '/content/gdrive/MyDrive/data/com_data/images_c/681064_96IWT_9794_005_100_0000_Light2.jpg', '/content/gdrive/MyDrive/data/com_data/images_c/675796_UM8BN_1000_005_100_0000_Light2.jpg', '/content/gdrive/MyDrive/data/com_data/images_c/634936_UM8BN_1000_005_100_0000_Light2.jpg', '/content/gdrive/MyDrive/data/com_data/images_c/681483_UM8BN_1000_005_100_0000_Light2.jpg', '/content/gdrive/MyDrive/data/com_data/images_c/443497_DTDIT_5729_005_100_0000_Light2.jpg', '/content/gdrive/MyDrive/data/com_data/images_c/675797_10ODP_1060_005_100_0000_Light2.jpg', '/content/gdrive/MyDrive/data/com_data/images_c/446744_UM8AN_1711_005_100_0000_Light2.jpg', '/content/gdrive/MyDrive/data/com_data/images_c/675797_10ODT_8454_005_100_0000_Light2.jpg', '/content/gdrive/MyDrive/data/com_data/images_c/547260_DTDIT_1000_005_100_0000_Light2.jpg', '/content/gdrive/MyDrive/data/com_data/images_c/677286_HUHHX_8565_005_100_0000_Light2.jpg', '/content/gdrive/MyDrive/data/com_data/images_c/400249_KHNRN_8698_005_100_0000_Light2.jpg', '/content/gdrive/MyDrive/data/com_data/images_c/421970_0K7JN_9680_005_100_0000_Light2.jpg', '/content/gdrive/MyDrive/data/com_data/images_c/602676_K05NB_8745_005_100_0000_Light2.jpg', '/content/gdrive/MyDrive/data/com_data/images_c/503877_K05NG_8745_005_100_0000_Light2.jpg', '/content/gdrive/MyDrive/data/com_data/images_c/645454_92TCG_8563_005_100_0000_Light2.jpg', '/content/gdrive/MyDrive/data/com_data/images_c/636709_E0P0G_9528_005_100_0000_Light2.jpg', '/content/gdrive/MyDrive/data/com_data/images_c/645454_1DB0G_2361_005_100_0000_Light2.jpg', '/content/gdrive/MyDrive/data/com_data/images_c/446744_UM8AN_1000_005_100_0000_Light2.jpg', '/content/gdrive/MyDrive/data/com_data/images_c/400249_0K7JN_9680_005_100_0000_Light2.jpg', '/content/gdrive/MyDrive/data/com_data/images_c/602204_92TCG_9761_005_100_0000_Light2.jpg', '/content/gdrive/MyDrive/data/com_data/images_c/403348_KHNRN_9769_005_100_0000_Light2.jpg', '/content/gdrive/MyDrive/data/com_data/images_c/443497_HVKEG_9772_005_100_0000_Light2.jpg', '/content/gdrive/MyDrive/data/com_data/images_c/550621_96I3B_9794_005_100_0000_Light2.jpg', '/content/gdrive/MyDrive/data/com_data/images_c/658574_18YSG_9068_005_100_0000_Light2.jpg', '/content/gdrive/MyDrive/data/com_data/images_c/636710_HUHHG_8565_005_100_0000_Light2.jpg', '/content/gdrive/MyDrive/data/com_data/images_c/503877_K05NB_9794_005_100_0000_Light2.jpg', '/content/gdrive/MyDrive/data/com_data/images_c/686864_10ODT_7769_005_100_0000_Light2.jpg', '/content/gdrive/MyDrive/data/com_data/images_c/636709_EY00G_9522_005_100_0000_Light2.jpg', '/content/gdrive/MyDrive/data/com_data/images_c/686864_10ODT_5467_005_100_0000_Light2.jpg', '/content/gdrive/MyDrive/data/com_data/images_c/675794_17Q0T_1000_005_100_0000_Light2.jpg', '/content/gdrive/MyDrive/data/com_data/images_c/675797_10ODT_5467_005_100_0000_Light2.jpg', '/content/gdrive/MyDrive/data/com_data/images_c/421970_CAOGN_2893_005_100_0000_Light2.jpg', '/content/gdrive/MyDrive/data/com_data/images_c/446744_UM8AN_2754_005_100_0000_Light2.jpg', '/content/gdrive/MyDrive/data/com_data/images_c/675794_17Q0T_3120_005_100_0000_Light2.jpg', '/content/gdrive/MyDrive/data/com_data/images_c/672206_10ODP_1060_005_100_0000_Light2.jpg', '/content/gdrive/MyDrive/data/com_data/images_c/409487_KLQJG_9785_005_100_0000_Light2.jpg', '/content/gdrive/MyDrive/data/com_data/images_c/499623_92TJN_8660_005_100_0000_Light2.jpg', '/content/gdrive/MyDrive/data/com_data/images_c/686864_UQLBT_2570_005_100_0000_Light2.jpg', '/content/gdrive/MyDrive/data/com_data/images_c/421970_CAOGN_8176_005_100_0000_Light2.jpg', '/content/gdrive/MyDrive/data/com_data/images_c/443497_UM8AN_1711_005_100_0000_Light2.jpg', '/content/gdrive/MyDrive/data/com_data/images_c/677286_18YSX_1060_005_100_0000_Light2.jpg', '/content/gdrive/MyDrive/data/com_data/images_c/602204_1DB0G_6638_005_100_0000_Light2.jpg', '/content/gdrive/MyDrive/data/com_data/images_c/637091_10O0G_7636_005_100_0000_Light2.jpg', '/content/gdrive/MyDrive/data/com_data/images_c/636709_10O0G_5815_005_100_0000_Light2.jpg', '/content/gdrive/MyDrive/data/com_data/images_c/686864_10ODT_8454_005_100_0000_Light2.jpg', '/content/gdrive/MyDrive/data/com_data/images_c/446744_UM8AN_9022_005_100_0000_Light2.jpg', '/content/gdrive/MyDrive/data/com_data/images_c/675797_10ODT_2579_005_100_0000_Light2.jpg', '/content/gdrive/MyDrive/data/com_data/images_c/686864_10ODP_1060_005_100_0000_Light2.jpg', '/content/gdrive/MyDrive/data/com_data/images_c/686858_L4RET_8887_005_100_0000_Light2.jpg', '/content/gdrive/MyDrive/data/com_data/images_c/675797_UKMDT_2570_005_100_0000_Light2.jpg', '/content/gdrive/MyDrive/data/com_data/images_c/598127_96IWN_4076_001_062_0000_Light--GG6.jpg', '/content/gdrive/MyDrive/data/com_data/images_c/674147_92THG_8563_001_081_0000_Light--G5.jpg', '/content/gdrive/MyDrive/data/com_data/images_c/696009_1W3CN_1000_001_071_0042_Light-GG5.jpg', '/content/gdrive/MyDrive/data/com_data/images_c/674148_9C2VN_4076_001_088_0000_Light--G5.jpg', '/content/gdrive/MyDrive/data/com_data/images_c/547965_9U8BT_8994_001_089_0000_Light--GG5.jpg', '/content/gdrive/MyDrive/data/com_data/images_c/696009_1W3CN_1275_001_071_0033_Light-GG5.jpg', '/content/gdrive/MyDrive/data/com_data/images_c/674155_9C2VN_4076_001_098_0000_Light--G6.jpg', '/content/gdrive/MyDrive/data/com_data/images_c/681064_96IWN_4076_001_080_0000_Light--GG6.jpg', '/content/gdrive/MyDrive/data/com_data/images_c/631685_96IWN_4076_002_100_0000_Light--GG6.jpg', '/content/gdrive/MyDrive/data/com_data/images_c/598127_96IWT_8745_001_062_0000_Light--GG5.jpg', '/content/gdrive/MyDrive/data/com_data/images_c/674148_9C2VN_4076_002_088_0000_Light--G6.jpg', '/content/gdrive/MyDrive/data/com_data/images_c/675891_UKMDG_2570_002_090_0000_Light--GG6.jpg', '/content/gdrive/MyDrive/data/com_data/images_c/631685_96IWB_8745_001_100_0000_Light--GG6.jpg', '/content/gdrive/MyDrive/data/com_data/images_c/658572_K9GSN_4075_001_100_0000_Light-GG6.jpg', '/content/gdrive/MyDrive/data/com_data/images_c/674081_96IWT_9794_002_068_0000_Light-6.jpg', '/content/gdrive/MyDrive/data/com_data/images_c/631685_UKMDG_2570_002_100_0000_Light--GG6.jpg', '/content/gdrive/MyDrive/data/com_data/images_c/631685_96IWB_8745_002_100_0000_Light--GG6.jpg', '/content/gdrive/MyDrive/data/com_data/images_c/659983_92TCG_8563_002_078_0000_Light-GG6.jpg', '/content/gdrive/MyDrive/data/com_data/images_c/631685_UKMDG_2570_001_100_0000_Light--GG5.jpg', '/content/gdrive/MyDrive/data/com_data/images_c/658582_1W3CN_9022_001_064_0000_Light-GG5.jpg', '/content/gdrive/MyDrive/data/com_data/images_c/598125_9IK3T_8745_002_080_0000_Light--GG6.jpg', '/content/gdrive/MyDrive/data/com_data/images_c/658582_1W3CN_1000_002_064_0000_Light-GG6.jpg', '/content/gdrive/MyDrive/data/com_data/images_c/631685_UULAG_9682_001_100_0000_Light--GG6.jpg', '/content/gdrive/MyDrive/data/com_data/images_c/671682_96IWT_8745_002_080_0000_Light-6.jpg', '/content/gdrive/MyDrive/data/com_data/images_c/598127_96IWT_8745_002_062_0000_Light--GG6.jpg', '/content/gdrive/MyDrive/data/com_data/images_c/674081_96IWN_4076_002_068_0000_Light-6.jpg', '/content/gdrive/MyDrive/data/com_data/images_c/631685_96IWB_9794_002_100_0000_Light--Web6.jpg', '/content/gdrive/MyDrive/data/com_data/images_c/678839_UKMDG_2570_002_070_0000_Light--GG6.jpg', '/content/gdrive/MyDrive/data/com_data/images_c/696009_1W3CN_1000_002_071_0042_Light-GG6.jpg', '/content/gdrive/MyDrive/data/com_data/images_c/674147_92THG_8563_002_081_0000_Light--G6.jpg', '/content/gdrive/MyDrive/data/com_data/images_c/547965_9U8BT_8994_002_089_0000_Light--GG6.jpg', '/content/gdrive/MyDrive/data/com_data/images_c/659983_92TCG_8563_001_078_0000_Light-GG5.jpg', '/content/gdrive/MyDrive/data/com_data/images_c/671682_96IWT_8745_001_080_0000_Light-6.jpg', '/content/gdrive/MyDrive/data/com_data/images_c/631685_96IWN_4076_001_100_0000_Light--GG6.jpg', '/content/gdrive/MyDrive/data/com_data/images_c/675891_92THG_8563_001_090_0037_Light--G5.jpg', '/content/gdrive/MyDrive/data/com_data/images_c/675891_UKMDG_2570_001_090_0000_Light--GG5.jpg', '/content/gdrive/MyDrive/data/com_data/images_c/598127_96IWN_4076_002_062_0000_Light--GG6.jpg', '/content/gdrive/MyDrive/data/com_data/images_c/631685_96IWB_9794_001_100_0000_Light--Web6.jpg', '/content/gdrive/MyDrive/data/com_data/images_c/678839_UKMDG_2570_001_070_0000_Light--GG5.jpg', '/content/gdrive/MyDrive/data/com_data/images_c/675891_92THG_8563_002_090_0037_Light--G6.jpg', '/content/gdrive/MyDrive/data/com_data/images_c/658582_1W3CN_1000_001_064_0000_Light-GG5.jpg', '/content/gdrive/MyDrive/data/com_data/images_c/658579_1W3BN_1000_001_092_0000_Light-GG5.jpg', '/content/gdrive/MyDrive/data/com_data/images_c/696009_1W3CN_1275_002_071_0033_Light-GG6.jpg', '/content/gdrive/MyDrive/data/com_data/images_c/674081_96IWN_4076_001_068_0000_Light-6.jpg', '/content/gdrive/MyDrive/data/com_data/images_c/674081_96IWT_9794_001_068_0000_Light-5.jpg', '/content/gdrive/MyDrive/data/com_data/images_c/658572_K9GSN_4075_002_100_0000_Light-GG6.jpg', '/content/gdrive/MyDrive/data/com_data/images_c/658579_1W3BN_1000_002_092_0000_Light-GG6.jpg', '/content/gdrive/MyDrive/data/com_data/images_c/681064_96IWN_4076_002_080_0000_Light--GG6.jpg', '/content/gdrive/MyDrive/data/com_data/images_c/658582_1W3CN_9022_002_064_0000_Light-GG6.jpg', '/content/gdrive/MyDrive/data/com_data/images_c/674155_9C2VN_4076_002_098_0000_Light--G6.jpg', '/content/gdrive/MyDrive/data/com_data/images_c/631685_UULAG_9682_002_100_0000_Light--GG6.jpg', '/content/gdrive/MyDrive/data/com_data/images_c/가방사진 (473).jpg', '/content/gdrive/MyDrive/data/com_data/images_c/가방사진 (298).jpg', '/content/gdrive/MyDrive/data/com_data/images_c/가방사진 (150).jpg', '/content/gdrive/MyDrive/data/com_data/images_c/가방사진 (385).jpg', '/content/gdrive/MyDrive/data/com_data/images_c/가방사진 (293).jpg', '/content/gdrive/MyDrive/data/com_data/images_c/가방사진 (181).jpg', '/content/gdrive/MyDrive/data/com_data/images_c/가방사진 (41).jpg', '/content/gdrive/MyDrive/data/com_data/images_c/가방사진 (251).jpg', '/content/gdrive/MyDrive/data/com_data/images_c/가방사진 (345).jpg', '/content/gdrive/MyDrive/data/com_data/images_c/가방사진 (161).jpg', '/content/gdrive/MyDrive/data/com_data/images_c/가방사진 (411).jpg', '/content/gdrive/MyDrive/data/com_data/images_c/가방사진 (471).jpg', '/content/gdrive/MyDrive/data/com_data/images_c/가방사진 (22).jpg', '/content/gdrive/MyDrive/data/com_data/images_c/가방사진 (174).jpg', '/content/gdrive/MyDrive/data/com_data/images_c/가방사진 (280).jpg', '/content/gdrive/MyDrive/data/com_data/images_c/가방사진 (348).jpg', '/content/gdrive/MyDrive/data/com_data/images_c/가방사진 (228).jpg', '/content/gdrive/MyDrive/data/com_data/images_c/가방사진 (14).jpg', '/content/gdrive/MyDrive/data/com_data/images_c/가방사진 (342).jpg', '/content/gdrive/MyDrive/data/com_data/images_c/가방사진 (349).jpg', '/content/gdrive/MyDrive/data/com_data/images_c/가방사진 (295).jpg', '/content/gdrive/MyDrive/data/com_data/images_c/가방사진 (445).jpg', '/content/gdrive/MyDrive/data/com_data/images_c/가방사진 (185).jpg', '/content/gdrive/MyDrive/data/com_data/images_c/가방사진 (315).jpg', '/content/gdrive/MyDrive/data/com_data/images_c/가방사진 (11).jpg', '/content/gdrive/MyDrive/data/com_data/images_c/가방사진 (351).jpg', '/content/gdrive/MyDrive/data/com_data/images_c/가방사진 (278).jpg', '/content/gdrive/MyDrive/data/com_data/images_c/가방사진 (260).jpg', '/content/gdrive/MyDrive/data/com_data/images_c/가방사진 (158).jpg', '/content/gdrive/MyDrive/data/com_data/images_c/가방사진 (425).jpg', '/content/gdrive/MyDrive/data/com_data/images_c/가방사진 (149).jpg', '/content/gdrive/MyDrive/data/com_data/images_c/가방사진 (209).jpg', '/content/gdrive/MyDrive/data/com_data/images_c/가방사진 (424).jpg', '/content/gdrive/MyDrive/data/com_data/images_c/가방사진 (307).jpg', '/content/gdrive/MyDrive/data/com_data/images_c/가방사진 (364).jpg', '/content/gdrive/MyDrive/data/com_data/images_c/가방사진 (200).jpg', '/content/gdrive/MyDrive/data/com_data/images_c/가방사진 (391).jpg', '/content/gdrive/MyDrive/data/com_data/images_c/가방사진 (235).jpg', '/content/gdrive/MyDrive/data/com_data/images_c/가방사진 (124).jpg', '/content/gdrive/MyDrive/data/com_data/images_c/가방사진 (189).jpg', '/content/gdrive/MyDrive/data/com_data/images_c/가방사진 (439).jpg', '/content/gdrive/MyDrive/data/com_data/images_c/가방사진 (242).jpg', '/content/gdrive/MyDrive/data/com_data/images_c/가방사진 (481).jpg', '/content/gdrive/MyDrive/data/com_data/images_c/가방사진 (306).jpg', '/content/gdrive/MyDrive/data/com_data/images_c/가방사진 (132).jpg', '/content/gdrive/MyDrive/data/com_data/images_c/가방사진 (443).jpg', '/content/gdrive/MyDrive/data/com_data/images_c/가방사진 (130).jpg', '/content/gdrive/MyDrive/data/com_data/images_c/가방사진 (271).jpg', '/content/gdrive/MyDrive/data/com_data/images_c/가방사진 (301).jpg', '/content/gdrive/MyDrive/data/com_data/images_c/가방사진 (479).jpg', '/content/gdrive/MyDrive/data/com_data/images_c/가방사진 (154).jpg', '/content/gdrive/MyDrive/data/com_data/images_c/가방사진 (405).jpg', '/content/gdrive/MyDrive/data/com_data/images_c/가방사진 (100).jpg', '/content/gdrive/MyDrive/data/com_data/images_c/가방사진 (384).jpg', '/content/gdrive/MyDrive/data/com_data/images_c/가방사진 (232).jpg', '/content/gdrive/MyDrive/data/com_data/images_c/가방사진 (195).jpg', '/content/gdrive/MyDrive/data/com_data/images_c/가방사진 (182).jpg', '/content/gdrive/MyDrive/data/com_data/images_c/가방사진 (329).jpg', '/content/gdrive/MyDrive/data/com_data/images_c/가방사진 (447).jpg', '/content/gdrive/MyDrive/data/com_data/images_c/가방사진 (451).jpg', '/content/gdrive/MyDrive/data/com_data/images_c/가방사진 (234).jpg', '/content/gdrive/MyDrive/data/com_data/images_c/가방사진 (162).jpg', '/content/gdrive/MyDrive/data/com_data/images_c/가방사진 (317).jpg', '/content/gdrive/MyDrive/data/com_data/images_c/가방사진 (131).jpg', '/content/gdrive/MyDrive/data/com_data/images_c/가방사진 (109).jpg', '/content/gdrive/MyDrive/data/com_data/images_c/가방사진 (360).jpg', '/content/gdrive/MyDrive/data/com_data/images_c/가방사진 (193).jpg', '/content/gdrive/MyDrive/data/com_data/images_c/가방사진 (212).jpg', '/content/gdrive/MyDrive/data/com_data/images_c/가방사진 (487).jpg', '/content/gdrive/MyDrive/data/com_data/images_c/가방사진 (302).jpg', '/content/gdrive/MyDrive/data/com_data/images_c/가방사진 (376).jpg', '/content/gdrive/MyDrive/data/com_data/images_c/가방사진 (137).jpg', '/content/gdrive/MyDrive/data/com_data/images_c/가방사진 (48).jpg', '/content/gdrive/MyDrive/data/com_data/images_c/가방사진 (117).jpg', '/content/gdrive/MyDrive/data/com_data/images_c/가방사진 (467).jpg', '/content/gdrive/MyDrive/data/com_data/images_c/가방사진 (110).jpg', '/content/gdrive/MyDrive/data/com_data/images_c/가방사진 (309).jpg', '/content/gdrive/MyDrive/data/com_data/images_c/가방사진 (422).jpg', '/content/gdrive/MyDrive/data/com_data/images_c/가방사진 (171).jpg', '/content/gdrive/MyDrive/data/com_data/images_c/가방사진 (324).jpg', '/content/gdrive/MyDrive/data/com_data/images_c/가방사진 (340).jpg', '/content/gdrive/MyDrive/data/com_data/images_c/가방사진 (163).jpg', '/content/gdrive/MyDrive/data/com_data/images_c/가방사진 (12).jpg', '/content/gdrive/MyDrive/data/com_data/images_c/가방사진 (429).jpg', '/content/gdrive/MyDrive/data/com_data/images_c/가방사진 (444).jpg', '/content/gdrive/MyDrive/data/com_data/images_c/가방사진 (167).jpg', '/content/gdrive/MyDrive/data/com_data/images_c/가방사진 (270).jpg', '/content/gdrive/MyDrive/data/com_data/images_c/가방사진 (268).jpg', '/content/gdrive/MyDrive/data/com_data/images_c/가방사진 (101).jpg', '/content/gdrive/MyDrive/data/com_data/images_c/가방사진 (291).jpg', '/content/gdrive/MyDrive/data/com_data/images_c/가방사진 (257).jpg', '/content/gdrive/MyDrive/data/com_data/images_c/가방사진 (337).jpg', '/content/gdrive/MyDrive/data/com_data/images_c/가방사진 (215).jpg', '/content/gdrive/MyDrive/data/com_data/images_c/가방사진 (457).jpg', '/content/gdrive/MyDrive/data/com_data/images_c/가방사진 (28).jpg', '/content/gdrive/MyDrive/data/com_data/images_c/가방사진 (177).jpg', '/content/gdrive/MyDrive/data/com_data/images_c/가방사진 (147).jpg', '/content/gdrive/MyDrive/data/com_data/images_c/가방사진 (393).jpg', '/content/gdrive/MyDrive/data/com_data/images_c/가방사진 (183).jpg', '/content/gdrive/MyDrive/data/com_data/images_c/가방사진 (266).jpg', '/content/gdrive/MyDrive/data/com_data/images_c/가방사진 (216).jpg', '/content/gdrive/MyDrive/data/com_data/images_c/가방사진 (121).jpg', '/content/gdrive/MyDrive/data/com_data/images_c/가방사진 (279).jpg', '/content/gdrive/MyDrive/data/com_data/images_c/가방사진 (105).jpg', '/content/gdrive/MyDrive/data/com_data/images_c/가방사진 (146).jpg', '/content/gdrive/MyDrive/data/com_data/images_c/가방사진 (454).jpg', '/content/gdrive/MyDrive/data/com_data/images_c/가방사진 (341).jpg', '/content/gdrive/MyDrive/data/com_data/images_c/가방사진 (311).jpg', '/content/gdrive/MyDrive/data/com_data/images_c/가방사진 (370).jpg', '/content/gdrive/MyDrive/data/com_data/images_c/가방사진 (214).jpg', '/content/gdrive/MyDrive/data/com_data/images_c/가방사진 (31).jpg', '/content/gdrive/MyDrive/data/com_data/images_c/가방사진 (423).jpg', '/content/gdrive/MyDrive/data/com_data/images_c/가방사진 (169).jpg', '/content/gdrive/MyDrive/data/com_data/images_c/가방사진 (276).jpg', '/content/gdrive/MyDrive/data/com_data/images_c/가방사진 (313).jpg', '/content/gdrive/MyDrive/data/com_data/images_c/가방사진 (410).jpg', '/content/gdrive/MyDrive/data/com_data/images_c/가방사진 (206).jpg', '/content/gdrive/MyDrive/data/com_data/images_c/가방사진 (446).jpg', '/content/gdrive/MyDrive/data/com_data/images_c/가방사진 (485).jpg', '/content/gdrive/MyDrive/data/com_data/images_c/가방사진 (465).jpg', '/content/gdrive/MyDrive/data/com_data/images_c/가방사진 (16).jpg', '/content/gdrive/MyDrive/data/com_data/images_c/가방사진 (246).jpg', '/content/gdrive/MyDrive/data/com_data/images_c/가방사진 (399).jpg', '/content/gdrive/MyDrive/data/com_data/images_c/가방사진 (400).jpg', '/content/gdrive/MyDrive/data/com_data/images_c/가방사진 (243).jpg', '/content/gdrive/MyDrive/data/com_data/images_c/가방사진 (413).jpg', '/content/gdrive/MyDrive/data/com_data/images_c/가방사진 (277).jpg', '/content/gdrive/MyDrive/data/com_data/images_c/가방사진 (383).jpg', '/content/gdrive/MyDrive/data/com_data/images_c/가방사진 (191).jpg', '/content/gdrive/MyDrive/data/com_data/images_c/가방사진 (455).jpg', '/content/gdrive/MyDrive/data/com_data/images_c/가방사진 (373).jpg', '/content/gdrive/MyDrive/data/com_data/images_c/가방사진 (165).jpg', '/content/gdrive/MyDrive/data/com_data/images_c/가방사진 (223).jpg', '/content/gdrive/MyDrive/data/com_data/images_c/가방사진 (155).jpg', '/content/gdrive/MyDrive/data/com_data/images_c/가방사진 (450).jpg', '/content/gdrive/MyDrive/data/com_data/images_c/가방사진 (226).jpg', '/content/gdrive/MyDrive/data/com_data/images_c/가방사진 (401).jpg', '/content/gdrive/MyDrive/data/com_data/images_c/가방사진 (213).jpg', '/content/gdrive/MyDrive/data/com_data/images_c/가방사진 (197).jpg', '/content/gdrive/MyDrive/data/com_data/images_c/가방사진 (398).jpg', '/content/gdrive/MyDrive/data/com_data/images_c/가방사진 (366).jpg', '/content/gdrive/MyDrive/data/com_data/images_c/가방사진 (133).jpg', '/content/gdrive/MyDrive/data/com_data/images_c/가방사진 (320).jpg', '/content/gdrive/MyDrive/data/com_data/images_c/가방사진 (122).jpg', '/content/gdrive/MyDrive/data/com_data/images_c/가방사진 (378).jpg', '/content/gdrive/MyDrive/data/com_data/images_c/가방사진 (115).jpg', '/content/gdrive/MyDrive/data/com_data/images_c/가방사진 (323).jpg', '/content/gdrive/MyDrive/data/com_data/images_c/가방사진 (128).jpg', '/content/gdrive/MyDrive/data/com_data/images_c/가방사진 (219).jpg', '/content/gdrive/MyDrive/data/com_data/images_c/가방사진 (29).jpg', '/content/gdrive/MyDrive/data/com_data/images_c/가방사진 (327).jpg', '/content/gdrive/MyDrive/data/com_data/images_c/가방사진 (152).jpg', '/content/gdrive/MyDrive/data/com_data/images_c/가방사진 (263).jpg', '/content/gdrive/MyDrive/data/com_data/images_c/가방사진 (438).jpg', '/content/gdrive/MyDrive/data/com_data/images_c/가방사진 (434).jpg', '/content/gdrive/MyDrive/data/com_data/images_c/가방사진 (330).jpg', '/content/gdrive/MyDrive/data/com_data/images_c/가방사진 (127).jpg', '/content/gdrive/MyDrive/data/com_data/images_c/가방사진 (2).jpg', '/content/gdrive/MyDrive/data/com_data/images_c/가방사진 (126).jpg', '/content/gdrive/MyDrive/data/com_data/images_c/가방사진 (190).jpg', '/content/gdrive/MyDrive/data/com_data/images_c/가방사진 (356).jpg', '/content/gdrive/MyDrive/data/com_data/images_c/가방사진 (180).jpg', '/content/gdrive/MyDrive/data/com_data/images_c/가방사진 (359).jpg', '/content/gdrive/MyDrive/data/com_data/images_c/가방사진 (186).jpg', '/content/gdrive/MyDrive/data/com_data/images_c/가방사진 (432).jpg', '/content/gdrive/MyDrive/data/com_data/images_c/가방사진 (104).jpg', '/content/gdrive/MyDrive/data/com_data/images_c/가방사진 (145).jpg', '/content/gdrive/MyDrive/data/com_data/images_c/가방사진 (27).jpg', '/content/gdrive/MyDrive/data/com_data/images_c/가방사진 (160).jpg', '/content/gdrive/MyDrive/data/com_data/images_c/가방사진 (377).jpg', '/content/gdrive/MyDrive/data/com_data/images_c/가방사진 (299).jpg', '/content/gdrive/MyDrive/data/com_data/images_c/가방사진 (134).jpg', '/content/gdrive/MyDrive/data/com_data/images_c/가방사진 (229).jpg', '/content/gdrive/MyDrive/data/com_data/images_c/가방사진 (261).jpg', '/content/gdrive/MyDrive/data/com_data/images_c/가방사진 (478).jpg', '/content/gdrive/MyDrive/data/com_data/images_c/가방사진 (387).jpg', '/content/gdrive/MyDrive/data/com_data/images_c/가방사진 (433).jpg', '/content/gdrive/MyDrive/data/com_data/images_c/가방사진 (24).jpg', '/content/gdrive/MyDrive/data/com_data/images_c/가방사진 (290).jpg', '/content/gdrive/MyDrive/data/com_data/images_c/가방사진 (196).jpg', '/content/gdrive/MyDrive/data/com_data/images_c/가방사진 (184).jpg', '/content/gdrive/MyDrive/data/com_data/images_c/가방사진 (286).jpg', '/content/gdrive/MyDrive/data/com_data/images_c/가방사진 (469).jpg', '/content/gdrive/MyDrive/data/com_data/images_c/가방사진 (344).jpg', '/content/gdrive/MyDrive/data/com_data/images_c/가방사진 (371).jpg', '/content/gdrive/MyDrive/data/com_data/images_c/가방사진 (440).jpg', '/content/gdrive/MyDrive/data/com_data/images_c/가방사진 (164).jpg', '/content/gdrive/MyDrive/data/com_data/images_c/가방사진 (262).jpg', '/content/gdrive/MyDrive/data/com_data/images_c/가방사진 (334).jpg', '/content/gdrive/MyDrive/data/com_data/images_c/가방사진 (265).jpg', '/content/gdrive/MyDrive/data/com_data/images_c/가방사진 (466).jpg', '/content/gdrive/MyDrive/data/com_data/images_c/가방사진 (224).jpg', '/content/gdrive/MyDrive/data/com_data/images_c/가방사진 (419).jpg', '/content/gdrive/MyDrive/data/com_data/images_c/가방사진 (403).jpg', '/content/gdrive/MyDrive/data/com_data/images_c/가방사진 (153).jpg', '/content/gdrive/MyDrive/data/com_data/images_c/가방사진 (357).jpg', '/content/gdrive/MyDrive/data/com_data/images_c/가방사진 (125).jpg', '/content/gdrive/MyDrive/data/com_data/images_c/가방사진 (367).jpg', '/content/gdrive/MyDrive/data/com_data/images_c/가방사진 (431).jpg', '/content/gdrive/MyDrive/data/com_data/images_c/가방사진 (303).jpg', '/content/gdrive/MyDrive/data/com_data/images_c/가방사진 (395).jpg', '/content/gdrive/MyDrive/data/com_data/images_c/가방사진 (123).jpg', '/content/gdrive/MyDrive/data/com_data/images_c/가방사진 (120).jpg', '/content/gdrive/MyDrive/data/com_data/images_c/가방사진 (230).jpg', '/content/gdrive/MyDrive/data/com_data/images_c/가방사진 (10).jpg', '/content/gdrive/MyDrive/data/com_data/images_c/가방사진 (18).jpg', '/content/gdrive/MyDrive/data/com_data/images_c/가방사진 (42).jpg', '/content/gdrive/MyDrive/data/com_data/images_c/가방사진 (325).jpg', '/content/gdrive/MyDrive/data/com_data/images_c/가방사진 (239).jpg', '/content/gdrive/MyDrive/data/com_data/images_c/가방사진 (103).jpg', '/content/gdrive/MyDrive/data/com_data/images_c/가방사진 (442).jpg', '/content/gdrive/MyDrive/data/com_data/images_c/가방사진 (108).jpg', '/content/gdrive/MyDrive/data/com_data/images_c/가방사진 (179).jpg', '/content/gdrive/MyDrive/data/com_data/images_c/가방사진 (282).jpg', '/content/gdrive/MyDrive/data/com_data/images_c/가방사진 (114).jpg', '/content/gdrive/MyDrive/data/com_data/images_c/가방사진 (210).jpg', '/content/gdrive/MyDrive/data/com_data/images_c/가방사진 (362).jpg', '/content/gdrive/MyDrive/data/com_data/images_c/가방사진 (1).jpg', '/content/gdrive/MyDrive/data/com_data/images_c/가방사진 (404).jpg', '/content/gdrive/MyDrive/data/com_data/images_c/가방사진 (241).jpg', '/content/gdrive/MyDrive/data/com_data/images_c/가방사진 (172).jpg', '/content/gdrive/MyDrive/data/com_data/images_c/가방사진 (46).jpg', '/content/gdrive/MyDrive/data/com_data/images_c/가방사진 (289).jpg', '/content/gdrive/MyDrive/data/com_data/images_c/가방사진 (414).jpg', '/content/gdrive/MyDrive/data/com_data/images_c/가방사진 (453).jpg', '/content/gdrive/MyDrive/data/com_data/images_c/가방사진 (253).jpg', '/content/gdrive/MyDrive/data/com_data/images_c/가방사진 (217).jpg', '/content/gdrive/MyDrive/data/com_data/images_c/가방사진 (222).jpg', '/content/gdrive/MyDrive/data/com_data/images_c/가방사진 (489).jpg', '/content/gdrive/MyDrive/data/com_data/images_c/가방사진 (452).jpg', '/content/gdrive/MyDrive/data/com_data/images_c/가방사진 (34).jpg', '/content/gdrive/MyDrive/data/com_data/images_c/가방사진 (476).jpg', '/content/gdrive/MyDrive/data/com_data/images_c/가방사진 (430).jpg', '/content/gdrive/MyDrive/data/com_data/images_c/가방사진 (254).jpg', '/content/gdrive/MyDrive/data/com_data/images_c/가방사진 (176).jpg', '/content/gdrive/MyDrive/data/com_data/images_c/가방사진 (375).jpg', '/content/gdrive/MyDrive/data/com_data/images_c/가방사진 (138).jpg', '/content/gdrive/MyDrive/data/com_data/images_c/가방사진 (4).jpg', '/content/gdrive/MyDrive/data/com_data/images_c/가방사진 (361).jpg', '/content/gdrive/MyDrive/data/com_data/images_c/가방사진 (386).jpg', '/content/gdrive/MyDrive/data/com_data/images_c/가방사진 (287).jpg', '/content/gdrive/MyDrive/data/com_data/images_c/가방사진 (203).jpg', '/content/gdrive/MyDrive/data/com_data/images_c/가방사진 (44).jpg', '/content/gdrive/MyDrive/data/com_data/images_c/가방사진 (273).jpg', '/content/gdrive/MyDrive/data/com_data/images_c/가방사진 (139).jpg', '/content/gdrive/MyDrive/data/com_data/images_c/가방사진 (353).jpg', '/content/gdrive/MyDrive/data/com_data/images_c/가방사진 (381).jpg', '/content/gdrive/MyDrive/data/com_data/images_c/가방사진 (269).jpg', '/content/gdrive/MyDrive/data/com_data/images_c/가방사진 (116).jpg', '/content/gdrive/MyDrive/data/com_data/images_c/가방사진 (32).jpg', '/content/gdrive/MyDrive/data/com_data/images_c/가방사진 (233).jpg', '/content/gdrive/MyDrive/data/com_data/images_c/가방사진 (15).jpg', '/content/gdrive/MyDrive/data/com_data/images_c/가방사진 (157).jpg', '/content/gdrive/MyDrive/data/com_data/images_c/가방사진 (416).jpg', '/content/gdrive/MyDrive/data/com_data/images_c/가방사진 (23).jpg', '/content/gdrive/MyDrive/data/com_data/images_c/가방사진 (436).jpg', '/content/gdrive/MyDrive/data/com_data/images_c/가방사진 (314).jpg', '/content/gdrive/MyDrive/data/com_data/images_c/가방사진 (129).jpg', '/content/gdrive/MyDrive/data/com_data/images_c/가방사진 (244).jpg', '/content/gdrive/MyDrive/data/com_data/images_c/가방사진 (231).jpg', '/content/gdrive/MyDrive/data/com_data/images_c/가방사진 (225).jpg', '/content/gdrive/MyDrive/data/com_data/images_c/가방사진 (198).jpg', '/content/gdrive/MyDrive/data/com_data/images_c/가방사진 (218).jpg', '/content/gdrive/MyDrive/data/com_data/images_c/가방사진 (338).jpg', '/content/gdrive/MyDrive/data/com_data/images_c/가방사진 (240).jpg', '/content/gdrive/MyDrive/data/com_data/images_c/가방사진 (316).jpg', '/content/gdrive/MyDrive/data/com_data/images_c/가방사진 (365).jpg', '/content/gdrive/MyDrive/data/com_data/images_c/가방사진 (252).jpg', '/content/gdrive/MyDrive/data/com_data/images_c/가방사진 (202).jpg', '/content/gdrive/MyDrive/data/com_data/images_c/가방사진 (322).jpg', '/content/gdrive/MyDrive/data/com_data/images_c/가방사진 (135).jpg', '/content/gdrive/MyDrive/data/com_data/images_c/가방사진 (332).jpg', '/content/gdrive/MyDrive/data/com_data/images_c/가방사진 (47).jpg', '/content/gdrive/MyDrive/data/com_data/images_c/가방사진 (339).jpg', '/content/gdrive/MyDrive/data/com_data/images_c/가방사진 (156).jpg', '/content/gdrive/MyDrive/data/com_data/images_c/가방사진 (390).jpg', '/content/gdrive/MyDrive/data/com_data/images_c/가방사진 (102).jpg', '/content/gdrive/MyDrive/data/com_data/images_c/가방사진 (343).jpg', '/content/gdrive/MyDrive/data/com_data/images_c/가방사진 (113).jpg', '/content/gdrive/MyDrive/data/com_data/images_c/가방사진 (144).jpg', '/content/gdrive/MyDrive/data/com_data/images_c/가방사진 (249).jpg', '/content/gdrive/MyDrive/data/com_data/images_c/가방사진 (227).jpg', '/content/gdrive/MyDrive/data/com_data/images_c/가방사진 (354).jpg', '/content/gdrive/MyDrive/data/com_data/images_c/가방사진 (380).jpg', '/content/gdrive/MyDrive/data/com_data/images_c/가방사진 (21).jpg', '/content/gdrive/MyDrive/data/com_data/images_c/가방사진 (274).jpg', '/content/gdrive/MyDrive/data/com_data/images_c/가방사진 (470).jpg', '/content/gdrive/MyDrive/data/com_data/images_c/가방사진 (388).jpg', '/content/gdrive/MyDrive/data/com_data/images_c/가방사진 (328).jpg', '/content/gdrive/MyDrive/data/com_data/images_c/가방사진 (168).jpg', '/content/gdrive/MyDrive/data/com_data/images_c/가방사진 (187).jpg', '/content/gdrive/MyDrive/data/com_data/images_c/가방사진 (272).jpg', '/content/gdrive/MyDrive/data/com_data/images_c/가방사진 (437).jpg', '/content/gdrive/MyDrive/data/com_data/images_c/가방사진 (283).jpg', '/content/gdrive/MyDrive/data/com_data/images_c/가방사진 (159).jpg', '/content/gdrive/MyDrive/data/com_data/images_c/가방사진 (294).jpg', '/content/gdrive/MyDrive/data/com_data/images_c/가방사진 (43).jpg', '/content/gdrive/MyDrive/data/com_data/images_c/가방사진 (207).jpg', '/content/gdrive/MyDrive/data/com_data/images_c/가방사진 (428).jpg', '/content/gdrive/MyDrive/data/com_data/images_c/가방사진 (468).jpg', '/content/gdrive/MyDrive/data/com_data/images_c/가방사진 (208).jpg', '/content/gdrive/MyDrive/data/com_data/images_c/가방사진 (335).jpg', '/content/gdrive/MyDrive/data/com_data/images_c/가방사진 (352).jpg', '/content/gdrive/MyDrive/data/com_data/images_c/가방사진 (204).jpg', '/content/gdrive/MyDrive/data/com_data/images_c/가방사진 (458).jpg', '/content/gdrive/MyDrive/data/com_data/images_c/가방사진 (392).jpg', '/content/gdrive/MyDrive/data/com_data/images_c/가방사진 (250).jpg', '/content/gdrive/MyDrive/data/com_data/images_c/가방사진 (3).jpg', '/content/gdrive/MyDrive/data/com_data/images_c/가방사진 (26).jpg', '/content/gdrive/MyDrive/data/com_data/images_c/가방사진 (17).jpg', '/content/gdrive/MyDrive/data/com_data/images_c/가방사진 (255).jpg', '/content/gdrive/MyDrive/data/com_data/images_c/가방사진 (267).jpg', '/content/gdrive/MyDrive/data/com_data/images_c/가방사진 (461).jpg', '/content/gdrive/MyDrive/data/com_data/images_c/가방사진 (30).jpg', '/content/gdrive/MyDrive/data/com_data/images_c/가방사진 (402).jpg', '/content/gdrive/MyDrive/data/com_data/images_c/가방사진 (170).jpg', '/content/gdrive/MyDrive/data/com_data/images_c/가방사진 (312).jpg', '/content/gdrive/MyDrive/data/com_data/images_c/가방사진 (456).jpg', '/content/gdrive/MyDrive/data/com_data/images_c/가방사진 (396).jpg', '/content/gdrive/MyDrive/data/com_data/images_c/가방사진 (379).jpg', '/content/gdrive/MyDrive/data/com_data/images_c/가방사진 (319).jpg', '/content/gdrive/MyDrive/data/com_data/images_c/가방사진 (38).jpg', '/content/gdrive/MyDrive/data/com_data/images_c/가방사진 (173).jpg', '/content/gdrive/MyDrive/data/com_data/images_c/가방사진 (318).jpg', '/content/gdrive/MyDrive/data/com_data/images_c/가방사진 (166).jpg', '/content/gdrive/MyDrive/data/com_data/images_c/가방사진 (459).jpg', '/content/gdrive/MyDrive/data/com_data/images_c/가방사진 (486).jpg', '/content/gdrive/MyDrive/data/com_data/images_c/가방사진 (397).jpg', '/content/gdrive/MyDrive/data/com_data/images_c/가방사진 (247).jpg', '/content/gdrive/MyDrive/data/com_data/images_c/가방사진 (136).jpg', '/content/gdrive/MyDrive/data/com_data/images_c/가방사진 (221).jpg', '/content/gdrive/MyDrive/data/com_data/images_c/가방사진 (192).jpg', '/content/gdrive/MyDrive/data/com_data/images_c/가방사진 (350).jpg', '/content/gdrive/MyDrive/data/com_data/images_c/가방사진 (36).jpg', '/content/gdrive/MyDrive/data/com_data/images_c/가방사진 (35).jpg', '/content/gdrive/MyDrive/data/com_data/images_c/가방사진 (238).jpg', '/content/gdrive/MyDrive/data/com_data/images_c/가방사진 (406).jpg', '/content/gdrive/MyDrive/data/com_data/images_c/가방사진 (336).jpg', '/content/gdrive/MyDrive/data/com_data/images_c/가방사진 (480).jpg', '/content/gdrive/MyDrive/data/com_data/images_c/가방사진 (264).jpg', '/content/gdrive/MyDrive/data/com_data/images_c/가방사진 (308).jpg', '/content/gdrive/MyDrive/data/com_data/images_c/가방사진 (106).jpg', '/content/gdrive/MyDrive/data/com_data/images_c/가방사진 (407).jpg', '/content/gdrive/MyDrive/data/com_data/images_c/가방사진 (326).jpg', '/content/gdrive/MyDrive/data/com_data/images_c/가방사진 (13).jpg', '/content/gdrive/MyDrive/data/com_data/images_c/가방사진 (285).jpg', '/content/gdrive/MyDrive/data/com_data/images_c/가방사진 (321).jpg', '/content/gdrive/MyDrive/data/com_data/images_c/가방사진 (475).jpg', '/content/gdrive/MyDrive/data/com_data/images_c/가방사진 (369).jpg', '/content/gdrive/MyDrive/data/com_data/images_c/가방사진 (292).jpg', '/content/gdrive/MyDrive/data/com_data/images_c/가방사진 (482).jpg', '/content/gdrive/MyDrive/data/com_data/images_c/가방사진 (237).jpg', '/content/gdrive/MyDrive/data/com_data/images_c/가방사진 (415).jpg', '/content/gdrive/MyDrive/data/com_data/images_c/가방사진 (248).jpg', '/content/gdrive/MyDrive/data/com_data/images_c/가방사진 (333).jpg', '/content/gdrive/MyDrive/data/com_data/images_c/가방사진 (460).jpg', '/content/gdrive/MyDrive/data/com_data/images_c/가방사진 (275).jpg', '/content/gdrive/MyDrive/data/com_data/images_c/가방사진 (151).jpg', '/content/gdrive/MyDrive/data/com_data/images_c/가방사진 (382).jpg', '/content/gdrive/MyDrive/data/com_data/images_c/가방사진 (426).jpg', '/content/gdrive/MyDrive/data/com_data/images_c/가방사진 (408).jpg', '/content/gdrive/MyDrive/data/com_data/images_c/가방사진 (420).jpg', '/content/gdrive/MyDrive/data/com_data/images_c/가방사진 (305).jpg', '/content/gdrive/MyDrive/data/com_data/images_c/가방사진 (141).jpg', '/content/gdrive/MyDrive/data/com_data/images_c/가방사진 (40).jpg', '/content/gdrive/MyDrive/data/com_data/images_c/가방사진 (201).jpg', '/content/gdrive/MyDrive/data/com_data/images_c/가방사진 (148).jpg', '/content/gdrive/MyDrive/data/com_data/images_c/가방사진 (435).jpg', '/content/gdrive/MyDrive/data/com_data/images_c/가방사진 (33).jpg', '/content/gdrive/MyDrive/data/com_data/images_c/가방사진 (296).jpg', '/content/gdrive/MyDrive/data/com_data/images_c/가방사진 (372).jpg', '/content/gdrive/MyDrive/data/com_data/images_c/가방사진 (259).jpg', '/content/gdrive/MyDrive/data/com_data/images_c/가방사진 (188).jpg', '/content/gdrive/MyDrive/data/com_data/images_c/가방사진 (119).jpg', '/content/gdrive/MyDrive/data/com_data/images_c/가방사진 (310).jpg', '/content/gdrive/MyDrive/data/com_data/images_c/가방사진 (111).jpg', '/content/gdrive/MyDrive/data/com_data/images_c/가방사진 (462).jpg', '/content/gdrive/MyDrive/data/com_data/images_c/가방사진 (331).jpg', '/content/gdrive/MyDrive/data/com_data/images_c/가방사진 (346).jpg', '/content/gdrive/MyDrive/data/com_data/images_c/가방사진 (448).jpg', '/content/gdrive/MyDrive/data/com_data/images_c/가방사진 (484).jpg', '/content/gdrive/MyDrive/data/com_data/images_c/가방사진 (39).jpg', '/content/gdrive/MyDrive/data/com_data/images_c/가방사진 (421).jpg', '/content/gdrive/MyDrive/data/com_data/images_c/가방사진 (441).jpg', '/content/gdrive/MyDrive/data/com_data/images_c/가방사진 (347).jpg', '/content/gdrive/MyDrive/data/com_data/images_c/가방사진 (417).jpg', '/content/gdrive/MyDrive/data/com_data/images_c/가방사진 (363).jpg', '/content/gdrive/MyDrive/data/com_data/images_c/가방사진 (199).jpg', '/content/gdrive/MyDrive/data/com_data/images_c/가방사진 (288).jpg', '/content/gdrive/MyDrive/data/com_data/images_c/가방사진 (427).jpg', '/content/gdrive/MyDrive/data/com_data/images_c/가방사진 (368).jpg', '/content/gdrive/MyDrive/data/com_data/images_c/가방사진 (463).jpg', '/content/gdrive/MyDrive/data/com_data/images_c/가방사진 (20).jpg', '/content/gdrive/MyDrive/data/com_data/images_c/가방사진 (112).jpg', '/content/gdrive/MyDrive/data/com_data/images_c/가방사진 (284).jpg', '/content/gdrive/MyDrive/data/com_data/images_c/가방사진 (389).jpg', '/content/gdrive/MyDrive/data/com_data/images_c/가방사진 (107).jpg', '/content/gdrive/MyDrive/data/com_data/images_c/가방사진 (477).jpg', '/content/gdrive/MyDrive/data/com_data/images_c/가방사진 (211).jpg', '/content/gdrive/MyDrive/data/com_data/images_c/가방사진 (472).jpg', '/content/gdrive/MyDrive/data/com_data/images_c/가방사진 (474).jpg', '/content/gdrive/MyDrive/data/com_data/images_c/가방사진 (488).jpg', '/content/gdrive/MyDrive/data/com_data/images_c/가방사진 (118).jpg', '/content/gdrive/MyDrive/data/com_data/images_c/가방사진 (178).jpg', '/content/gdrive/MyDrive/data/com_data/images_c/가방사진 (19).jpg', '/content/gdrive/MyDrive/data/com_data/images_c/가방사진 (194).jpg', '/content/gdrive/MyDrive/data/com_data/images_c/가방사진 (464).jpg', '/content/gdrive/MyDrive/data/com_data/images_c/가방사진 (418).jpg', '/content/gdrive/MyDrive/data/com_data/images_c/가방사진 (245).jpg', '/content/gdrive/MyDrive/data/com_data/images_c/가방사진 (394).jpg', '/content/gdrive/MyDrive/data/com_data/images_c/가방사진 (449).jpg', '/content/gdrive/MyDrive/data/com_data/images_c/가방사진 (358).jpg', '/content/gdrive/MyDrive/data/com_data/images_c/가방사진 (140).jpg', '/content/gdrive/MyDrive/data/com_data/images_c/가방사진 (220).jpg', '/content/gdrive/MyDrive/data/com_data/images_c/가방사진 (409).jpg', '/content/gdrive/MyDrive/data/com_data/images_c/가방사진 (483).jpg', '/content/gdrive/MyDrive/data/com_data/images_c/가방사진 (175).jpg', '/content/gdrive/MyDrive/data/com_data/images_c/가방사진 (412).jpg', '/content/gdrive/MyDrive/data/com_data/images_c/가방사진 (304).jpg', '/content/gdrive/MyDrive/data/com_data/images_c/가방사진 (355).jpg', '/content/gdrive/MyDrive/data/com_data/images_c/가방사진 (25).jpg', '/content/gdrive/MyDrive/data/com_data/images_c/가방사진 (297).jpg', '/content/gdrive/MyDrive/data/com_data/images_c/가방사진 (143).jpg', '/content/gdrive/MyDrive/data/com_data/images_c/가방사진 (45).jpg', '/content/gdrive/MyDrive/data/com_data/images_c/가방사진 (732).jpg', '/content/gdrive/MyDrive/data/com_data/images_c/가방사진 (506).jpg', '/content/gdrive/MyDrive/data/com_data/images_c/가방사진 (703).jpg', '/content/gdrive/MyDrive/data/com_data/images_c/가방사진 (651).jpg', '/content/gdrive/MyDrive/data/com_data/images_c/가방사진 (573).jpg', '/content/gdrive/MyDrive/data/com_data/images_c/가방사진 (51).jpg', '/content/gdrive/MyDrive/data/com_data/images_c/가방사진 (520).jpg', '/content/gdrive/MyDrive/data/com_data/images_c/가방사진 (62).jpg', '/content/gdrive/MyDrive/data/com_data/images_c/가방사진 (692).jpg', '/content/gdrive/MyDrive/data/com_data/images_c/가방사진 (680).jpg', '/content/gdrive/MyDrive/data/com_data/images_c/가방사진 (724).jpg', '/content/gdrive/MyDrive/data/com_data/images_c/가방사진 (709).jpg', '/content/gdrive/MyDrive/data/com_data/images_c/가방사진 (711).jpg', '/content/gdrive/MyDrive/data/com_data/images_c/가방사진 (578).jpg', '/content/gdrive/MyDrive/data/com_data/images_c/가방사진 (585).jpg', '/content/gdrive/MyDrive/data/com_data/images_c/가방사진 (517).jpg', '/content/gdrive/MyDrive/data/com_data/images_c/가방사진 (530).jpg', '/content/gdrive/MyDrive/data/com_data/images_c/가방사진 (558).jpg', '/content/gdrive/MyDrive/data/com_data/images_c/가방사진 (9).jpg', '/content/gdrive/MyDrive/data/com_data/images_c/가방사진 (569).jpg', '/content/gdrive/MyDrive/data/com_data/images_c/가방사진 (533).jpg', '/content/gdrive/MyDrive/data/com_data/images_c/가방사진 (675).jpg', '/content/gdrive/MyDrive/data/com_data/images_c/가방사진 (694).jpg', '/content/gdrive/MyDrive/data/com_data/images_c/가방사진 (613).jpg', '/content/gdrive/MyDrive/data/com_data/images_c/가방사진 (83).jpg', '/content/gdrive/MyDrive/data/com_data/images_c/가방사진 (737).jpg', '/content/gdrive/MyDrive/data/com_data/images_c/가방사진 (526).jpg', '/content/gdrive/MyDrive/data/com_data/images_c/가방사진 (599).jpg', '/content/gdrive/MyDrive/data/com_data/images_c/가방사진 (717).jpg', '/content/gdrive/MyDrive/data/com_data/images_c/가방사진 (91).jpg', '/content/gdrive/MyDrive/data/com_data/images_c/가방사진 (705).jpg', '/content/gdrive/MyDrive/data/com_data/images_c/가방사진 (554).jpg', '/content/gdrive/MyDrive/data/com_data/images_c/가방사진 (510).jpg', '/content/gdrive/MyDrive/data/com_data/images_c/가방사진 (537).jpg', '/content/gdrive/MyDrive/data/com_data/images_c/가방사진 (609).jpg', '/content/gdrive/MyDrive/data/com_data/images_c/가방사진 (546).jpg', '/content/gdrive/MyDrive/data/com_data/images_c/가방사진 (716).jpg', '/content/gdrive/MyDrive/data/com_data/images_c/가방사진 (498).jpg', '/content/gdrive/MyDrive/data/com_data/images_c/가방사진 (539).jpg', '/content/gdrive/MyDrive/data/com_data/images_c/가방사진 (614).jpg', '/content/gdrive/MyDrive/data/com_data/images_c/가방사진 (563).jpg', '/content/gdrive/MyDrive/data/com_data/images_c/가방사진 (610).jpg', '/content/gdrive/MyDrive/data/com_data/images_c/가방사진 (702).jpg', '/content/gdrive/MyDrive/data/com_data/images_c/가방사진 (612).jpg', '/content/gdrive/MyDrive/data/com_data/images_c/가방사진 (699).jpg', '/content/gdrive/MyDrive/data/com_data/images_c/가방사진 (545).jpg', '/content/gdrive/MyDrive/data/com_data/images_c/가방사진 (687).jpg', '/content/gdrive/MyDrive/data/com_data/images_c/가방사진 (90).jpg', '/content/gdrive/MyDrive/data/com_data/images_c/가방사진 (620).jpg', '/content/gdrive/MyDrive/data/com_data/images_c/가방사진 (618).jpg', '/content/gdrive/MyDrive/data/com_data/images_c/가방사진 (650).jpg', '/content/gdrive/MyDrive/data/com_data/images_c/가방사진 (729).jpg', '/content/gdrive/MyDrive/data/com_data/images_c/가방사진 (564).jpg', '/content/gdrive/MyDrive/data/com_data/images_c/가방사진 (82).jpg', '/content/gdrive/MyDrive/data/com_data/images_c/가방사진 (568).jpg', '/content/gdrive/MyDrive/data/com_data/images_c/가방사진 (611).jpg', '/content/gdrive/MyDrive/data/com_data/images_c/가방사진 (67).jpg', '/content/gdrive/MyDrive/data/com_data/images_c/가방사진 (603).jpg', '/content/gdrive/MyDrive/data/com_data/images_c/가방사진 (722).jpg', '/content/gdrive/MyDrive/data/com_data/images_c/가방사진 (637).jpg', '/content/gdrive/MyDrive/data/com_data/images_c/가방사진 (606).jpg', '/content/gdrive/MyDrive/data/com_data/images_c/가방사진 (7).jpg', '/content/gdrive/MyDrive/data/com_data/images_c/가방사진 (70).jpg', '/content/gdrive/MyDrive/data/com_data/images_c/가방사진 (652).jpg', '/content/gdrive/MyDrive/data/com_data/images_c/가방사진 (617).jpg', '/content/gdrive/MyDrive/data/com_data/images_c/가방사진 (656).jpg', '/content/gdrive/MyDrive/data/com_data/images_c/가방사진 (727).jpg', '/content/gdrive/MyDrive/data/com_data/images_c/가방사진 (582).jpg', '/content/gdrive/MyDrive/data/com_data/images_c/가방사진 (588).jpg', '/content/gdrive/MyDrive/data/com_data/images_c/가방사진 (532).jpg', '/content/gdrive/MyDrive/data/com_data/images_c/가방사진 (695).jpg', '/content/gdrive/MyDrive/data/com_data/images_c/가방사진 (93).jpg', '/content/gdrive/MyDrive/data/com_data/images_c/가방사진 (688).jpg', '/content/gdrive/MyDrive/data/com_data/images_c/가방사진 (641).jpg', '/content/gdrive/MyDrive/data/com_data/images_c/가방사진 (581).jpg', '/content/gdrive/MyDrive/data/com_data/images_c/가방사진 (79).jpg', '/content/gdrive/MyDrive/data/com_data/images_c/가방사진 (720).jpg', '/content/gdrive/MyDrive/data/com_data/images_c/가방사진 (571).jpg', '/content/gdrive/MyDrive/data/com_data/images_c/가방사진 (538).jpg', '/content/gdrive/MyDrive/data/com_data/images_c/가방사진 (653).jpg', '/content/gdrive/MyDrive/data/com_data/images_c/가방사진 (98).jpg', '/content/gdrive/MyDrive/data/com_data/images_c/가방사진 (630).jpg', '/content/gdrive/MyDrive/data/com_data/images_c/가방사진 (60).jpg', '/content/gdrive/MyDrive/data/com_data/images_c/가방사진 (89).jpg', '/content/gdrive/MyDrive/data/com_data/images_c/가방사진 (625).jpg', '/content/gdrive/MyDrive/data/com_data/images_c/가방사진 (682).jpg', '/content/gdrive/MyDrive/data/com_data/images_c/가방사진 (718).jpg', '/content/gdrive/MyDrive/data/com_data/images_c/가방사진 (707).jpg', '/content/gdrive/MyDrive/data/com_data/images_c/가방사진 (92).jpg', '/content/gdrive/MyDrive/data/com_data/images_c/가방사진 (673).jpg', '/content/gdrive/MyDrive/data/com_data/images_c/가방사진 (85).jpg', '/content/gdrive/MyDrive/data/com_data/images_c/가방사진 (95).jpg', '/content/gdrive/MyDrive/data/com_data/images_c/가방사진 (728).jpg', '/content/gdrive/MyDrive/data/com_data/images_c/가방사진 (6).jpg', '/content/gdrive/MyDrive/data/com_data/images_c/가방사진 (632).jpg', '/content/gdrive/MyDrive/data/com_data/images_c/가방사진 (521).jpg', '/content/gdrive/MyDrive/data/com_data/images_c/가방사진 (634).jpg', '/content/gdrive/MyDrive/data/com_data/images_c/가방사진 (672).jpg', '/content/gdrive/MyDrive/data/com_data/images_c/가방사진 (666).jpg', '/content/gdrive/MyDrive/data/com_data/images_c/가방사진 (683).jpg', '/content/gdrive/MyDrive/data/com_data/images_c/가방사진 (584).jpg', '/content/gdrive/MyDrive/data/com_data/images_c/가방사진 (56).jpg', '/content/gdrive/MyDrive/data/com_data/images_c/가방사진 (665).jpg', '/content/gdrive/MyDrive/data/com_data/images_c/가방사진 (540).jpg', '/content/gdrive/MyDrive/data/com_data/images_c/가방사진 (8).jpg', '/content/gdrive/MyDrive/data/com_data/images_c/가방사진 (660).jpg', '/content/gdrive/MyDrive/data/com_data/images_c/가방사진 (75).jpg', '/content/gdrive/MyDrive/data/com_data/images_c/가방사진 (509).jpg', '/content/gdrive/MyDrive/data/com_data/images_c/가방사진 (87).jpg', '/content/gdrive/MyDrive/data/com_data/images_c/가방사진 (713).jpg', '/content/gdrive/MyDrive/data/com_data/images_c/가방사진 (49).jpg', '/content/gdrive/MyDrive/data/com_data/images_c/가방사진 (696).jpg', '/content/gdrive/MyDrive/data/com_data/images_c/가방사진 (684).jpg', '/content/gdrive/MyDrive/data/com_data/images_c/가방사진 (541).jpg', '/content/gdrive/MyDrive/data/com_data/images_c/가방사진 (502).jpg', '/content/gdrive/MyDrive/data/com_data/images_c/가방사진 (678).jpg', '/content/gdrive/MyDrive/data/com_data/images_c/가방사진 (598).jpg', '/content/gdrive/MyDrive/data/com_data/images_c/가방사진 (78).jpg', '/content/gdrive/MyDrive/data/com_data/images_c/가방사진 (686).jpg', '/content/gdrive/MyDrive/data/com_data/images_c/가방사진 (661).jpg', '/content/gdrive/MyDrive/data/com_data/images_c/가방사진 (619).jpg', '/content/gdrive/MyDrive/data/com_data/images_c/가방사진 (731).jpg', '/content/gdrive/MyDrive/data/com_data/images_c/가방사진 (490).jpg', '/content/gdrive/MyDrive/data/com_data/images_c/가방사진 (500).jpg', '/content/gdrive/MyDrive/data/com_data/images_c/가방사진 (84).jpg', '/content/gdrive/MyDrive/data/com_data/images_c/가방사진 (595).jpg', '/content/gdrive/MyDrive/data/com_data/images_c/가방사진 (608).jpg', '/content/gdrive/MyDrive/data/com_data/images_c/가방사진 (503).jpg', '/content/gdrive/MyDrive/data/com_data/images_c/가방사진 (622).jpg', '/content/gdrive/MyDrive/data/com_data/images_c/가방사진 (86).jpg', '/content/gdrive/MyDrive/data/com_data/images_c/가방사진 (555).jpg', '/content/gdrive/MyDrive/data/com_data/images_c/가방사진 (59).jpg', '/content/gdrive/MyDrive/data/com_data/images_c/가방사진 (562).jpg', '/content/gdrive/MyDrive/data/com_data/images_c/가방사진 (511).jpg', '/content/gdrive/MyDrive/data/com_data/images_c/가방사진 (701).jpg', '/content/gdrive/MyDrive/data/com_data/images_c/가방사진 (529).jpg', '/content/gdrive/MyDrive/data/com_data/images_c/가방사진 (96).jpg', '/content/gdrive/MyDrive/data/com_data/images_c/가방사진 (572).jpg', '/content/gdrive/MyDrive/data/com_data/images_c/가방사진 (556).jpg', '/content/gdrive/MyDrive/data/com_data/images_c/가방사진 (706).jpg', '/content/gdrive/MyDrive/data/com_data/images_c/가방사진 (74).jpg', '/content/gdrive/MyDrive/data/com_data/images_c/가방사진 (712).jpg', '/content/gdrive/MyDrive/data/com_data/images_c/가방사진 (94).jpg', '/content/gdrive/MyDrive/data/com_data/images_c/가방사진 (551).jpg', '/content/gdrive/MyDrive/data/com_data/images_c/가방사진 (565).jpg', '/content/gdrive/MyDrive/data/com_data/images_c/가방사진 (523).jpg', '/content/gdrive/MyDrive/data/com_data/images_c/가방사진 (648).jpg', '/content/gdrive/MyDrive/data/com_data/images_c/가방사진 (590).jpg', '/content/gdrive/MyDrive/data/com_data/images_c/가방사진 (721).jpg', '/content/gdrive/MyDrive/data/com_data/images_c/가방사진 (685).jpg', '/content/gdrive/MyDrive/data/com_data/images_c/가방사진 (635).jpg', '/content/gdrive/MyDrive/data/com_data/images_c/가방사진 (670).jpg', '/content/gdrive/MyDrive/data/com_data/images_c/가방사진 (514).jpg', '/content/gdrive/MyDrive/data/com_data/images_c/가방사진 (54).jpg', '/content/gdrive/MyDrive/data/com_data/images_c/가방사진 (61).jpg', '/content/gdrive/MyDrive/data/com_data/images_c/가방사진 (66).jpg', '/content/gdrive/MyDrive/data/com_data/images_c/가방사진 (519).jpg', '/content/gdrive/MyDrive/data/com_data/images_c/가방사진 (596).jpg', '/content/gdrive/MyDrive/data/com_data/images_c/가방사진 (577).jpg', '/content/gdrive/MyDrive/data/com_data/images_c/가방사진 (544).jpg', '/content/gdrive/MyDrive/data/com_data/images_c/가방사진 (600).jpg', '/content/gdrive/MyDrive/data/com_data/images_c/가방사진 (71).jpg', '/content/gdrive/MyDrive/data/com_data/images_c/가방사진 (645).jpg', '/content/gdrive/MyDrive/data/com_data/images_c/가방사진 (697).jpg', '/content/gdrive/MyDrive/data/com_data/images_c/가방사진 (647).jpg', '/content/gdrive/MyDrive/data/com_data/images_c/가방사진 (535).jpg', '/content/gdrive/MyDrive/data/com_data/images_c/가방사진 (628).jpg', '/content/gdrive/MyDrive/data/com_data/images_c/가방사진 (664).jpg', '/content/gdrive/MyDrive/data/com_data/images_c/가방사진 (671).jpg', '/content/gdrive/MyDrive/data/com_data/images_c/가방사진 (81).jpg', '/content/gdrive/MyDrive/data/com_data/images_c/가방사진 (642).jpg', '/content/gdrive/MyDrive/data/com_data/images_c/가방사진 (615).jpg', '/content/gdrive/MyDrive/data/com_data/images_c/가방사진 (552).jpg', '/content/gdrive/MyDrive/data/com_data/images_c/가방사진 (633).jpg', '/content/gdrive/MyDrive/data/com_data/images_c/가방사진 (736).jpg', '/content/gdrive/MyDrive/data/com_data/images_c/가방사진 (68).jpg', '/content/gdrive/MyDrive/data/com_data/images_c/가방사진 (560).jpg', '/content/gdrive/MyDrive/data/com_data/images_c/가방사진 (592).jpg', '/content/gdrive/MyDrive/data/com_data/images_c/가방사진 (501).jpg', '/content/gdrive/MyDrive/data/com_data/images_c/가방사진 (97).jpg', '/content/gdrive/MyDrive/data/com_data/images_c/가방사진 (80).jpg', '/content/gdrive/MyDrive/data/com_data/images_c/가방사진 (719).jpg', '/content/gdrive/MyDrive/data/com_data/images_c/가방사진 (527).jpg', '/content/gdrive/MyDrive/data/com_data/images_c/가방사진 (528).jpg', '/content/gdrive/MyDrive/data/com_data/images_c/가방사진 (73).jpg', '/content/gdrive/MyDrive/data/com_data/images_c/가방사진 (605).jpg', '/content/gdrive/MyDrive/data/com_data/images_c/가방사진 (690).jpg', '/content/gdrive/MyDrive/data/com_data/images_c/가방사진 (493).jpg', '/content/gdrive/MyDrive/data/com_data/images_c/가방사진 (593).jpg', '/content/gdrive/MyDrive/data/com_data/images_c/가방사진 (733).jpg', '/content/gdrive/MyDrive/data/com_data/images_c/가방사진 (629).jpg', '/content/gdrive/MyDrive/data/com_data/images_c/가방사진 (601).jpg', '/content/gdrive/MyDrive/data/com_data/images_c/가방사진 (534).jpg', '/content/gdrive/MyDrive/data/com_data/images_c/가방사진 (64).jpg', '/content/gdrive/MyDrive/data/com_data/images_c/가방사진 (583).jpg', '/content/gdrive/MyDrive/data/com_data/images_c/가방사진 (655).jpg', '/content/gdrive/MyDrive/data/com_data/images_c/가방사진 (58).jpg', '/content/gdrive/MyDrive/data/com_data/images_c/가방사진 (624).jpg', '/content/gdrive/MyDrive/data/com_data/images_c/가방사진 (698).jpg', '/content/gdrive/MyDrive/data/com_data/images_c/가방사진 (715).jpg', '/content/gdrive/MyDrive/data/com_data/images_c/가방사진 (726).jpg', '/content/gdrive/MyDrive/data/com_data/images_c/가방사진 (587).jpg', '/content/gdrive/MyDrive/data/com_data/images_c/가방사진 (507).jpg', '/content/gdrive/MyDrive/data/com_data/images_c/가방사진 (531).jpg', '/content/gdrive/MyDrive/data/com_data/images_c/가방사진 (553).jpg', '/content/gdrive/MyDrive/data/com_data/images_c/가방사진 (525).jpg', '/content/gdrive/MyDrive/data/com_data/images_c/가방사진 (50).jpg', '/content/gdrive/MyDrive/data/com_data/images_c/가방사진 (504).jpg', '/content/gdrive/MyDrive/data/com_data/images_c/가방사진 (492).jpg', '/content/gdrive/MyDrive/data/com_data/images_c/가방사진 (594).jpg', '/content/gdrive/MyDrive/data/com_data/images_c/가방사진 (586).jpg', '/content/gdrive/MyDrive/data/com_data/images_c/가방사진 (57).jpg', '/content/gdrive/MyDrive/data/com_data/images_c/가방사진 (561).jpg', '/content/gdrive/MyDrive/data/com_data/images_c/가방사진 (536).jpg', '/content/gdrive/MyDrive/data/com_data/images_c/가방사진 (730).jpg', '/content/gdrive/MyDrive/data/com_data/images_c/가방사진 (55).jpg', '/content/gdrive/MyDrive/data/com_data/images_c/가방사진 (631).jpg', '/content/gdrive/MyDrive/data/com_data/images_c/가방사진 (597).jpg', '/content/gdrive/MyDrive/data/com_data/images_c/가방사진 (543).jpg', '/content/gdrive/MyDrive/data/com_data/images_c/가방사진 (676).jpg', '/content/gdrive/MyDrive/data/com_data/images_c/가방사진 (496).jpg', '/content/gdrive/MyDrive/data/com_data/images_c/가방사진 (689).jpg', '/content/gdrive/MyDrive/data/com_data/images_c/가방사진 (734).jpg', '/content/gdrive/MyDrive/data/com_data/images_c/가방사진 (65).jpg', '/content/gdrive/MyDrive/data/com_data/images_c/가방사진 (616).jpg', '/content/gdrive/MyDrive/data/com_data/images_c/가방사진 (522).jpg', '/content/gdrive/MyDrive/data/com_data/images_c/가방사진 (579).jpg', '/content/gdrive/MyDrive/data/com_data/images_c/가방사진 (512).jpg', '/content/gdrive/MyDrive/data/com_data/images_c/가방사진 (77).jpg', '/content/gdrive/MyDrive/data/com_data/images_c/가방사진 (649).jpg', '/content/gdrive/MyDrive/data/com_data/images_c/가방사진 (623).jpg', '/content/gdrive/MyDrive/data/com_data/images_c/가방사진 (638).jpg', '/content/gdrive/MyDrive/data/com_data/images_c/가방사진 (557).jpg', '/content/gdrive/MyDrive/data/com_data/images_c/가방사진 (574).jpg', '/content/gdrive/MyDrive/data/com_data/images_c/가방사진 (591).jpg', '/content/gdrive/MyDrive/data/com_data/images_c/가방사진 (604).jpg', '/content/gdrive/MyDrive/data/com_data/images_c/가방사진 (495).jpg', '/content/gdrive/MyDrive/data/com_data/images_c/가방사진 (515).jpg', '/content/gdrive/MyDrive/data/com_data/images_c/가방사진 (723).jpg', '/content/gdrive/MyDrive/data/com_data/images_c/가방사진 (621).jpg', '/content/gdrive/MyDrive/data/com_data/images_c/가방사진 (679).jpg', '/content/gdrive/MyDrive/data/com_data/images_c/가방사진 (654).jpg', '/content/gdrive/MyDrive/data/com_data/images_c/가방사진 (576).jpg', '/content/gdrive/MyDrive/data/com_data/images_c/가방사진 (714).jpg', '/content/gdrive/MyDrive/data/com_data/images_c/가방사진 (708).jpg', '/content/gdrive/MyDrive/data/com_data/images_c/가방사진 (63).jpg', '/content/gdrive/MyDrive/data/com_data/images_c/가방사진 (575).jpg', '/content/gdrive/MyDrive/data/com_data/images_c/가방사진 (494).jpg', '/content/gdrive/MyDrive/data/com_data/images_c/가방사진 (69).jpg', '/content/gdrive/MyDrive/data/com_data/images_c/가방사진 (508).jpg', '/content/gdrive/MyDrive/data/com_data/images_c/가방사진 (524).jpg', '/content/gdrive/MyDrive/data/com_data/images_c/가방사진 (547).jpg', '/content/gdrive/MyDrive/data/com_data/images_c/가방사진 (5).jpg', '/content/gdrive/MyDrive/data/com_data/images_c/가방사진 (505).jpg', '/content/gdrive/MyDrive/data/com_data/images_c/가방사진 (667).jpg', '/content/gdrive/MyDrive/data/com_data/images_c/가방사진 (602).jpg', '/content/gdrive/MyDrive/data/com_data/images_c/가방사진 (626).jpg', '/content/gdrive/MyDrive/data/com_data/images_c/가방사진 (513).jpg', '/content/gdrive/MyDrive/data/com_data/images_c/가방사진 (570).jpg', '/content/gdrive/MyDrive/data/com_data/images_c/가방사진 (499).jpg', '/content/gdrive/MyDrive/data/com_data/images_c/가방사진 (627).jpg', '/content/gdrive/MyDrive/data/com_data/images_c/가방사진 (693).jpg', '/content/gdrive/MyDrive/data/com_data/images_c/가방사진 (542).jpg', '/content/gdrive/MyDrive/data/com_data/images_c/가방사진 (725).jpg', '/content/gdrive/MyDrive/data/com_data/images_c/가방사진 (681).jpg', '/content/gdrive/MyDrive/data/com_data/images_c/가방사진 (559).jpg', '/content/gdrive/MyDrive/data/com_data/images_c/가방사진 (491).jpg', '/content/gdrive/MyDrive/data/com_data/images_c/가방사진 (548).jpg', '/content/gdrive/MyDrive/data/com_data/images_c/가방사진 (646).jpg', '/content/gdrive/MyDrive/data/com_data/images_c/가방사진 (567).jpg', '/content/gdrive/MyDrive/data/com_data/images_c/가방사진 (516).jpg', '/content/gdrive/MyDrive/data/com_data/images_c/가방사진 (497).jpg', '/content/gdrive/MyDrive/data/com_data/images_c/가방사진 (52).jpg', '/content/gdrive/MyDrive/data/com_data/images_c/446744_DTDIT_9022_004_100_0000_Light2.jpg', '/content/gdrive/MyDrive/data/com_data/images_c/446744_DTDIT_9022_004_100_0000_Light3.jpg', '/content/gdrive/MyDrive/data/com_data/images_c/636710_HUHHG_8565_003_083_0000_Light4.jpg', '/content/gdrive/MyDrive/data/com_data/images_c/446744_DTDIT_9022_004_100_0000_Light4.jpg', '/content/gdrive/MyDrive/data/com_data/images_c/602204_EY0RK_9978_001_074_0000_Light4.jpg', '/content/gdrive/MyDrive/data/com_data/images_c/446744_DTDIT_9022_003_055_0000_Light4.jpg', '/content/gdrive/MyDrive/data/com_data/images_c/503877_K05NG_8745_001_075_0000_Light5.jpg', '/content/gdrive/MyDrive/data/com_data/images_c/473875_K9RHT_8856_002_054_0045_Light5.jpg', '/content/gdrive/MyDrive/data/com_data/images_c/499621_K05NG_8745_003_065_0000_Light5.jpg', '/content/gdrive/MyDrive/data/com_data/images_c/400249_CAOGN_8176_004_074_0000_Light5.jpg', '/content/gdrive/MyDrive/data/com_data/images_c/443497_DTDIT_1000_003_063_0000_Light5.jpg', '/content/gdrive/MyDrive/data/com_data/images_c/421970_CAOGN_8176_003_065_0000_Light5.jpg', '/content/gdrive/MyDrive/data/com_data/images_c/400249_KHNRN_8698_003_075_0000_Light5.jpg', '/content/gdrive/MyDrive/data/com_data/images_c/448065_DTD1T_1000_003_054_0064_Light5.jpg', '/content/gdrive/MyDrive/data/com_data/images_c/421970_CAOGN_8176_004_065_0000_Light5.jpg', '/content/gdrive/MyDrive/data/com_data/images_c/403348_KHNRN_9769_002_077_0000_Light5.jpg', '/content/gdrive/MyDrive/data/com_data/images_c/400249_KHNRN_8698_001_075_0000_Light5.jpg', '/content/gdrive/MyDrive/data/com_data/images_c/400249_KHNRN_8698_002_075_0000_Light5.jpg', '/content/gdrive/MyDrive/data/com_data/images_c/400249_KHNRN_8642_001_076_0000_Light5.jpg', '/content/gdrive/MyDrive/data/com_data/images_c/443497_DTDIT_9022_003_063_0000_Light5.jpg', '/content/gdrive/MyDrive/data/com_data/images_c/400249_CAOGN_8176_006_074_0000_Light5.jpg', '/content/gdrive/MyDrive/data/com_data/images_c/421970_KHNRN_9769_002_065_0000_Light5.jpg', '/content/gdrive/MyDrive/data/com_data/images_c/400249_KHNRN_9769_001_073_0000_Light5.jpg', '/content/gdrive/MyDrive/data/com_data/images_c/400249_KHNRN_8642_003_076_0000_Light5.jpg', '/content/gdrive/MyDrive/data/com_data/images_c/400249_KHNRN_9769_002_073_0000_Light5.jpg', '/content/gdrive/MyDrive/data/com_data/images_c/400249_KHNRN_9769_003_073_0000_Light5.jpg', '/content/gdrive/MyDrive/data/com_data/images_c/421970_KHNRN_9769_003_065_0000_Light5.jpg', '/content/gdrive/MyDrive/data/com_data/images_c/400249_CAOGX_8990_004_073_0000_Light5.jpg', '/content/gdrive/MyDrive/data/com_data/images_c/448065_DTD1T_5729_001_054_0037_Light5.jpg', '/content/gdrive/MyDrive/data/com_data/images_c/503877_K05NG_8745_003_075_0000_Light5.jpg', '/content/gdrive/MyDrive/data/com_data/images_c/447632_DTD1T_1000_001_067_0038_Light5.jpg', '/content/gdrive/MyDrive/data/com_data/images_c/448065_DTD1T_5729_003_054_0037_Light5.jpg', '/content/gdrive/MyDrive/data/com_data/images_c/400249_KHNRN_8642_002_076_0000_Light5.jpg', '/content/gdrive/MyDrive/data/com_data/images_c/479197_KHNKG_8534_006_074_0000_Light5.jpg', '/content/gdrive/MyDrive/data/com_data/images_c/447632_DTD1T_1000_003_067_0038_Light5.jpg', '/content/gdrive/MyDrive/data/com_data/images_c/446744_DTDIT_9022_006_055_0000_Light5.jpg', '/content/gdrive/MyDrive/data/com_data/images_c/447632_DTD1T_6433_006_067_0058_Light5.jpg', '/content/gdrive/MyDrive/data/com_data/images_c/447632_DTD1T_1000_004_067_0038_Light5.jpg', '/content/gdrive/MyDrive/data/com_data/images_c/403348_KHNRN_9769_004_077_0000_Light5.jpg', '/content/gdrive/MyDrive/data/com_data/images_c/447632_DTD1T_9022_002_067_0036_Light5.jpg', '/content/gdrive/MyDrive/data/com_data/images_c/403348_KHNRN_9769_003_077_0000_Light5.jpg', '/content/gdrive/MyDrive/data/com_data/images_c/421970_KHNRN_9769_001_065_0000_Light5.jpg', '/content/gdrive/MyDrive/data/com_data/images_c/498156_KHNKG_8534_003_061_0020_Light5.jpg', '/content/gdrive/MyDrive/data/com_data/images_c/447632_DTD1T_1000_002_067_0038_Light5.jpg', '/content/gdrive/MyDrive/data/com_data/images_c/400249_KHNRN_8642_006_076_0000_Light5.jpg', '/content/gdrive/MyDrive/data/com_data/images_c/400249_CAOGX_8990_001_073_0000_Light5.jpg', '/content/gdrive/MyDrive/data/com_data/images_c/498156_KHNKG_8534_001_061_0020_Light5.jpg', '/content/gdrive/MyDrive/data/com_data/images_c/498156_KHNKG_8534_002_061_0020_Light5.jpg', '/content/gdrive/MyDrive/data/com_data/images_c/448065_DTD1T_1000_001_054_0064_Light5.jpg', '/content/gdrive/MyDrive/data/com_data/images_c/421970_KHNRN_8642_001_065_0000_Light5.jpg', '/content/gdrive/MyDrive/data/com_data/images_c/503877_K05NG_8745_002_075_0000_Light5.jpg', '/content/gdrive/MyDrive/data/com_data/images_c/447632_DTD1T_9022_003_067_0036_Light5.jpg', '/content/gdrive/MyDrive/data/com_data/images_c/473875_K9RHT_8856_003_054_0045_Light5.jpg', '/content/gdrive/MyDrive/data/com_data/images_c/476466_K9GVT_8856_004_081_0020_Light5.jpg', '/content/gdrive/MyDrive/data/com_data/images_c/479197_KHNKG_8534_004_074_0000_Light5.jpg', '/content/gdrive/MyDrive/data/com_data/images_c/400249_KHNRN_8698_004_075_0000_Light5.jpg', '/content/gdrive/MyDrive/data/com_data/images_c/448065_DTD1T_1000_002_054_0064_Light5.jpg', '/content/gdrive/MyDrive/data/com_data/images_c/400249_KHNRN_9769_004_073_0000_Light5.jpg', '/content/gdrive/MyDrive/data/com_data/images_c/403348_KHNRN_9769_001_077_0000_Light5.jpg', '/content/gdrive/MyDrive/data/com_data/images_c/421970_KHNRN_8642_002_065_0000_Light5.jpg', '/content/gdrive/MyDrive/data/com_data/images_c/499621_K05NG_8745_002_065_0000_Light5.jpg', '/content/gdrive/MyDrive/data/com_data/images_c/421970_KHNRN_8642_004_065_0000_Light5.jpg', '/content/gdrive/MyDrive/data/com_data/images_c/447632_DTD1T_9022_001_067_0036_Light5.jpg', '/content/gdrive/MyDrive/data/com_data/images_c/550618_96I3B_8745_001_061_0000_Light5.jpg', '/content/gdrive/MyDrive/data/com_data/images_c/602204_92TCG_8563_002_074_0000_Light5.jpg', '/content/gdrive/MyDrive/data/com_data/images_c/443497_DTDIT_6433_006_063_0000_Light5.jpg', '/content/gdrive/MyDrive/data/com_data/images_c/658574_HUHHG_9759_002_077_0067_Light5.jpg', '/content/gdrive/MyDrive/data/com_data/images_c/602204_EZ60G_9528_001_074_0000_Light5.jpg', '/content/gdrive/MyDrive/data/com_data/images_c/443497_DTDIT_1000_002_063_0000_Light5.jpg', '/content/gdrive/MyDrive/data/com_data/images_c/421970_CAOGN_2893_002_065_0000_Light5.jpg', '/content/gdrive/MyDrive/data/com_data/images_c/499621_K05NG_8745_001_065_0000_Light5.jpg', '/content/gdrive/MyDrive/data/com_data/images_c/602204_92TCG_8563_004_074_0000_Light5.jpg', '/content/gdrive/MyDrive/data/com_data/images_c/443497_DTDIT_9022_002_063_0000_Light5.jpg', '/content/gdrive/MyDrive/data/com_data/images_c/479197_KHNKG_9769_003_074_0000_Light5.jpg', '/content/gdrive/MyDrive/data/com_data/images_c/602204_EZ60G_9528_004_074_0000_Light5.jpg', '/content/gdrive/MyDrive/data/com_data/images_c/479197_KHNKG_9769_001_074_0000_Light5.jpg', '/content/gdrive/MyDrive/data/com_data/images_c/446744_DTDIT_1000_006_055_0000_Light5.jpg', '/content/gdrive/MyDrive/data/com_data/images_c/421970_0K7JN_9680_004_065_0000_Light5.jpg', '/content/gdrive/MyDrive/data/com_data/images_c/636709_10O0G_9022_003_080_0000_Light5.jpg', '/content/gdrive/MyDrive/data/com_data/images_c/550621_96I3B_8745_002_092_0000_Light5.jpg', '/content/gdrive/MyDrive/data/com_data/images_c/421970_0K7JN_9680_001_065_0000_Light5.jpg', '/content/gdrive/MyDrive/data/com_data/images_c/400249_0K7JN_9680_004_076_0000_Light5.jpg', '/content/gdrive/MyDrive/data/com_data/images_c/447632_DTD1T_5729_002_067_0029_Light5.jpg', '/content/gdrive/MyDrive/data/com_data/images_c/637091_10O0G_9022_001_053_0000_Light5.jpg', '/content/gdrive/MyDrive/data/com_data/images_c/550620_96I3B_8745_002_050_0000_Light5.jpg', '/content/gdrive/MyDrive/data/com_data/images_c/637091_10O0G_6638_002_053_0000_Light5.jpg', '/content/gdrive/MyDrive/data/com_data/images_c/658574_HUHHG_8565_004_077_0067_Light5.jpg', '/content/gdrive/MyDrive/data/com_data/images_c/443497_DTDIT_1000_004_063_0000_Light5.jpg', '/content/gdrive/MyDrive/data/com_data/images_c/602204_1DB0G_6638_003_074_0000_Light5.jpg', '/content/gdrive/MyDrive/data/com_data/images_c/602204_1DB0G_6638_001_074_0000_Light5.jpg', '/content/gdrive/MyDrive/data/com_data/images_c/421970_CAOGN_2893_001_065_0000_Light5.jpg', '/content/gdrive/MyDrive/data/com_data/images_c/636709_E0P0G_9528_003_080_0000_Light5.jpg', '/content/gdrive/MyDrive/data/com_data/images_c/479197_KHNKG_9761_002_074_0000_Light5.jpg', '/content/gdrive/MyDrive/data/com_data/images_c/443497_DTDIT_9022_001_063_0000_Light5.jpg', '/content/gdrive/MyDrive/data/com_data/images_c/575163_DTDRT_9022_001_065_0014_Light5.jpg', '/content/gdrive/MyDrive/data/com_data/images_c/443497_HVKEG_9772_002_062_0000_Light5.jpg', '/content/gdrive/MyDrive/data/com_data/images_c/598125_9IK3T_8745_004_080_0000_Light5.jpg', '/content/gdrive/MyDrive/data/com_data/images_c/602204_1DB0G_1000_002_074_0000_Light5.jpg', '/content/gdrive/MyDrive/data/com_data/images_c/400249_CAOGX_8990_002_073_0000_Light5.jpg', '/content/gdrive/MyDrive/data/com_data/images_c/443497_DTDIT_5729_002_063_0000_Light5.jpg', '/content/gdrive/MyDrive/data/com_data/images_c/658574_HUHHG_8565_001_077_0067_Light5.jpg', '/content/gdrive/MyDrive/data/com_data/images_c/443496_DTDIT_1000_006_066_0000_Light5.jpg', '/content/gdrive/MyDrive/data/com_data/images_c/499623_92TJN_9862_004_074_0000_Light5.jpg', '/content/gdrive/MyDrive/data/com_data/images_c/636709_10O0G_5815_001_080_0000_Light5.jpg', '/content/gdrive/MyDrive/data/com_data/images_c/602676_K05NB_8745_002_058_0000_Light5.jpg', '/content/gdrive/MyDrive/data/com_data/images_c/421970_CAOGN_8176_002_065_0000_Light5.jpg', '/content/gdrive/MyDrive/data/com_data/images_c/550621_96I3B_8745_003_092_0000_Light5.jpg', '/content/gdrive/MyDrive/data/com_data/images_c/602204_92TCG_9761_002_074_0000_Light5.jpg', '/content/gdrive/MyDrive/data/com_data/images_c/499623_92TJN_9862_001_074_0000_Light5.jpg', '/content/gdrive/MyDrive/data/com_data/images_c/498156_KHNKG_8534_004_061_0020_Light5.jpg', '/content/gdrive/MyDrive/data/com_data/images_c/601044_96IWB_8745_006_066_0000_Light5.jpg', '/content/gdrive/MyDrive/data/com_data/images_c/400249_0K7JN_9680_002_076_0000_Light5.jpg', '/content/gdrive/MyDrive/data/com_data/images_c/499623_92TJN_8660_003_074_0000_Light5.jpg', '/content/gdrive/MyDrive/data/com_data/images_c/498156_KHNKG_9769_001_061_0021_Light5.jpg', '/content/gdrive/MyDrive/data/com_data/images_c/409487_KLQJG_9785_003_067_0026_Light5.jpg', '/content/gdrive/MyDrive/data/com_data/images_c/447632_DTD1T_5729_003_067_0029_Light5.jpg', '/content/gdrive/MyDrive/data/com_data/images_c/443497_DTDIT_9022_004_063_0000_Light5.jpg', '/content/gdrive/MyDrive/data/com_data/images_c/645454_92TCG_9761_002_065_0000_Light5.jpg', '/content/gdrive/MyDrive/data/com_data/images_c/602204_EZ60G_9528_002_074_0000_Light5.jpg', '/content/gdrive/MyDrive/data/com_data/images_c/636709_E0P0G_9528_002_080_0000_Light5.jpg', '/content/gdrive/MyDrive/data/com_data/images_c/602204_1DB0G_1000_003_074_0000_Light5.jpg', '/content/gdrive/MyDrive/data/com_data/images_c/636709_10O0G_9022_001_080_0000_Light5.jpg', '/content/gdrive/MyDrive/data/com_data/images_c/499623_92TJN_8677_002_074_0000_Light5.jpg', '/content/gdrive/MyDrive/data/com_data/images_c/575163_DTDRT_1000_001_065_0014_Light5.jpg', '/content/gdrive/MyDrive/data/com_data/images_c/479197_KHNKG_9761_001_074_0000_Light5.jpg', '/content/gdrive/MyDrive/data/com_data/images_c/636706_HUHHG_8565_006_080_0000_Light5.jpg', '/content/gdrive/MyDrive/data/com_data/images_c/637091_10O0G_6638_003_053_0000_Light5.jpg', '/content/gdrive/MyDrive/data/com_data/images_c/637091_10O0G_6638_001_053_0000_Light5.jpg', '/content/gdrive/MyDrive/data/com_data/images_c/421970_CAOGN_2893_004_065_0000_Light5.jpg', '/content/gdrive/MyDrive/data/com_data/images_c/575163_DTDRT_1000_002_065_0014_Light5.jpg', '/content/gdrive/MyDrive/data/com_data/images_c/645454_92TCG_8563_003_065_0000_Light5.jpg', '/content/gdrive/MyDrive/data/com_data/images_c/575163_DTDRT_9022_002_065_0014_Light5.jpg', '/content/gdrive/MyDrive/data/com_data/images_c/547260_DTDIT_1000_003_068_0000_Light5.jpg', '/content/gdrive/MyDrive/data/com_data/images_c/547260_DTDIT_1000_004_068_0000_Light5.jpg', '/content/gdrive/MyDrive/data/com_data/images_c/443496_DTDIT_1000_004_066_0000_Light5.jpg', '/content/gdrive/MyDrive/data/com_data/images_c/409487_KLQJG_9785_002_067_0026_Light5.jpg', '/content/gdrive/MyDrive/data/com_data/images_c/421970_KHNRN_9769_004_065_0000_Light5.jpg', '/content/gdrive/MyDrive/data/com_data/images_c/575163_DTDRT_1000_004_065_0014_Light5.jpg', '/content/gdrive/MyDrive/data/com_data/images_c/636709_10O0G_9022_004_080_0000_Light5.jpg', '/content/gdrive/MyDrive/data/com_data/images_c/409487_KLQJG_9785_001_067_0026_Light5.jpg', '/content/gdrive/MyDrive/data/com_data/images_c/602676_K05NB_8745_001_058_0000_Light5.jpg', '/content/gdrive/MyDrive/data/com_data/images_c/443497_DTDIT_5729_003_063_0000_Light5.jpg', '/content/gdrive/MyDrive/data/com_data/images_c/447632_DTD1T_5729_001_067_0029_Light5.jpg', '/content/gdrive/MyDrive/data/com_data/images_c/447632_DTD1T_5729_004_067_0029_Light5.jpg', '/content/gdrive/MyDrive/data/com_data/images_c/498156_KHNKG_9769_002_061_0021_Light5.jpg', '/content/gdrive/MyDrive/data/com_data/images_c/636709_10O0G_1000_006_080_0000_Light5.jpg', '/content/gdrive/MyDrive/data/com_data/images_c/550621_96I3B_8745_004_092_0000_Light5.jpg', '/content/gdrive/MyDrive/data/com_data/images_c/421970_KHNRN_8642_003_065_0000_Light5.jpg', '/content/gdrive/MyDrive/data/com_data/images_c/479197_KHNKG_9761_004_074_0000_Light5.jpg', '/content/gdrive/MyDrive/data/com_data/images_c/479197_KHNKG_9769_002_074_0000_Light5.jpg', '/content/gdrive/MyDrive/data/com_data/images_c/550620_96I3B_8745_004_050_0000_Light5.jpg', '/content/gdrive/MyDrive/data/com_data/images_c/602204_1DB0G_6638_004_074_0000_Light5.jpg', '/content/gdrive/MyDrive/data/com_data/images_c/400249_0K7JN_9680_001_076_0000_Light5.jpg', '/content/gdrive/MyDrive/data/com_data/images_c/499623_92TJN_8660_004_074_0000_Light5.jpg', '/content/gdrive/MyDrive/data/com_data/images_c/499623_92TJN_9862_003_074_0000_Light5.jpg', '/content/gdrive/MyDrive/data/com_data/images_c/499623_92TJN_8677_003_074_0000_Light5.jpg', '/content/gdrive/MyDrive/data/com_data/images_c/547260_DTDIT_1000_002_068_0000_Light5.jpg', '/content/gdrive/MyDrive/data/com_data/images_c/658574_HUHHG_9759_001_077_0067_Light5.jpg', '/content/gdrive/MyDrive/data/com_data/images_c/636709_E0P0G_9528_001_080_0000_Light5.jpg', '/content/gdrive/MyDrive/data/com_data/images_c/602204_92TCG_8563_003_074_0000_Light5.jpg', '/content/gdrive/MyDrive/data/com_data/images_c/598125_9IK3T_8745_003_080_0000_Light5.jpg', '/content/gdrive/MyDrive/data/com_data/images_c/637091_10O0G_7636_001_053_0000_Light5.jpg', '/content/gdrive/MyDrive/data/com_data/images_c/575163_DTDRT_9022_003_065_0014_Light5.jpg', '/content/gdrive/MyDrive/data/com_data/images_c/550621_96I3B_8745_001_092_0000_Light5.jpg', '/content/gdrive/MyDrive/data/com_data/images_c/400249_0K7JN_9680_003_076_0000_Light5.jpg', '/content/gdrive/MyDrive/data/com_data/images_c/447632_HVKEG_9772_002_067_0039_Light5.jpg', '/content/gdrive/MyDrive/data/com_data/images_c/658574_HUHHG_8565_002_077_0067_Light5.jpg', '/content/gdrive/MyDrive/data/com_data/images_c/658574_18YSG_1060_004_077_0067_Light5.jpg', '/content/gdrive/MyDrive/data/com_data/images_c/409487_KLQJG_9785_004_067_0026_Light5.jpg', '/content/gdrive/MyDrive/data/com_data/images_c/575163_DTDRT_9022_004_065_0014_Light5.jpg', '/content/gdrive/MyDrive/data/com_data/images_c/645454_92TCG_8563_004_065_0000_Light5.jpg', '/content/gdrive/MyDrive/data/com_data/images_c/602204_92TCG_8563_001_074_0000_Light5.jpg', '/content/gdrive/MyDrive/data/com_data/images_c/443497_DTDIT_5729_001_063_0000_Light5.jpg', '/content/gdrive/MyDrive/data/com_data/images_c/499623_92TJN_8677_004_074_0000_Light5.jpg', '/content/gdrive/MyDrive/data/com_data/images_c/658574_18YSG_1060_006_077_0067_Light5.jpg', '/content/gdrive/MyDrive/data/com_data/images_c/443497_HVKEG_9772_004_062_0000_Light5.jpg', '/content/gdrive/MyDrive/data/com_data/images_c/636709_10O0G_4933_002_080_0000_Light5.jpg', '/content/gdrive/MyDrive/data/com_data/images_c/636709_10O0G_4933_001_080_0000_Light5.jpg', '/content/gdrive/MyDrive/data/com_data/images_c/550620_96I3B_8745_001_050_0000_Light5.jpg', '/content/gdrive/MyDrive/data/com_data/images_c/443497_DTDIT_5729_004_063_0000_Light5.jpg', '/content/gdrive/MyDrive/data/com_data/images_c/499623_92TJN_8660_002_074_0000_Light5.jpg', '/content/gdrive/MyDrive/data/com_data/images_c/448065_DTD1T_5729_002_054_0037_Light5.jpg', '/content/gdrive/MyDrive/data/com_data/images_c/645454_92TCG_8563_002_065_0000_Light5.jpg', '/content/gdrive/MyDrive/data/com_data/images_c/421970_CAOGN_8176_001_065_0000_Light5.jpg', '/content/gdrive/MyDrive/data/com_data/images_c/447632_HVKEG_9772_003_067_0039_Light5.jpg', '/content/gdrive/MyDrive/data/com_data/images_c/498156_KHNKG_9761_004_061_0014_Light5.jpg', '/content/gdrive/MyDrive/data/com_data/images_c/479197_KHNKG_9761_003_074_0000_Light5.jpg', '/content/gdrive/MyDrive/data/com_data/images_c/443497_HVKEG_9772_001_062_0000_Light5.jpg', '/content/gdrive/MyDrive/data/com_data/images_c/636709_10O0G_9022_002_080_0000_Light5.jpg', '/content/gdrive/MyDrive/data/com_data/images_c/473875_K9RHT_8856_001_054_0045_Light5.jpg', '/content/gdrive/MyDrive/data/com_data/images_c/421970_0K7JN_9680_002_065_0000_Light5.jpg', '/content/gdrive/MyDrive/data/com_data/images_c/498156_KHNKG_9769_004_061_0021_Light5.jpg', '/content/gdrive/MyDrive/data/com_data/images_c/575163_DTDRT_1000_003_065_0014_Light5.jpg', '/content/gdrive/MyDrive/data/com_data/images_c/602204_1DB0G_1000_004_074_0000_Light5.jpg', '/content/gdrive/MyDrive/data/com_data/images_c/547260_DTDIT_1000_001_068_0000_Light5.jpg', '/content/gdrive/MyDrive/data/com_data/images_c/602204_EZ60G_9528_003_074_0000_Light5.jpg', '/content/gdrive/MyDrive/data/com_data/images_c/602204_1DB0G_6638_002_074_0000_Light5.jpg', '/content/gdrive/MyDrive/data/com_data/images_c/550620_96I3B_8745_003_050_0000_Light5.jpg', '/content/gdrive/MyDrive/data/com_data/images_c/499621_K05NG_8745_004_065_0000_Light5.jpg', '/content/gdrive/MyDrive/data/com_data/images_c/421970_0K7JN_9680_003_065_0000_Light5.jpg', '/content/gdrive/MyDrive/data/com_data/images_c/499623_92TJN_9862_002_074_0000_Light5.jpg', '/content/gdrive/MyDrive/data/com_data/images_c/499623_92TJN_8660_001_074_0000_Light5.jpg', '/content/gdrive/MyDrive/data/com_data/images_c/499623_92TJN_8677_001_074_0000_Light5.jpg', '/content/gdrive/MyDrive/data/com_data/images_c/498156_KHNKG_9769_003_061_0021_Light5.jpg', '/content/gdrive/MyDrive/data/com_data/images_c/447632_HVKEG_9772_001_067_0039_Light5.jpg', '/content/gdrive/MyDrive/data/com_data/images_c/645454_92TCG_9761_004_065_0000_Light5.jpg', '/content/gdrive/MyDrive/data/com_data/images_c/400249_CAOGX_8990_003_073_0000_Light5.jpg', '/content/gdrive/MyDrive/data/com_data/images_c/658574_HUHHG_8565_003_077_0067_Light5.jpg', '/content/gdrive/MyDrive/data/com_data/images_c/400249_KHNRN_8642_004_076_0000_Light5.jpg', '/content/gdrive/MyDrive/data/com_data/images_c/479197_KHNKG_9769_004_074_0000_Light5.jpg', '/content/gdrive/MyDrive/data/com_data/images_c/602204_1DB0G_1000_001_074_0000_Light5.jpg', '/content/gdrive/MyDrive/data/com_data/images_c/637091_10O0G_9022_003_053_0000_Light5.jpg', '/content/gdrive/MyDrive/data/com_data/images_c/443497_UM8AN_1711_002_078_0038_Light5.jpg', '/content/gdrive/MyDrive/data/com_data/images_c/677286_HUHHX_8565_001_076_0067_Light5.jpg', '/content/gdrive/MyDrive/data/com_data/images_c/645454_92TCG_8563_001_065_0000_Light5.jpg', '/content/gdrive/MyDrive/data/com_data/images_c/636710_HUHHG_8565_002_083_0000_Light5.jpg', '/content/gdrive/MyDrive/data/com_data/images_c/443497_UM8AN_1000_002_063_0036_Light5.jpg', '/content/gdrive/MyDrive/data/com_data/images_c/443497_UM8AN_1711_004_078_0038_Light5.jpg', '/content/gdrive/MyDrive/data/com_data/images_c/636709_10O0G_6638_004_080_0000_Light5.jpg', '/content/gdrive/MyDrive/data/com_data/images_c/636709_10O0G_1000_004_080_0000_Light5.jpg', '/content/gdrive/MyDrive/data/com_data/images_c/686858_L4RET_8887_001_054_0000_Light5.jpg', '/content/gdrive/MyDrive/data/com_data/images_c/636709_10O0G_3120_002_080_0000_Light5.jpg', '/content/gdrive/MyDrive/data/com_data/images_c/634936_UM8BN_1000_003_067_0041_Light5.jpg', '/content/gdrive/MyDrive/data/com_data/images_c/421970_CAOGN_2893_003_065_0000_Light5.jpg', '/content/gdrive/MyDrive/data/com_data/images_c/686864_10ODT_7769_001_057_0000_Light5.jpg', '/content/gdrive/MyDrive/data/com_data/images_c/634936_UM8BN_1000_002_067_0041_Light5.jpg', '/content/gdrive/MyDrive/data/com_data/images_c/686864_10ODT_4371_004_057_0016_Light5.jpg', '/content/gdrive/MyDrive/data/com_data/images_c/446744_UM8AN_9022_004_055_0000_Light5.jpg', '/content/gdrive/MyDrive/data/com_data/images_c/686864_10ODT_4371_006_057_0016_Light5.jpg', '/content/gdrive/MyDrive/data/com_data/images_c/637091_10O0G_9022_002_053_0000_Light5.jpg', '/content/gdrive/MyDrive/data/com_data/images_c/550621_96I3B_9794_003_092_0000_Light5.jpg', '/content/gdrive/MyDrive/data/com_data/images_c/447632_UM8BN_1000_003_072_0000_Light5.jpg', '/content/gdrive/MyDrive/data/com_data/images_c/446744_UM8AN_9022_001_055_0000_Light5.jpg', '/content/gdrive/MyDrive/data/com_data/images_c/658574_HUHHG_9759_004_077_0067_Light5.jpg', '/content/gdrive/MyDrive/data/com_data/images_c/447632_UM8BN_9022_004_067_0032_Light5.jpg', '/content/gdrive/MyDrive/data/com_data/images_c/598125_9IK3T_8745_001_080_0000_Light5.jpg', '/content/gdrive/MyDrive/data/com_data/images_c/499623_UN3BN_1274_005_100_0000_Light5.jpg', '/content/gdrive/MyDrive/data/com_data/images_c/686864_10ODT_4371_002_057_0016_Light5.jpg', '/content/gdrive/MyDrive/data/com_data/images_c/675797_10ODT_8454_001_070_0000_Light5.jpg', '/content/gdrive/MyDrive/data/com_data/images_c/446744_UM8AN_1711_003_055_0000_Light5.jpg', '/content/gdrive/MyDrive/data/com_data/images_c/637091_10O0G_7636_004_053_0000_Light5.jpg', '/content/gdrive/MyDrive/data/com_data/images_c/447632_UM8BN_1711_001_072_0023_Light5.jpg', '/content/gdrive/MyDrive/data/com_data/images_c/550621_96I3B_9794_004_092_0000_Light5.jpg', '/content/gdrive/MyDrive/data/com_data/images_c/447632_UM8BN_2754_001_067_0037_Light5.jpg', '/content/gdrive/MyDrive/data/com_data/images_c/675797_10ODT_5467_002_070_0000_Light5.jpg', '/content/gdrive/MyDrive/data/com_data/images_c/443497_HVKEG_9772_003_062_0000_Light5.jpg', '/content/gdrive/MyDrive/data/com_data/images_c/675797_10ODP_1060_001_070_0000_Light5.jpg', '/content/gdrive/MyDrive/data/com_data/images_c/675796_UM8BN_1000_001_073_0000_Light5.jpg', '/content/gdrive/MyDrive/data/com_data/images_c/636706_10OBG_9099_004_080_0000_Light5.jpg', '/content/gdrive/MyDrive/data/com_data/images_c/499621_K05NB_9794_003_065_0017_Light5.jpg', '/content/gdrive/MyDrive/data/com_data/images_c/447632_UM8BN_9022_002_067_0032_Light5.jpg', '/content/gdrive/MyDrive/data/com_data/images_c/686864_10ODT_3384_004_057_0014_Light5.jpg', '/content/gdrive/MyDrive/data/com_data/images_c/645454_1DB0G_1000_006_065_0000_Light5.jpg', '/content/gdrive/MyDrive/data/com_data/images_c/677286_HUHHX_8565_004_076_0067_Light5.jpg', '/content/gdrive/MyDrive/data/com_data/images_c/681483_UM8BN_1000_002_062_0000_Light5.jpg', '/content/gdrive/MyDrive/data/com_data/images_c/681483_UM8BN_1000_001_062_0000_Light5.jpg', '/content/gdrive/MyDrive/data/com_data/images_c/681064_96IWT_9794_002_080_0000_Light5.jpg', '/content/gdrive/MyDrive/data/com_data/images_c/681064_96IWT_9794_003_080_0000_Light5.jpg', '/content/gdrive/MyDrive/data/com_data/images_c/636709_EY00G_9522_004_080_0000_Light5.jpg', '/content/gdrive/MyDrive/data/com_data/images_c/443497_DTDIT_1000_001_063_0000_Light5.jpg', '/content/gdrive/MyDrive/data/com_data/images_c/675796_UM8BN_1000_002_073_0000_Light5.jpg', '/content/gdrive/MyDrive/data/com_data/images_c/686864_10ODT_7769_004_057_0000_Light5.jpg', '/content/gdrive/MyDrive/data/com_data/images_c/686864_10ODT_4371_001_057_0016_Light5.jpg', '/content/gdrive/MyDrive/data/com_data/images_c/686858_L4RET_8887_003_054_0000_Light5.jpg', '/content/gdrive/MyDrive/data/com_data/images_c/637091_10O0G_7636_002_053_0000_Light5.jpg', '/content/gdrive/MyDrive/data/com_data/images_c/681064_96IWT_9794_004_080_0000_Light5.jpg', '/content/gdrive/MyDrive/data/com_data/images_c/677286_HUHHX_8565_003_076_0067_Light5.jpg', '/content/gdrive/MyDrive/data/com_data/images_c/446744_UM8AN_1711_004_055_0000_Light5.jpg', '/content/gdrive/MyDrive/data/com_data/images_c/636709_10O0G_3120_001_080_0000_Light5.jpg', '/content/gdrive/MyDrive/data/com_data/images_c/645454_92TCG_9761_003_065_0000_Light5.jpg', '/content/gdrive/MyDrive/data/com_data/images_c/677286_18YSX_1060_002_076_0067_Light5.jpg', '/content/gdrive/MyDrive/data/com_data/images_c/636709_10O0G_6638_006_080_0000_Light5.jpg', '/content/gdrive/MyDrive/data/com_data/images_c/447632_UM8BN_2754_004_067_0037_Light5.jpg', '/content/gdrive/MyDrive/data/com_data/images_c/658574_18YSG_9068_004_077_0067_Light5.jpg', '/content/gdrive/MyDrive/data/com_data/images_c/499623_UN3BN_1274_002_074_0000_Light5.jpg', '/content/gdrive/MyDrive/data/com_data/images_c/499623_UN3BN_1274_003_074_0000_Light5.jpg', '/content/gdrive/MyDrive/data/com_data/images_c/634936_UM8BN_1000_001_067_0041_Light5.jpg', '/content/gdrive/MyDrive/data/com_data/images_c/499623_UN3BN_1274_004_074_0000_Light5.jpg', '/content/gdrive/MyDrive/data/com_data/images_c/602204_92TCG_9761_003_074_0000_Light5.jpg', '/content/gdrive/MyDrive/data/com_data/images_c/499621_K05NB_9794_002_065_0017_Light5.jpg', '/content/gdrive/MyDrive/data/com_data/images_c/636706_10OBG_9099_002_080_0000_Light5.jpg', '/content/gdrive/MyDrive/data/com_data/images_c/675797_10ODT_5467_001_070_0000_Light5.jpg', '/content/gdrive/MyDrive/data/com_data/images_c/645454_1DB0G_2361_004_065_0000_Light5.jpg', '/content/gdrive/MyDrive/data/com_data/images_c/645454_92TCG_9761_001_065_0000_Light5.jpg', '/content/gdrive/MyDrive/data/com_data/images_c/446744_UM8AN_2754_002_055_0000_Light5.jpg', '/content/gdrive/MyDrive/data/com_data/images_c/443497_UM8AN_1711_003_078_0038_Light5.jpg', '/content/gdrive/MyDrive/data/com_data/images_c/645454_1DB0G_2361_002_065_0000_Light5.jpg', '/content/gdrive/MyDrive/data/com_data/images_c/636710_HUHHG_8565_004_083_0000_Light5.jpg', '/content/gdrive/MyDrive/data/com_data/images_c/503877_K05NB_9794_002_075_0000_Light5.jpg', '/content/gdrive/MyDrive/data/com_data/images_c/636709_EY00G_9522_003_080_0000_Light5.jpg', '/content/gdrive/MyDrive/data/com_data/images_c/446744_UM8AN_9022_003_055_0000_Light5.jpg', '/content/gdrive/MyDrive/data/com_data/images_c/636709_E0P0G_9528_004_080_0000_Light5.jpg', '/content/gdrive/MyDrive/data/com_data/images_c/686864_10ODT_3384_001_057_0014_Light5.jpg', '/content/gdrive/MyDrive/data/com_data/images_c/686864_10ODT_7769_002_057_0000_Light5.jpg', '/content/gdrive/MyDrive/data/com_data/images_c/658574_18YSG_9068_001_077_0067_Light5.jpg', '/content/gdrive/MyDrive/data/com_data/images_c/675797_10ODT_8454_002_070_0000_Light5.jpg', '/content/gdrive/MyDrive/data/com_data/images_c/675797_UKMDT_2570_003_070_0000_Light5.jpg', '/content/gdrive/MyDrive/data/com_data/images_c/675794_17Q0T_1000_002_070_0013_Light5.jpg', '/content/gdrive/MyDrive/data/com_data/images_c/636709_10O0G_3120_004_080_0000_Light5.jpg', '/content/gdrive/MyDrive/data/com_data/images_c/443497_UM8AN_1711_001_078_0038_Light5.jpg', '/content/gdrive/MyDrive/data/com_data/images_c/602204_92TCG_9761_001_074_0000_Light5.jpg', '/content/gdrive/MyDrive/data/com_data/images_c/686864_10ODT_8454_001_057_0000_Light5.jpg', '/content/gdrive/MyDrive/data/com_data/images_c/447632_UM8BN_2754_002_067_0037_Light5.jpg', '/content/gdrive/MyDrive/data/com_data/images_c/677286_HUHHX_8565_002_076_0067_Light5.jpg', '/content/gdrive/MyDrive/data/com_data/images_c/446744_UM8AN_2754_004_055_0000_Light5.jpg', '/content/gdrive/MyDrive/data/com_data/images_c/636709_10O0G_4933_003_080_0000_Light5.jpg', '/content/gdrive/MyDrive/data/com_data/images_c/686858_L4RET_8887_004_054_0000_Light5.jpg', '/content/gdrive/MyDrive/data/com_data/images_c/636706_10OBG_9099_001_080_0000_Light5.jpg', '/content/gdrive/MyDrive/data/com_data/images_c/636709_10O0G_5815_002_080_0000_Light5.jpg', '/content/gdrive/MyDrive/data/com_data/images_c/499621_K05NB_9794_001_065_0017_Light5.jpg', '/content/gdrive/MyDrive/data/com_data/images_c/447632_UM8BN_1000_002_072_0000_Light5.jpg', '/content/gdrive/MyDrive/data/com_data/images_c/675794_17Q0T_3120_001_070_0016_Light5.jpg', '/content/gdrive/MyDrive/data/com_data/images_c/681064_96IWT_9794_001_080_0000_Light5.jpg', '/content/gdrive/MyDrive/data/com_data/images_c/675797_UKMDT_2570_001_070_0000_Light5.jpg', '/content/gdrive/MyDrive/data/com_data/images_c/636706_10OBG_9099_006_080_0000_Light5.jpg', '/content/gdrive/MyDrive/data/com_data/images_c/636709_10O0G_5815_003_080_0000_Light5.jpg', '/content/gdrive/MyDrive/data/com_data/images_c/675797_10ODP_1060_002_070_0000_Light5.jpg', '/content/gdrive/MyDrive/data/com_data/images_c/447632_UM8BN_1000_001_072_0000_Light5.jpg', '/content/gdrive/MyDrive/data/com_data/images_c/446744_UM8AN_1711_002_055_0000_Light5.jpg', '/content/gdrive/MyDrive/data/com_data/images_c/675794_17Q0T_3120_004_070_0016_Light5.jpg', '/content/gdrive/MyDrive/data/com_data/images_c/446744_UM8AN_1000_001_055_0016_Light5.jpg', '/content/gdrive/MyDrive/data/com_data/images_c/602676_K05NB_8745_003_058_0000_Light5.jpg', '/content/gdrive/MyDrive/data/com_data/images_c/499621_K05NB_9794_004_065_0017_Light5.jpg', '/content/gdrive/MyDrive/data/com_data/images_c/446744_UM8AN_1711_001_055_0000_Light5.jpg', '/content/gdrive/MyDrive/data/com_data/images_c/686864_10ODT_3384_002_057_0014_Light5.jpg', '/content/gdrive/MyDrive/data/com_data/images_c/446744_UM8AN_1000_003_055_0016_Light5.jpg', '/content/gdrive/MyDrive/data/com_data/images_c/446744_UM8AN_1000_004_055_0016_Light5.jpg', '/content/gdrive/MyDrive/data/com_data/images_c/446744_UM8AN_9022_002_055_0000_Light5.jpg', '/content/gdrive/MyDrive/data/com_data/images_c/447632_UM8BN_2754_003_067_0037_Light5.jpg', '/content/gdrive/MyDrive/data/com_data/images_c/550621_96I3B_9794_001_092_0000_Light5.jpg', '/content/gdrive/MyDrive/data/com_data/images_c/681483_UM8BN_1000_003_062_0000_Light5.jpg', '/content/gdrive/MyDrive/data/com_data/images_c/686858_L4RET_8887_002_054_0000_Light5.jpg', '/content/gdrive/MyDrive/data/com_data/images_c/677286_18YSX_1060_001_076_0067_Light5.jpg', '/content/gdrive/MyDrive/data/com_data/images_c/675795_17QGT_1044_006_053_0000_Light5.jpg', '/content/gdrive/MyDrive/data/com_data/images_c/655661_UKMFT_2672_001_058_0000_Light5.jpg', '/content/gdrive/MyDrive/data/com_data/images_c/446744_UM8AN_2754_001_055_0000_Light5.jpg', '/content/gdrive/MyDrive/data/com_data/images_c/447632_UM8BN_1711_003_072_0023_Light5.jpg', '/content/gdrive/MyDrive/data/com_data/images_c/677286_18YSX_1060_004_076_0067_Light5.jpg', '/content/gdrive/MyDrive/data/com_data/images_c/447632_UM8BN_1711_002_072_0023_Light5.jpg', '/content/gdrive/MyDrive/data/com_data/images_c/675797_10ODP_1060_004_070_0000_Light5.jpg', '/content/gdrive/MyDrive/data/com_data/images_c/658574_HUHHG_9759_003_077_0067_Light5.jpg', '/content/gdrive/MyDrive/data/com_data/images_c/675796_UM8BN_1000_003_073_0000_Light5.jpg', '/content/gdrive/MyDrive/data/com_data/images_c/645454_1DB0G_2361_001_065_0000_Light5.jpg', '/content/gdrive/MyDrive/data/com_data/images_c/636709_EY00G_9522_001_080_0000_Light5.jpg', '/content/gdrive/MyDrive/data/com_data/images_c/503877_K05NB_9794_001_075_0000_Light5.jpg', '/content/gdrive/MyDrive/data/com_data/images_c/446744_UM8AN_2754_003_055_0000_Light5.jpg', '/content/gdrive/MyDrive/data/com_data/images_c/675797_UKMDT_2570_002_070_0000_Light5.jpg', '/content/gdrive/MyDrive/data/com_data/images_c/447632_UM8BN_9022_001_067_0032_Light5.jpg', '/content/gdrive/MyDrive/data/com_data/images_c/446744_UM8AN_1000_002_055_0016_Light5.jpg', '/content/gdrive/MyDrive/data/com_data/images_c/658574_18YSG_9068_002_077_0067_Light5.jpg', '/content/gdrive/MyDrive/data/com_data/images_c/550620_96I3B_9794_002_050_0000_Light5.jpg', '/content/gdrive/MyDrive/data/com_data/images_c/636710_HUHHG_8565_001_083_0000_Light5.jpg', '/content/gdrive/MyDrive/data/com_data/images_c/447632_UM8BN_9022_003_067_0032_Light5.jpg', '/content/gdrive/MyDrive/data/com_data/images_c/443497_UM8AN_9022_001_063_0000_Light5.jpg', '/content/gdrive/MyDrive/data/com_data/images_c/409487_96IWN_4076_009_065_0024_Light5.jpg', '/content/gdrive/MyDrive/data/com_data/images_c/675794_17Q0T_3120_002_070_0016_Light5.jpg', '/content/gdrive/MyDrive/data/com_data/images_c/693724_UULAG_9682_001_070_0000_Light5.jpg', '/content/gdrive/MyDrive/data/com_data/images_c/550620_96I3N_4076_006_100_0000_Light5.jpg', '/content/gdrive/MyDrive/data/com_data/images_c/503877_K05NN_4076_002_075_0000_Light5.jpg', '/content/gdrive/MyDrive/data/com_data/images_c/443497_DTDFV_1000_010_063_0000_Light5.jpg', '/content/gdrive/MyDrive/data/com_data/images_c/498156_96IWN_4076_002_061_0024_Light5.jpg', '/content/gdrive/MyDrive/data/com_data/images_c/400249_UKMBN_2572_002_076_0000_Light5.jpg', '/content/gdrive/MyDrive/data/com_data/images_c/693724_96IWO_8745_001_072_0000_Light5.jpg', '/content/gdrive/MyDrive/data/com_data/images_c/686864_10ODT_5467_004_057_0020_Light5.jpg', '/content/gdrive/MyDrive/data/com_data/images_c/675797_10ODT_2579_001_070_0000_Light5.jpg', '/content/gdrive/MyDrive/data/com_data/images_c/503877_UULAG_9682_001_075_0000_Light5.jpg', '/content/gdrive/MyDrive/data/com_data/images_c/503877_K05NN_4076_001_075_0000_Light5.jpg', '/content/gdrive/MyDrive/data/com_data/images_c/550620_UULEG_9682_001_050_0000_Light5.jpg', '/content/gdrive/MyDrive/data/com_data/images_c/400249_UKMBN_2572_001_076_0000_Light5.jpg', '/content/gdrive/MyDrive/data/com_data/images_c/499621_K05NN_4076_002_065_0000_Light5.jpg', '/content/gdrive/MyDrive/data/com_data/images_c/675799_1TR0G_8106_001_058_0000_Light5.jpg', '/content/gdrive/MyDrive/data/com_data/images_c/499621_K05NN_4076_003_100_0000_Light5.jpg', '/content/gdrive/MyDrive/data/com_data/images_c/660195_UKMFT_2672_003_067_0000_Light5.jpg', '/content/gdrive/MyDrive/data/com_data/images_c/672206_10ODP_1060_001_069_0000_Light5.jpg', '/content/gdrive/MyDrive/data/com_data/images_c/672206_10ODT_2579_002_068_0000_Light5.jpg', '/content/gdrive/MyDrive/data/com_data/images_c/678843_96IWN_4076_001_080_0000_Light5.jpg', '/content/gdrive/MyDrive/data/com_data/images_c/686864_10ODT_5467_001_057_0020_Light5.jpg', '/content/gdrive/MyDrive/data/com_data/images_c/409487_96IWN_4076_001_065_0024_Light5.jpg', '/content/gdrive/MyDrive/data/com_data/images_c/443497_UM8AN_9022_004_063_0000_Light5.jpg', '/content/gdrive/MyDrive/data/com_data/images_c/503877_UKMIG_2570_009_075_0000_Light5.jpg', '/content/gdrive/MyDrive/data/com_data/images_c/693724_96IWO_8745_002_072_0000_Light5.jpg', '/content/gdrive/MyDrive/data/com_data/images_c/499621_K05NN_4076_006_100_0000_Light5.jpg', '/content/gdrive/MyDrive/data/com_data/images_c/409487_96IWN_4076_002_065_0024_Light5.jpg', '/content/gdrive/MyDrive/data/com_data/images_c/443497_UM8AN_1000_001_063_0000_Light5.jpg', '/content/gdrive/MyDrive/data/com_data/images_c/645454_K9GSN_4075_002_065_0000_Light5.jpg', '/content/gdrive/MyDrive/data/com_data/images_c/636706_HUHHG_9794_003_080_0000_Light5.jpg', '/content/gdrive/MyDrive/data/com_data/images_c/400249_UKMBN_2572_009_076_0000_Light5.jpg', '/content/gdrive/MyDrive/data/com_data/images_c/598125_UULAT_9682_001_080_0000_Light5.jpg', '/content/gdrive/MyDrive/data/com_data/images_c/503877_UULAG_9682_002_075_0000_Light5.jpg', '/content/gdrive/MyDrive/data/com_data/images_c/686864_10ODT_8454_004_057_0000_Light5.jpg', '/content/gdrive/MyDrive/data/com_data/images_c/499623_UN3BN_1274_001_074_0000_Light5.jpg', '/content/gdrive/MyDrive/data/com_data/images_c/686864_1TRCT_1281_001_057_0000_Light5.jpg', '/content/gdrive/MyDrive/data/com_data/images_c/602204_K9GSN_4075_002_074_0000_Light5.jpg', '/content/gdrive/MyDrive/data/com_data/images_c/686864_10ODT_5467_002_057_0020_Light5.jpg', '/content/gdrive/MyDrive/data/com_data/images_c/675793_17QGT_1044_003_070_0023_Light5.jpg', '/content/gdrive/MyDrive/data/com_data/images_c/443497_UM8AN_1000_003_063_0036_Light5.jpg', '/content/gdrive/MyDrive/data/com_data/images_c/503877_K05NN_4076_009_075_0000_Light5.jpg', '/content/gdrive/MyDrive/data/com_data/images_c/498156_96IWN_4076_009_061_0024_Light5.jpg', '/content/gdrive/MyDrive/data/com_data/images_c/655661_UKMFT_2672_002_058_0000_Light5.jpg', '/content/gdrive/MyDrive/data/com_data/images_c/675795_17QGT_1044_004_053_0000_Light5.jpg', '/content/gdrive/MyDrive/data/com_data/images_c/602204_K9GSN_4075_003_074_0000_Light5.jpg', '/content/gdrive/MyDrive/data/com_data/images_c/421970_UULBN_9683_002_065_0000_Light5.jpg', '/content/gdrive/MyDrive/data/com_data/images_c/645454_K9GSN_4075_009_065_0000_Light5.jpg', '/content/gdrive/MyDrive/data/com_data/images_c/499621_K05NN_4076_009_065_0000_Light5.jpg', '/content/gdrive/MyDrive/data/com_data/images_c/499623_K9GSN_4075_009_074_0000_Light5.jpg', '/content/gdrive/MyDrive/data/com_data/images_c/499623_K9GSN_4075_001_074_0000_Light5.jpg', '/content/gdrive/MyDrive/data/com_data/images_c/602204_K9GSN_4075_001_074_0000_Light5.jpg', '/content/gdrive/MyDrive/data/com_data/images_c/660195_UKMFT_2672_006_067_0000_Light5.jpg', '/content/gdrive/MyDrive/data/com_data/images_c/675795_17QGT_1044_001_053_0000_Light5.jpg', '/content/gdrive/MyDrive/data/com_data/images_c/443497_UM8AN_1000_004_063_0036_Light5.jpg', '/content/gdrive/MyDrive/data/com_data/images_c/598125_UULAT_9682_002_080_0000_Light5.jpg', '/content/gdrive/MyDrive/data/com_data/images_c/693724_UULAG_9682_002_070_0000_Light5.jpg', '/content/gdrive/MyDrive/data/com_data/images_c/550620_UULEG_9682_002_050_0000_Light5.jpg', '/content/gdrive/MyDrive/data/com_data/images_c/447632_DTDHV_1000_001_067_0033_Light5.jpg', '/content/gdrive/MyDrive/data/com_data/images_c/686864_1TRCT_1281_007_057_0000_Light5.jpg', '/content/gdrive/MyDrive/data/com_data/images_c/672206_10ODP_1060_004_069_0000_Light5.jpg', '/content/gdrive/MyDrive/data/com_data/images_c/675793_17QGT_1044_001_070_0023_Light5.jpg', '/content/gdrive/MyDrive/data/com_data/images_c/678843_UULAG_9682_002_080_0000_Light5.jpg', '/content/gdrive/MyDrive/data/com_data/images_c/550621_96I3B_9794_002_092_0000_Light5.jpg', '/content/gdrive/MyDrive/data/com_data/images_c/443497_UM8AN_9022_003_063_0000_Light5.jpg', '/content/gdrive/MyDrive/data/com_data/images_c/499623_UULBN_9683_002_074_0000_Light5.jpg', '/content/gdrive/MyDrive/data/com_data/images_c/499623_UULBN_9683_001_074_0000_Light5.jpg', '/content/gdrive/MyDrive/data/com_data/images_c/550620_96I3B_9794_003_050_0000_Light5.jpg', '/content/gdrive/MyDrive/data/com_data/images_c/443497_DTDFV_1000_012_063_0000_Light5.jpg', '/content/gdrive/MyDrive/data/com_data/images_c/443497_DTDFV_1000_009_063_0000_Light5.jpg', '/content/gdrive/MyDrive/data/com_data/images_c/421970_UULBN_9683_009_065_0000_Light5.jpg', '/content/gdrive/MyDrive/data/com_data/images_c/678843_96IWN_4076_002_080_0000_Light5.jpg', '/content/gdrive/MyDrive/data/com_data/images_c/602204_K9GSN_4075_004_074_0000_Light5.jpg', '/content/gdrive/MyDrive/data/com_data/images_c/550620_96I3B_9794_001_050_0000_Light5.jpg', '/content/gdrive/MyDrive/data/com_data/images_c/550620_96I3B_9794_004_050_0000_Light5.jpg', '/content/gdrive/MyDrive/data/com_data/images_c/447632_DTDHV_1000_002_067_0033_Light5.jpg', '/content/gdrive/MyDrive/data/com_data/images_c/443497_UM8AN_9022_002_063_0000_Light5.jpg', '/content/gdrive/MyDrive/data/com_data/images_c/693724_96IWO_8745_007_072_0000_Light5.jpg', '/content/gdrive/MyDrive/data/com_data/images_c/675795_17QGT_1044_002_053_0000_Light5.jpg', '/content/gdrive/MyDrive/data/com_data/images_c/636706_HUHHG_9794_004_080_0000_Light5.jpg', '/content/gdrive/MyDrive/data/com_data/images_c/503877_K05NB_9794_003_075_0000_Light5.jpg', '/content/gdrive/MyDrive/data/com_data/images_c/686864_1TRCT_1281_002_057_0000_Light5.jpg', '/content/gdrive/MyDrive/data/com_data/images_c/503877_UULAG_9682_009_075_0000_Light5.jpg', '/content/gdrive/MyDrive/data/com_data/images_c/672206_10ODT_2579_004_068_0000_Light5.jpg', '/content/gdrive/MyDrive/data/com_data/images_c/550620_96I3N_4076_001_050_0067_Light5.jpg', '/content/gdrive/MyDrive/data/com_data/images_c/672206_10ODT_2579_001_068_0000_Light5.jpg', '/content/gdrive/MyDrive/data/com_data/images_c/686864_10ODT_8454_002_057_0000_Light5.jpg', '/content/gdrive/MyDrive/data/com_data/images_c/443497_DTDFV_1000_002_063_0000_Light5.jpg', '/content/gdrive/MyDrive/data/com_data/images_c/636706_HUHHG_9794_001_080_0000_Light5.jpg', '/content/gdrive/MyDrive/data/com_data/images_c/636706_HUHHG_9794_002_080_0000_Light5.jpg', '/content/gdrive/MyDrive/data/com_data/images_c/675793_17QGT_1044_002_070_0023_Light5.jpg', '/content/gdrive/MyDrive/data/com_data/images_c/499621_K05NN_4076_001_065_0000_Light5.jpg', '/content/gdrive/MyDrive/data/com_data/images_c/598125_UULAT_9682_009_080_0000_Light5.jpg', '/content/gdrive/MyDrive/data/com_data/images_c/660195_UKMFT_2672_002_067_0000_Light5.jpg', '/content/gdrive/MyDrive/data/com_data/images_c/696011_92TCG_8563_001_085_0000_Light5.jpg', '/content/gdrive/MyDrive/data/com_data/images_c/675793_17QGT_1044_006_070_0023_Light5.jpg', '/content/gdrive/MyDrive/data/com_data/images_c/645454_K9GSN_4075_001_065_0000_Light5.jpg', '/content/gdrive/MyDrive/data/com_data/images_c/498156_96IWN_4076_001_061_0024_Light5.jpg', '/content/gdrive/MyDrive/data/com_data/images_c/660195_UKMFT_2672_001_067_0000_Light5.jpg', '/content/gdrive/MyDrive/data/com_data/images_c/675797_10ODT_2579_002_070_0000_Light5.jpg', '/content/gdrive/MyDrive/data/com_data/images_c/675799_1TR0G_8106_002_058_0000_Light5.jpg', '/content/gdrive/MyDrive/data/com_data/images_c/655661_UKMFT_2672_003_058_0000_Light5.jpg', '/content/gdrive/MyDrive/data/com_data/images_c/499623_K9GSN_4075_002_074_0000_Light5.jpg', '/content/gdrive/MyDrive/data/com_data/images_c/678843_UULAG_9682_001_080_0000_Light5.jpg', '/content/gdrive/MyDrive/data/com_data/images_c/550620_96I3N_4076_002_050_0067_Light5.jpg', '/content/gdrive/MyDrive/data/com_data/images_c/675794_17Q0T_1000_001_070_0013_Light5.jpg', '/content/gdrive/MyDrive/data/com_data/images_c/672206_10ODP_1060_002_069_0000_Light5.jpg', '/content/gdrive/MyDrive/data/com_data/images_c/550621_UKMJG_2570_009_092_0000_Light5.jpg', '/content/gdrive/MyDrive/data/com_data/images_c/443497_DTDFV_1000_001_063_0000_Light5.jpg', '/content/gdrive/MyDrive/data/com_data/images_c/400249_UKMLN_2572_002_076_0000_Light5.jpg', '/content/gdrive/MyDrive/data/com_data/images_c/678843_UULAG_9682_004_100_0000_Light5.jpg', '/content/gdrive/MyDrive/data/com_data/images_c/658574_U3ZDG_6563_005_100_0000_Light5.jpg', '/content/gdrive/MyDrive/data/com_data/images_c/503877_UKMIG_2570_002_075_0000_Light5.jpg', '/content/gdrive/MyDrive/data/com_data/images_c/503877_UKMIG_2570_001_075_0000_Light5.jpg', '/content/gdrive/MyDrive/data/com_data/images_c/658574_96IWN_4076_001_077_0067_Light5.jpg', '/content/gdrive/MyDrive/data/com_data/images_c/400249_UKMBN_2572_003_100_0000_Light5.jpg', '/content/gdrive/MyDrive/data/com_data/images_c/658574_UKMDG_2570_002_077_0067_Light5.jpg', '/content/gdrive/MyDrive/data/com_data/images_c/645061_AZB0G_1000_002_100_0000_Light5.jpg', '/content/gdrive/MyDrive/data/com_data/images_c/409487_96IWN_4076_003_100_0000_Light5.jpg', '/content/gdrive/MyDrive/data/com_data/images_c/696011_92TCG_8563_003_100_0000_Light5.jpg', '/content/gdrive/MyDrive/data/com_data/images_c/658574_UKMDG_2570_001_077_0067_Light5.jpg', '/content/gdrive/MyDrive/data/com_data/images_c/503877_K05NN_4076_004_100_0000_Light5.jpg', '/content/gdrive/MyDrive/data/com_data/images_c/447632_DTDHV_1000_004_100_0000_Light5.jpg', '/content/gdrive/MyDrive/data/com_data/images_c/400249_UKMLN_2572_001_076_0000_Light5.jpg', '/content/gdrive/MyDrive/data/com_data/images_c/693724_UULAG_9682_005_100_0000_Light5.jpg', '/content/gdrive/MyDrive/data/com_data/images_c/658574_U3ZDG_6563_002_077_0067_Light5.jpg', '/content/gdrive/MyDrive/data/com_data/images_c/658574_UULAG_9682_001_077_0067_Light5.jpg', '/content/gdrive/MyDrive/data/com_data/images_c/400249_UKMLN_2572_009_076_0000_Light5.jpg', '/content/gdrive/MyDrive/data/com_data/images_c/499621_UKMIG_2570_001_065_0000_Light5.jpg', '/content/gdrive/MyDrive/data/com_data/images_c/503877_UULAG_9682_003_100_0000_Light5.jpg', '/content/gdrive/MyDrive/data/com_data/images_c/658574_UULAG_9682_003_100_0000_Light5.jpg', '/content/gdrive/MyDrive/data/com_data/images_c/658574_U3ZDG_8726_004_100_0000_Light5.jpg', '/content/gdrive/MyDrive/data/com_data/images_c/658574_U3ZDG_8727_002_077_0067_Light5.jpg', '/content/gdrive/MyDrive/data/com_data/images_c/447632_DTDHV_1000_003_100_0000_Light5.jpg', '/content/gdrive/MyDrive/data/com_data/images_c/636709_EY00G_9522_002_080_0000_Light5.jpg', '/content/gdrive/MyDrive/data/com_data/images_c/645454_K9GSN_4075_003_100_0000_Light5.jpg', '/content/gdrive/MyDrive/data/com_data/images_c/658574_U3ZDG_8726_002_077_0067_Light5.jpg', '/content/gdrive/MyDrive/data/com_data/images_c/550621_UULEG_9682_001_092_0000_Light5.jpg', '/content/gdrive/MyDrive/data/com_data/images_c/658574_U3ZDG_6563_001_077_0067_Light5.jpg', '/content/gdrive/MyDrive/data/com_data/images_c/658574_96IWN_4076_002_077_0067_Light5.jpg', '/content/gdrive/MyDrive/data/com_data/images_c/550621_UKMJG_2570_002_092_0000_Light5.jpg', '/content/gdrive/MyDrive/data/com_data/images_c/421970_UULBN_9683_001_065_0000_Light5.jpg', '/content/gdrive/MyDrive/data/com_data/images_c/658574_96IWN_4076_004_100_0000_Light5.jpg', '/content/gdrive/MyDrive/data/com_data/images_c/499621_UULAG_9682_002_065_0000_Light5.jpg', '/content/gdrive/MyDrive/data/com_data/images_c/446744_UM8AF_3352_001_055_0000_Light5.jpg', '/content/gdrive/MyDrive/data/com_data/images_c/658574_UKMDG_2570_005_100_0000_Light5.jpg', '/content/gdrive/MyDrive/data/com_data/images_c/645061_AZB0G_1000_007_100_0000_Light5.jpg', '/content/gdrive/MyDrive/data/com_data/images_c/658574_U3ZDG_8726_005_100_0000_Light5.jpg', '/content/gdrive/MyDrive/data/com_data/images_c/550621_UULEG_9682_009_092_0000_Light5.jpg', '/content/gdrive/MyDrive/data/com_data/images_c/658574_UULAG_9682_002_077_0067_Light5.jpg', '/content/gdrive/MyDrive/data/com_data/images_c/693724_96IWO_8745_004_100_0000_Light5.jpg', '/content/gdrive/MyDrive/data/com_data/images_c/645061_AZB0G_1000_001_100_0000_Light5.jpg', '/content/gdrive/MyDrive/data/com_data/images_c/550620_96I3N_4076_004_100_0000_Light5.jpg', '/content/gdrive/MyDrive/data/com_data/images_c/658574_96IWN_4076_005_100_0000_Light5.jpg', '/content/gdrive/MyDrive/data/com_data/images_c/499621_UKMIG_2570_002_065_0000_Light5.jpg', '/content/gdrive/MyDrive/data/com_data/images_c/499623_K9GSN_4075_004_100_0000_Light5.jpg', '/content/gdrive/MyDrive/data/com_data/images_c/693724_UULAG_9682_004_100_0000_Light5.jpg', '/content/gdrive/MyDrive/data/com_data/images_c/645454_K9GSN_4075_004_100_0000_Light5.jpg', '/content/gdrive/MyDrive/data/com_data/images_c/686864_10ODP_1060_002_057_0000_Light5.jpg', '/content/gdrive/MyDrive/data/com_data/images_c/678843_96IWN_4076_005_100_0000_Light5.jpg', '/content/gdrive/MyDrive/data/com_data/images_c/658574_U3ZDG_8727_004_100_0000_Light5.jpg', '/content/gdrive/MyDrive/data/com_data/images_c/678843_96IWN_4076_004_100_0000_Light5.jpg', '/content/gdrive/MyDrive/data/com_data/images_c/503877_UKMIG_2570_003_100_0000_Light5.jpg', '/content/gdrive/MyDrive/data/com_data/images_c/550621_UULEG_9682_002_092_0000_Light5.jpg', '/content/gdrive/MyDrive/data/com_data/images_c/675799_1TR0G_8106_003_100_0000_Light5.jpg', '/content/gdrive/MyDrive/data/com_data/images_c/678843_96IWN_4076_003_100_0000_Light5.jpg', '/content/gdrive/MyDrive/data/com_data/images_c/550621_UKMJG_2570_010_092_0000_Light5.jpg', '/content/gdrive/MyDrive/data/com_data/images_c/658574_U3ZDG_8727_001_077_0067_Light5.jpg', '/content/gdrive/MyDrive/data/com_data/images_c/499621_UULAG_9682_001_065_0000_Light5.jpg', '/content/gdrive/MyDrive/data/com_data/images_c/693724_96IWO_8745_003_100_0000_Light5.jpg', '/content/gdrive/MyDrive/data/com_data/images_c/446744_DTDFV_1000_001_055_0000_Light5.jpg', '/content/gdrive/MyDrive/data/com_data/images_c/550620_96I3N_4076_003_100_0000_Light5.jpg', '/content/gdrive/MyDrive/data/com_data/images_c/675799_1TR0G_8106_004_100_0000_Light5.jpg', '/content/gdrive/MyDrive/data/com_data/images_c/598125_UULAT_9682_003_100_0000_Light5.jpg', '/content/gdrive/MyDrive/data/com_data/images_c/658574_96IWN_4076_003_100_0000_Light5.jpg', '/content/gdrive/MyDrive/data/com_data/images_c/693724_UULAG_9682_003_100_0000_Light5.jpg', '/content/gdrive/MyDrive/data/com_data/images_c/658574_U3ZDG_8726_001_077_0067_Light5.jpg', '/content/gdrive/MyDrive/data/com_data/images_c/634936_DTDHV_1000_001_067_0067_Light5.jpg', '/content/gdrive/MyDrive/data/com_data/images_c/446744_UM8AF_3352_002_055_0000_Light5.jpg', '/content/gdrive/MyDrive/data/com_data/images_c/658574_UKMDG_2570_003_100_0000_Light5.jpg', '/content/gdrive/MyDrive/data/com_data/images_c/499623_K9GSN_4075_003_100_0000_Light5.jpg', '/content/gdrive/MyDrive/data/com_data/images_c/550621_UKMJG_2570_001_092_0000_Light5.jpg', '/content/gdrive/MyDrive/data/com_data/images_c/658574_U3ZDG_6563_004_100_0000_Light5.jpg', '/content/gdrive/MyDrive/data/com_data/images_c/696011_92TCG_8563_002_085_0000_Light5.jpg', '/content/gdrive/MyDrive/data/com_data/images_c/686864_10ODP_1060_001_057_0000_Light5.jpg', '/content/gdrive/MyDrive/data/com_data/images_c/658574_UULAG_9682_004_100_0000_Light5.jpg', '/content/gdrive/MyDrive/data/com_data/images_c/400249_EY0RK_9978_003_100_0000_Light5.jpg', '/content/gdrive/MyDrive/data/com_data/images_c/636709_UN50G_2176_004_100_0000_Light5.jpg', '/content/gdrive/MyDrive/data/com_data/images_c/421970_UULBN_9683_006_100_0000_Light5.jpg', '/content/gdrive/MyDrive/data/com_data/images_c/447632_UM8BF_3352_002_067_0039_Light5.jpg', '/content/gdrive/MyDrive/data/com_data/images_c/446744_DTDFV_1000_002_055_0000_Light5.jpg', '/content/gdrive/MyDrive/data/com_data/images_c/631685_UM8IG_2546_009_100_0000_Light5.jpg', '/content/gdrive/MyDrive/data/com_data/images_c/602204_UULBG_9683_003_100_0000_Light5.jpg', '/content/gdrive/MyDrive/data/com_data/images_c/675797_10ODT_1060_001_070_0000_Light5.jpg', '/content/gdrive/MyDrive/data/com_data/images_c/550621_UULEK_9956_002_092_0000_Light5.jpg', '/content/gdrive/MyDrive/data/com_data/images_c/602204_UULBG_9683_001_074_0000_Light5.jpg', '/content/gdrive/MyDrive/data/com_data/images_c/631685_UM8IG_2546_002_100_0000_Light5.jpg', '/content/gdrive/MyDrive/data/com_data/images_c/658574_U3ZDG_8727_003_100_0000_Light5.jpg', '/content/gdrive/MyDrive/data/com_data/images_c/675797_UKMDT_9198_004_100_0000_Light5.jpg', '/content/gdrive/MyDrive/data/com_data/images_c/631685_UM8IG_1000_002_100_0000_Light5.jpg', '/content/gdrive/MyDrive/data/com_data/images_c/550620_UULEG_9682_003_100_0000_Light5.jpg', '/content/gdrive/MyDrive/data/com_data/images_c/686864_10ODT_1060_002_057_0006_Light5.jpg', '/content/gdrive/MyDrive/data/com_data/images_c/675797_10ODT_1060_002_070_0000_Light5.jpg', '/content/gdrive/MyDrive/data/com_data/images_c/678843_UULAG_9682_003_100_0000_Light5.jpg', '/content/gdrive/MyDrive/data/com_data/images_c/400249_EY0RK_9978_001_076_0000_Light5.jpg', '/content/gdrive/MyDrive/data/com_data/images_c/499623_UULBN_9683_004_100_0000_Light5.jpg', '/content/gdrive/MyDrive/data/com_data/images_c/636709_UN50G_2176_001_080_0000_Light5.jpg', '/content/gdrive/MyDrive/data/com_data/images_c/686864_10ODP_1060_003_057_0000_Light5.jpg', '/content/gdrive/MyDrive/data/com_data/images_c/498156_96IWN_4076_003_100_0000_Light5.jpg', '/content/gdrive/MyDrive/data/com_data/images_c/499621_UULAG_9682_006_100_0000_Light5.jpg', '/content/gdrive/MyDrive/data/com_data/images_c/634936_DTDHV_1000_002_067_0067_Light5.jpg', '/content/gdrive/MyDrive/data/com_data/images_c/421970_UULBN_9683_003_100_0000_Light5.jpg', '/content/gdrive/MyDrive/data/com_data/images_c/675797_UKMDT_9198_003_100_0000_Light5.jpg', '/content/gdrive/MyDrive/data/com_data/images_c/499621_UKMIG_2570_006_100_0000_Light5.jpg', '/content/gdrive/MyDrive/data/com_data/images_c/636709_UN50G_2176_007_080_0000_Light5.jpg', '/content/gdrive/MyDrive/data/com_data/images_c/550621_UKMJG_2570_006_100_0000_Light5.jpg', '/content/gdrive/MyDrive/data/com_data/images_c/636709_E0UFG_8840_003_100_0000_Light5.jpg', '/content/gdrive/MyDrive/data/com_data/images_c/499623_UULBN_9683_003_100_0000_Light5.jpg', '/content/gdrive/MyDrive/data/com_data/images_c/658574_UULAK_9956_001_077_0067_Light5.jpg', '/content/gdrive/MyDrive/data/com_data/images_c/631685_UM8IG_1000_001_100_0000_Light5.jpg', '/content/gdrive/MyDrive/data/com_data/images_c/602204_UULBG_9683_004_100_0000_Light5.jpg', '/content/gdrive/MyDrive/data/com_data/images_c/499621_UKMIG_2570_003_100_0000_Light5.jpg', '/content/gdrive/MyDrive/data/com_data/images_c/400249_UKMLN_2572_003_100_0000_Light5.jpg', '/content/gdrive/MyDrive/data/com_data/images_c/658574_U3ZDG_6563_003_100_0000_Light5.jpg', '/content/gdrive/MyDrive/data/com_data/images_c/550621_UULEK_9956_009_092_0000_Light5.jpg', '/content/gdrive/MyDrive/data/com_data/images_c/499621_UULAG_9682_003_100_0000_Light5.jpg', '/content/gdrive/MyDrive/data/com_data/images_c/658574_UULAK_9956_002_077_0067_Light5.jpg', '/content/gdrive/MyDrive/data/com_data/images_c/447632_UM8BF_3352_006_100_0000_Light5.jpg', '/content/gdrive/MyDrive/data/com_data/images_c/446744_UM8AF_3352_006_100_0000_Light5.jpg', '/content/gdrive/MyDrive/data/com_data/images_c/602204_UULBG_9683_002_074_0000_Light5.jpg', '/content/gdrive/MyDrive/data/com_data/images_c/658574_UKMDG_2570_004_100_0000_Light5.jpg', '/content/gdrive/MyDrive/data/com_data/images_c/499621_UKMIG_2570_004_100_0000_Light5.jpg', '/content/gdrive/MyDrive/data/com_data/images_c/681483_UM8BF_3352_012_062_0000_Light5.jpg', '/content/gdrive/MyDrive/data/com_data/images_c/499621_UULAG_9682_004_100_0000_Light5.jpg', '/content/gdrive/MyDrive/data/com_data/images_c/636709_UN50G_2176_002_080_0000_Light5.jpg', '/content/gdrive/MyDrive/data/com_data/images_c/447632_UM8BF_3352_001_067_0039_Light5.jpg', '/content/gdrive/MyDrive/data/com_data/images_c/400249_EY0RK_9978_002_076_0000_Light5.jpg', '/content/gdrive/MyDrive/data/com_data/images_c/634936_DTDHV_1000_006_100_0000_Light5.jpg', '/content/gdrive/MyDrive/data/com_data/images_c/658574_U3ZDG_8726_003_100_0000_Light5.jpg', '/content/gdrive/MyDrive/data/com_data/images_c/636706_E12CK_9361_009_080_0000_Light5.jpg', '/content/gdrive/MyDrive/data/com_data/images_c/446744_DTDFV_1000_006_100_0000_Light5.jpg', '/content/gdrive/MyDrive/data/com_data/images_c/636709_10O0G_6638_001_080_0000_Light5.jpg', '/content/gdrive/MyDrive/data/com_data/images_c/443497_DTDIT_6433_004_100_0000_Light5.jpg', '/content/gdrive/MyDrive/data/com_data/images_c/499623_AAA8A_8561_002_074_0000_Light5.jpg', '/content/gdrive/MyDrive/data/com_data/images_c/636709_10O0G_1000_001_080_0000_Light5.jpg', '/content/gdrive/MyDrive/data/com_data/images_c/636706_HUHHG_8565_003_100_0000_Light5.jpg', '/content/gdrive/MyDrive/data/com_data/images_c/675797_AAAW4_4950_009_070_0000_Light5.jpg', '/content/gdrive/MyDrive/data/com_data/images_c/443497_DTDIT_6433_001_063_0000_Light5.jpg', '/content/gdrive/MyDrive/data/com_data/images_c/447632_DTD1T_6433_004_100_0000_Light5.jpg', '/content/gdrive/MyDrive/data/com_data/images_c/499623_AAA8A_8561_001_074_0000_Light5.jpg', '/content/gdrive/MyDrive/data/com_data/images_c/400249_UN50N_2176_006_100_0000_Light5.jpg', '/content/gdrive/MyDrive/data/com_data/images_c/499623_AAA8A_8561_009_074_0000_Light5.jpg', '/content/gdrive/MyDrive/data/com_data/images_c/636709_10O0G_6638_003_100_0000_Light5.jpg', '/content/gdrive/MyDrive/data/com_data/images_c/499623_AAA8A_8561_012_074_0000_Light5.jpg', '/content/gdrive/MyDrive/data/com_data/images_c/400249_UN50N_2176_004_076_0000_Light5.jpg', '/content/gdrive/MyDrive/data/com_data/images_c/499623_AAA8A_8561_010_074_0000_Light5.jpg', '/content/gdrive/MyDrive/data/com_data/images_c/479197_KHNKG_8534_001_074_0000_Light5.jpg', '/content/gdrive/MyDrive/data/com_data/images_c/686864_10ODT_1060_001_057_0006_Light5.jpg', '/content/gdrive/MyDrive/data/com_data/images_c/636709_E0UFG_8840_006_100_0000_Light5.jpg', '/content/gdrive/MyDrive/data/com_data/images_c/602204_EY0RK_9978_010_074_0000_Light5.jpg', '/content/gdrive/MyDrive/data/com_data/images_c/601044_96IWB_8745_003_100_0000_Light5.jpg', '/content/gdrive/MyDrive/data/com_data/images_c/645454_1DB0G_1000_001_065_0000_Light5.jpg', '/content/gdrive/MyDrive/data/com_data/images_c/636709_E0UFG_8840_001_080_0000_Light5.jpg', '/content/gdrive/MyDrive/data/com_data/images_c/601044_96IWB_8745_002_066_0000_Light5.jpg', '/content/gdrive/MyDrive/data/com_data/images_c/675797_UKMDT_9198_006_100_0000_Light5.jpg', '/content/gdrive/MyDrive/data/com_data/images_c/476466_K9GVT_8856_001_081_0020_Light5.jpg']\n",
            "이미지 총 개수 =  1621\n",
            "훈련데이터 개수 =  1134\n"
          ]
        }
      ]
    },
    {
      "cell_type": "code",
      "source": [
        "# 잘 나눠졌는지 확인하기\n",
        "%cd /content/gdrive/MyDrive/data/split_data/train\n",
        "train_ = glob.glob(\"*\")\n",
        "print(len(train_))\n",
        "%cd /content/gdrive/MyDrive/data/split_data/test\n",
        "test_ = glob.glob(\"*\") \n",
        "print(len(test_))\n",
        "print(len(images)*2, len(test_)+len(train_))"
      ],
      "metadata": {
        "id": "GAzQ7JBgY2t7",
        "colab": {
          "base_uri": "https://localhost:8080/"
        },
        "outputId": "e2e8093e-e0e6-44bd-afe6-5bb9f59ecd0a"
      },
      "execution_count": null,
      "outputs": [
        {
          "output_type": "stream",
          "name": "stdout",
          "text": [
            "/content/gdrive/MyDrive/data/split_data/train\n",
            "2268\n",
            "/content/gdrive/MyDrive/data/split_data/test\n",
            "974\n",
            "3242 3242\n"
          ]
        }
      ]
    },
    {
      "cell_type": "markdown",
      "source": [
        "label 내용을 csv파일로 저장함"
      ],
      "metadata": {
        "id": "zya6k6d67nie"
      }
    },
    {
      "cell_type": "markdown",
      "source": [
        "![image.png](data:image/png;base64,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)"
      ],
      "metadata": {
        "id": "WBwc_vI8695J"
      }
    },
    {
      "cell_type": "code",
      "source": [
        "# 3.Convert XML label to  CSV\n",
        "\n",
        "def xml_to_csv(path):\n",
        "    xml_list = []\n",
        "    for xml_file in glob.glob(path + '/*.xml'):\n",
        "        tree = ET.parse(xml_file)\n",
        "        root = tree.getroot()\n",
        "        for member in root.findall('object'):\n",
        "            value = (root.find('filename').text,\n",
        "                     int(root.find('size')[0].text),\n",
        "                     int(root.find('size')[1].text),\n",
        "                     member[0].text,\n",
        "                     int(member[4][0].text),\n",
        "                     int(member[4][1].text),\n",
        "                     int(member[4][2].text),\n",
        "                     int(member[4][3].text)\n",
        "                     )\n",
        "            xml_list.append(value)\n",
        "    column_name = ['filename', 'width', 'height', 'class', 'xmin', 'ymin', 'xmax', 'ymax']\n",
        "    xml_df = pd.DataFrame(xml_list, columns=column_name)\n",
        "    return xml_df\n",
        "\n",
        "for directory in ['train','test']:\n",
        "        image_path = os.path.join('/content/gdrive/MyDrive/data/split_data/{}'.format(directory))\n",
        "        xml_df = xml_to_csv(image_path)\n",
        "        xml_df.to_csv('/content/gdrive/MyDrive/data/split_data/{}_labels.csv'.format(directory), index=None)\n",
        "        print('Successfully converted xml to csv.')\n",
        "     "
      ],
      "metadata": {
        "id": "DhFer9Ix5bq8",
        "colab": {
          "base_uri": "https://localhost:8080/"
        },
        "outputId": "8f300e63-6f17-4ed3-cd41-4b8530ba74e2"
      },
      "execution_count": null,
      "outputs": [
        {
          "output_type": "stream",
          "name": "stdout",
          "text": [
            "Successfully converted xml to csv.\n",
            "Successfully converted xml to csv.\n"
          ]
        }
      ]
    },
    {
      "cell_type": "markdown",
      "source": [
        "## 2.Pre-Trained 모델 다운하기기"
      ],
      "metadata": {
        "id": "12T964S33F2m"
      }
    },
    {
      "cell_type": "code",
      "source": [
        "# folder_paths = ['/content/gdrive/MyDrive/models', '/content/gdrive/MyDrive/pretrained', '/content/gdrive/MyDrive/output_model']\n",
        "# for folder in folder_paths:\n",
        "#   if os.path.isdir(folder):\n",
        "#       print(folder)\n",
        "#       # os.rmdir(folder)"
      ],
      "metadata": {
        "id": "fX5_2aPn2GwL"
      },
      "execution_count": null,
      "outputs": []
    },
    {
      "cell_type": "markdown",
      "source": [
        "pre-trained 모델 다운로드(클론)"
      ],
      "metadata": {
        "id": "7t4ty94H7xR0"
      }
    },
    {
      "cell_type": "code",
      "source": [
        "%cd /content/gdrive/MyDrive\n",
        "!git clone https://github.com/tensorflow/models.git"
      ],
      "metadata": {
        "id": "L0e3wZMq5boJ",
        "colab": {
          "base_uri": "https://localhost:8080/"
        },
        "outputId": "e32cc39b-1e1d-4e72-8034-40c6417e3317"
      },
      "execution_count": null,
      "outputs": [
        {
          "output_type": "stream",
          "name": "stdout",
          "text": [
            "/content/gdrive/MyDrive\n",
            "fatal: destination path 'models' already exists and is not an empty directory.\n"
          ]
        }
      ]
    },
    {
      "cell_type": "code",
      "source": [
        "# 5. Compile the protos -  \n",
        "# Protocol Buffers (Protobuf) is a free and open-source cross-platform data format used to serialize structured data.\n",
        "%cd /content/gdrive/MyDrive/models/research\n",
        "!protoc object_detection/protos/*.proto --python_out=."
      ],
      "metadata": {
        "id": "1J8DbOP55blj",
        "colab": {
          "base_uri": "https://localhost:8080/"
        },
        "outputId": "c488de7b-fdb9-45be-cc66-a7da8134b69c"
      },
      "execution_count": null,
      "outputs": [
        {
          "output_type": "stream",
          "name": "stdout",
          "text": [
            "/content/gdrive/MyDrive/models/research\n"
          ]
        }
      ]
    },
    {
      "cell_type": "markdown",
      "source": [
        "## 3.API설정"
      ],
      "metadata": {
        "id": "R0vC6huY37DH"
      }
    },
    {
      "cell_type": "markdown",
      "source": [
        "API 설정"
      ],
      "metadata": {
        "id": "WhE9tqc18Ypl"
      }
    },
    {
      "cell_type": "code",
      "source": [
        "%cd /content/gdrive/MyDrive/models/research\n",
        "!cp /content/gdrive/MyDrive/models/research/object_detection/packages/tf2/setup.py ."
      ],
      "metadata": {
        "id": "ZgCbjqNY5bjC",
        "colab": {
          "base_uri": "https://localhost:8080/"
        },
        "outputId": "1a518cf8-b85c-45ae-f9a1-25e942251411"
      },
      "execution_count": null,
      "outputs": [
        {
          "output_type": "stream",
          "name": "stdout",
          "text": [
            "/content/gdrive/MyDrive/models/research\n"
          ]
        }
      ]
    },
    {
      "cell_type": "code",
      "source": [
        "!python -m pip install  ."
      ],
      "metadata": {
        "id": "A21IGyGXVHrt",
        "colab": {
          "base_uri": "https://localhost:8080/"
        },
        "outputId": "dff02e29-59c9-4187-8fe7-6935a866076c"
      },
      "execution_count": null,
      "outputs": [
        {
          "output_type": "stream",
          "name": "stdout",
          "text": [
            "Looking in indexes: https://pypi.org/simple, https://us-python.pkg.dev/colab-wheels/public/simple/\n",
            "Processing /content/gdrive/MyDrive/models/research\n",
            "\u001b[33m  DEPRECATION: A future pip version will change local packages to be built in-place without first copying to a temporary directory. We recommend you use --use-feature=in-tree-build to test your packages with this new behavior before it becomes the default.\n",
            "   pip 21.3 will remove support for this functionality. You can find discussion regarding this at https://github.com/pypa/pip/issues/7555.\u001b[0m\n",
            "Collecting avro-python3\n",
            "  Downloading avro-python3-1.10.2.tar.gz (38 kB)\n",
            "Collecting apache-beam\n",
            "  Downloading apache_beam-2.43.0-cp38-cp38-manylinux_2_17_x86_64.manylinux2014_x86_64.whl (14.5 MB)\n",
            "\u001b[K     |████████████████████████████████| 14.5 MB 8.0 MB/s \n",
            "\u001b[?25hRequirement already satisfied: pillow in /usr/local/lib/python3.8/dist-packages (from object-detection==0.1) (7.1.2)\n",
            "Requirement already satisfied: lxml in /usr/local/lib/python3.8/dist-packages (from object-detection==0.1) (4.9.2)\n",
            "Requirement already satisfied: matplotlib in /usr/local/lib/python3.8/dist-packages (from object-detection==0.1) (3.2.2)\n",
            "Requirement already satisfied: Cython in /usr/local/lib/python3.8/dist-packages (from object-detection==0.1) (0.29.32)\n",
            "Requirement already satisfied: contextlib2 in /usr/local/lib/python3.8/dist-packages (from object-detection==0.1) (0.5.5)\n",
            "Requirement already satisfied: tf-slim in /usr/local/lib/python3.8/dist-packages (from object-detection==0.1) (1.1.0)\n",
            "Requirement already satisfied: six in /usr/local/lib/python3.8/dist-packages (from object-detection==0.1) (1.15.0)\n",
            "Requirement already satisfied: pycocotools in /usr/local/lib/python3.8/dist-packages (from object-detection==0.1) (2.0.6)\n",
            "Requirement already satisfied: lvis in /usr/local/lib/python3.8/dist-packages (from object-detection==0.1) (0.5.3)\n",
            "Requirement already satisfied: scipy in /usr/local/lib/python3.8/dist-packages (from object-detection==0.1) (1.7.3)\n",
            "Requirement already satisfied: pandas in /usr/local/lib/python3.8/dist-packages (from object-detection==0.1) (1.3.5)\n",
            "Collecting tf-models-official>=2.5.1\n",
            "  Downloading tf_models_official-2.11.2-py2.py3-none-any.whl (2.3 MB)\n",
            "\u001b[K     |████████████████████████████████| 2.3 MB 88.6 MB/s \n",
            "\u001b[?25hRequirement already satisfied: tensorflow_io in /usr/local/lib/python3.8/dist-packages (from object-detection==0.1) (0.29.0)\n",
            "Requirement already satisfied: keras in /usr/local/lib/python3.8/dist-packages (from object-detection==0.1) (2.9.0)\n",
            "Collecting pyparsing==2.4.7\n",
            "  Downloading pyparsing-2.4.7-py2.py3-none-any.whl (67 kB)\n",
            "\u001b[K     |████████████████████████████████| 67 kB 6.9 MB/s \n",
            "\u001b[?25hCollecting sacrebleu<=2.2.0\n",
            "  Downloading sacrebleu-2.2.0-py3-none-any.whl (116 kB)\n",
            "\u001b[K     |████████████████████████████████| 116 kB 100.0 MB/s \n",
            "\u001b[?25hRequirement already satisfied: numpy>=1.17 in /usr/local/lib/python3.8/dist-packages (from sacrebleu<=2.2.0->object-detection==0.1) (1.21.6)\n",
            "Collecting colorama\n",
            "  Downloading colorama-0.4.6-py2.py3-none-any.whl (25 kB)\n",
            "Requirement already satisfied: tabulate>=0.8.9 in /usr/local/lib/python3.8/dist-packages (from sacrebleu<=2.2.0->object-detection==0.1) (0.8.10)\n",
            "Requirement already satisfied: regex in /usr/local/lib/python3.8/dist-packages (from sacrebleu<=2.2.0->object-detection==0.1) (2022.6.2)\n",
            "Collecting portalocker\n",
            "  Downloading portalocker-2.6.0-py2.py3-none-any.whl (15 kB)\n",
            "Collecting immutabledict\n",
            "  Downloading immutabledict-2.2.3-py3-none-any.whl (4.0 kB)\n",
            "Collecting tensorflow-model-optimization>=0.4.1\n",
            "  Downloading tensorflow_model_optimization-0.7.3-py2.py3-none-any.whl (238 kB)\n",
            "\u001b[K     |████████████████████████████████| 238 kB 97.9 MB/s \n",
            "\u001b[?25hRequirement already satisfied: tensorflow-addons in /usr/local/lib/python3.8/dist-packages (from tf-models-official>=2.5.1->object-detection==0.1) (0.19.0)\n",
            "Requirement already satisfied: gin-config in /usr/local/lib/python3.8/dist-packages (from tf-models-official>=2.5.1->object-detection==0.1) (0.5.0)\n",
            "Requirement already satisfied: kaggle>=1.3.9 in /usr/local/lib/python3.8/dist-packages (from tf-models-official>=2.5.1->object-detection==0.1) (1.5.12)\n",
            "Requirement already satisfied: google-api-python-client>=1.6.7 in /usr/local/lib/python3.8/dist-packages (from tf-models-official>=2.5.1->object-detection==0.1) (1.12.11)\n",
            "Requirement already satisfied: psutil>=5.4.3 in /usr/local/lib/python3.8/dist-packages (from tf-models-official>=2.5.1->object-detection==0.1) (5.4.8)\n",
            "Requirement already satisfied: tensorflow-hub>=0.6.0 in /usr/local/lib/python3.8/dist-packages (from tf-models-official>=2.5.1->object-detection==0.1) (0.12.0)\n",
            "Collecting sentencepiece\n",
            "  Downloading sentencepiece-0.1.97-cp38-cp38-manylinux_2_17_x86_64.manylinux2014_x86_64.whl (1.3 MB)\n",
            "\u001b[K     |████████████████████████████████| 1.3 MB 92.0 MB/s \n",
            "\u001b[?25hRequirement already satisfied: opencv-python-headless in /usr/local/lib/python3.8/dist-packages (from tf-models-official>=2.5.1->object-detection==0.1) (4.6.0.66)\n",
            "Collecting tensorflow-text~=2.11.0\n",
            "  Downloading tensorflow_text-2.11.0-cp38-cp38-manylinux_2_17_x86_64.manylinux2014_x86_64.whl (5.8 MB)\n",
            "\u001b[K     |████████████████████████████████| 5.8 MB 94.9 MB/s \n",
            "\u001b[?25hRequirement already satisfied: oauth2client in /usr/local/lib/python3.8/dist-packages (from tf-models-official>=2.5.1->object-detection==0.1) (4.1.3)\n",
            "Collecting seqeval\n",
            "  Downloading seqeval-1.2.2.tar.gz (43 kB)\n",
            "\u001b[K     |████████████████████████████████| 43 kB 2.5 MB/s \n",
            "\u001b[?25hCollecting py-cpuinfo>=3.3.0\n",
            "  Downloading py_cpuinfo-9.0.0-py3-none-any.whl (22 kB)\n",
            "Collecting pyyaml<6.0,>=5.1\n",
            "  Downloading PyYAML-5.4.1-cp38-cp38-manylinux1_x86_64.whl (662 kB)\n",
            "\u001b[K     |████████████████████████████████| 662 kB 85.4 MB/s \n",
            "\u001b[?25hRequirement already satisfied: tensorflow-datasets in /usr/local/lib/python3.8/dist-packages (from tf-models-official>=2.5.1->object-detection==0.1) (4.6.0)\n",
            "Collecting tensorflow~=2.11.0\n",
            "  Downloading tensorflow-2.11.0-cp38-cp38-manylinux_2_17_x86_64.manylinux2014_x86_64.whl (588.3 MB)\n",
            "\u001b[K     |████████████████████████████████| 588.3 MB 20 kB/s \n",
            "\u001b[?25hRequirement already satisfied: google-auth-httplib2>=0.0.3 in /usr/local/lib/python3.8/dist-packages (from google-api-python-client>=1.6.7->tf-models-official>=2.5.1->object-detection==0.1) (0.0.4)\n",
            "Requirement already satisfied: httplib2<1dev,>=0.15.0 in /usr/local/lib/python3.8/dist-packages (from google-api-python-client>=1.6.7->tf-models-official>=2.5.1->object-detection==0.1) (0.17.4)\n",
            "Requirement already satisfied: uritemplate<4dev,>=3.0.0 in /usr/local/lib/python3.8/dist-packages (from google-api-python-client>=1.6.7->tf-models-official>=2.5.1->object-detection==0.1) (3.0.1)\n",
            "Requirement already satisfied: google-auth<3dev,>=1.16.0 in /usr/local/lib/python3.8/dist-packages (from google-api-python-client>=1.6.7->tf-models-official>=2.5.1->object-detection==0.1) (2.15.0)\n",
            "Requirement already satisfied: google-api-core<3dev,>=1.21.0 in /usr/local/lib/python3.8/dist-packages (from google-api-python-client>=1.6.7->tf-models-official>=2.5.1->object-detection==0.1) (2.8.2)\n",
            "Requirement already satisfied: requests<3.0.0dev,>=2.18.0 in /usr/local/lib/python3.8/dist-packages (from google-api-core<3dev,>=1.21.0->google-api-python-client>=1.6.7->tf-models-official>=2.5.1->object-detection==0.1) (2.23.0)\n",
            "Requirement already satisfied: googleapis-common-protos<2.0dev,>=1.56.2 in /usr/local/lib/python3.8/dist-packages (from google-api-core<3dev,>=1.21.0->google-api-python-client>=1.6.7->tf-models-official>=2.5.1->object-detection==0.1) (1.57.0)\n",
            "Requirement already satisfied: protobuf<5.0.0dev,>=3.15.0 in /usr/local/lib/python3.8/dist-packages (from google-api-core<3dev,>=1.21.0->google-api-python-client>=1.6.7->tf-models-official>=2.5.1->object-detection==0.1) (3.19.6)\n",
            "Requirement already satisfied: cachetools<6.0,>=2.0.0 in /usr/local/lib/python3.8/dist-packages (from google-auth<3dev,>=1.16.0->google-api-python-client>=1.6.7->tf-models-official>=2.5.1->object-detection==0.1) (5.2.0)\n",
            "Requirement already satisfied: rsa<5,>=3.1.4 in /usr/local/lib/python3.8/dist-packages (from google-auth<3dev,>=1.16.0->google-api-python-client>=1.6.7->tf-models-official>=2.5.1->object-detection==0.1) (4.9)\n",
            "Requirement already satisfied: pyasn1-modules>=0.2.1 in /usr/local/lib/python3.8/dist-packages (from google-auth<3dev,>=1.16.0->google-api-python-client>=1.6.7->tf-models-official>=2.5.1->object-detection==0.1) (0.2.8)\n",
            "Requirement already satisfied: python-slugify in /usr/local/lib/python3.8/dist-packages (from kaggle>=1.3.9->tf-models-official>=2.5.1->object-detection==0.1) (7.0.0)\n",
            "Requirement already satisfied: python-dateutil in /usr/local/lib/python3.8/dist-packages (from kaggle>=1.3.9->tf-models-official>=2.5.1->object-detection==0.1) (2.8.2)\n",
            "Requirement already satisfied: tqdm in /usr/local/lib/python3.8/dist-packages (from kaggle>=1.3.9->tf-models-official>=2.5.1->object-detection==0.1) (4.64.1)\n",
            "Requirement already satisfied: urllib3 in /usr/local/lib/python3.8/dist-packages (from kaggle>=1.3.9->tf-models-official>=2.5.1->object-detection==0.1) (1.24.3)\n",
            "Requirement already satisfied: certifi in /usr/local/lib/python3.8/dist-packages (from kaggle>=1.3.9->tf-models-official>=2.5.1->object-detection==0.1) (2022.12.7)\n",
            "Requirement already satisfied: pytz>=2017.3 in /usr/local/lib/python3.8/dist-packages (from pandas->object-detection==0.1) (2022.6)\n",
            "Requirement already satisfied: pyasn1<0.5.0,>=0.4.6 in /usr/local/lib/python3.8/dist-packages (from pyasn1-modules>=0.2.1->google-auth<3dev,>=1.16.0->google-api-python-client>=1.6.7->tf-models-official>=2.5.1->object-detection==0.1) (0.4.8)\n",
            "Requirement already satisfied: chardet<4,>=3.0.2 in /usr/local/lib/python3.8/dist-packages (from requests<3.0.0dev,>=2.18.0->google-api-core<3dev,>=1.21.0->google-api-python-client>=1.6.7->tf-models-official>=2.5.1->object-detection==0.1) (3.0.4)\n",
            "Requirement already satisfied: idna<3,>=2.5 in /usr/local/lib/python3.8/dist-packages (from requests<3.0.0dev,>=2.18.0->google-api-core<3dev,>=1.21.0->google-api-python-client>=1.6.7->tf-models-official>=2.5.1->object-detection==0.1) (2.10)\n",
            "Collecting flatbuffers>=2.0\n",
            "  Downloading flatbuffers-22.12.6-py2.py3-none-any.whl (26 kB)\n",
            "Requirement already satisfied: setuptools in /usr/local/lib/python3.8/dist-packages (from tensorflow~=2.11.0->tf-models-official>=2.5.1->object-detection==0.1) (57.4.0)\n",
            "Requirement already satisfied: google-pasta>=0.1.1 in /usr/local/lib/python3.8/dist-packages (from tensorflow~=2.11.0->tf-models-official>=2.5.1->object-detection==0.1) (0.2.0)\n",
            "Requirement already satisfied: astunparse>=1.6.0 in /usr/local/lib/python3.8/dist-packages (from tensorflow~=2.11.0->tf-models-official>=2.5.1->object-detection==0.1) (1.6.3)\n",
            "Collecting keras\n",
            "  Downloading keras-2.11.0-py2.py3-none-any.whl (1.7 MB)\n",
            "\u001b[K     |████████████████████████████████| 1.7 MB 86.8 MB/s \n",
            "\u001b[?25hRequirement already satisfied: wrapt>=1.11.0 in /usr/local/lib/python3.8/dist-packages (from tensorflow~=2.11.0->tf-models-official>=2.5.1->object-detection==0.1) (1.14.1)\n",
            "Requirement already satisfied: packaging in /usr/local/lib/python3.8/dist-packages (from tensorflow~=2.11.0->tf-models-official>=2.5.1->object-detection==0.1) (21.3)\n",
            "Requirement already satisfied: libclang>=13.0.0 in /usr/local/lib/python3.8/dist-packages (from tensorflow~=2.11.0->tf-models-official>=2.5.1->object-detection==0.1) (14.0.6)\n",
            "Requirement already satisfied: tensorflow-io-gcs-filesystem>=0.23.1 in /usr/local/lib/python3.8/dist-packages (from tensorflow~=2.11.0->tf-models-official>=2.5.1->object-detection==0.1) (0.29.0)\n",
            "Requirement already satisfied: gast<=0.4.0,>=0.2.1 in /usr/local/lib/python3.8/dist-packages (from tensorflow~=2.11.0->tf-models-official>=2.5.1->object-detection==0.1) (0.4.0)\n",
            "Requirement already satisfied: grpcio<2.0,>=1.24.3 in /usr/local/lib/python3.8/dist-packages (from tensorflow~=2.11.0->tf-models-official>=2.5.1->object-detection==0.1) (1.51.1)\n",
            "Requirement already satisfied: termcolor>=1.1.0 in /usr/local/lib/python3.8/dist-packages (from tensorflow~=2.11.0->tf-models-official>=2.5.1->object-detection==0.1) (2.1.1)\n",
            "Requirement already satisfied: typing-extensions>=3.6.6 in /usr/local/lib/python3.8/dist-packages (from tensorflow~=2.11.0->tf-models-official>=2.5.1->object-detection==0.1) (4.4.0)\n",
            "Collecting tensorboard<2.12,>=2.11\n",
            "  Downloading tensorboard-2.11.0-py3-none-any.whl (6.0 MB)\n",
            "\u001b[K     |████████████████████████████████| 6.0 MB 87.2 MB/s \n",
            "\u001b[?25hRequirement already satisfied: absl-py>=1.0.0 in /usr/local/lib/python3.8/dist-packages (from tensorflow~=2.11.0->tf-models-official>=2.5.1->object-detection==0.1) (1.3.0)\n",
            "Requirement already satisfied: opt-einsum>=2.3.2 in /usr/local/lib/python3.8/dist-packages (from tensorflow~=2.11.0->tf-models-official>=2.5.1->object-detection==0.1) (3.3.0)\n",
            "Collecting tensorflow-estimator<2.12,>=2.11.0\n",
            "  Downloading tensorflow_estimator-2.11.0-py2.py3-none-any.whl (439 kB)\n",
            "\u001b[K     |████████████████████████████████| 439 kB 93.5 MB/s \n",
            "\u001b[?25hRequirement already satisfied: h5py>=2.9.0 in /usr/local/lib/python3.8/dist-packages (from tensorflow~=2.11.0->tf-models-official>=2.5.1->object-detection==0.1) (3.1.0)\n",
            "Requirement already satisfied: wheel<1.0,>=0.23.0 in /usr/local/lib/python3.8/dist-packages (from astunparse>=1.6.0->tensorflow~=2.11.0->tf-models-official>=2.5.1->object-detection==0.1) (0.38.4)\n",
            "Requirement already satisfied: markdown>=2.6.8 in /usr/local/lib/python3.8/dist-packages (from tensorboard<2.12,>=2.11->tensorflow~=2.11.0->tf-models-official>=2.5.1->object-detection==0.1) (3.4.1)\n",
            "Requirement already satisfied: tensorboard-plugin-wit>=1.6.0 in /usr/local/lib/python3.8/dist-packages (from tensorboard<2.12,>=2.11->tensorflow~=2.11.0->tf-models-official>=2.5.1->object-detection==0.1) (1.8.1)\n",
            "Requirement already satisfied: google-auth-oauthlib<0.5,>=0.4.1 in /usr/local/lib/python3.8/dist-packages (from tensorboard<2.12,>=2.11->tensorflow~=2.11.0->tf-models-official>=2.5.1->object-detection==0.1) (0.4.6)\n",
            "Requirement already satisfied: tensorboard-data-server<0.7.0,>=0.6.0 in /usr/local/lib/python3.8/dist-packages (from tensorboard<2.12,>=2.11->tensorflow~=2.11.0->tf-models-official>=2.5.1->object-detection==0.1) (0.6.1)\n",
            "Requirement already satisfied: werkzeug>=1.0.1 in /usr/local/lib/python3.8/dist-packages (from tensorboard<2.12,>=2.11->tensorflow~=2.11.0->tf-models-official>=2.5.1->object-detection==0.1) (1.0.1)\n",
            "Requirement already satisfied: requests-oauthlib>=0.7.0 in /usr/local/lib/python3.8/dist-packages (from google-auth-oauthlib<0.5,>=0.4.1->tensorboard<2.12,>=2.11->tensorflow~=2.11.0->tf-models-official>=2.5.1->object-detection==0.1) (1.3.1)\n",
            "Requirement already satisfied: importlib-metadata>=4.4 in /usr/local/lib/python3.8/dist-packages (from markdown>=2.6.8->tensorboard<2.12,>=2.11->tensorflow~=2.11.0->tf-models-official>=2.5.1->object-detection==0.1) (5.1.0)\n",
            "Requirement already satisfied: zipp>=0.5 in /usr/local/lib/python3.8/dist-packages (from importlib-metadata>=4.4->markdown>=2.6.8->tensorboard<2.12,>=2.11->tensorflow~=2.11.0->tf-models-official>=2.5.1->object-detection==0.1) (3.11.0)\n",
            "Requirement already satisfied: oauthlib>=3.0.0 in /usr/local/lib/python3.8/dist-packages (from requests-oauthlib>=0.7.0->google-auth-oauthlib<0.5,>=0.4.1->tensorboard<2.12,>=2.11->tensorflow~=2.11.0->tf-models-official>=2.5.1->object-detection==0.1) (3.2.2)\n",
            "Requirement already satisfied: dm-tree~=0.1.1 in /usr/local/lib/python3.8/dist-packages (from tensorflow-model-optimization>=0.4.1->tf-models-official>=2.5.1->object-detection==0.1) (0.1.7)\n",
            "Collecting pymongo<4.0.0,>=3.8.0\n",
            "  Downloading pymongo-3.13.0-cp38-cp38-manylinux_2_17_x86_64.manylinux2014_x86_64.whl (526 kB)\n",
            "\u001b[K     |████████████████████████████████| 526 kB 91.1 MB/s \n",
            "\u001b[?25hCollecting objsize<0.6.0,>=0.5.2\n",
            "  Downloading objsize-0.5.2-py3-none-any.whl (8.2 kB)\n",
            "Collecting fastavro<2,>=0.23.6\n",
            "  Downloading fastavro-1.7.0-cp38-cp38-manylinux_2_17_x86_64.manylinux2014_x86_64.whl (2.7 MB)\n",
            "\u001b[K     |████████████████████████████████| 2.7 MB 83.2 MB/s \n",
            "\u001b[?25hRequirement already satisfied: pydot<2,>=1.2.0 in /usr/local/lib/python3.8/dist-packages (from apache-beam->object-detection==0.1) (1.3.0)\n",
            "Requirement already satisfied: crcmod<2.0,>=1.7 in /usr/local/lib/python3.8/dist-packages (from apache-beam->object-detection==0.1) (1.7)\n",
            "Requirement already satisfied: pyarrow<10.0.0,>=0.15.1 in /usr/local/lib/python3.8/dist-packages (from apache-beam->object-detection==0.1) (9.0.0)\n",
            "Collecting cloudpickle~=2.2.0\n",
            "  Downloading cloudpickle-2.2.0-py3-none-any.whl (25 kB)\n",
            "Collecting dill<0.3.2,>=0.3.1.1\n",
            "  Downloading dill-0.3.1.1.tar.gz (151 kB)\n",
            "\u001b[K     |████████████████████████████████| 151 kB 95.9 MB/s \n",
            "\u001b[?25hCollecting hdfs<3.0.0,>=2.1.0\n",
            "  Downloading hdfs-2.7.0-py3-none-any.whl (34 kB)\n",
            "Collecting fasteners<1.0,>=0.3\n",
            "  Downloading fasteners-0.18-py3-none-any.whl (18 kB)\n",
            "Requirement already satisfied: proto-plus<2,>=1.7.1 in /usr/local/lib/python3.8/dist-packages (from apache-beam->object-detection==0.1) (1.22.1)\n",
            "Collecting zstandard<1,>=0.18.0\n",
            "  Downloading zstandard-0.19.0-cp38-cp38-manylinux_2_17_x86_64.manylinux2014_x86_64.whl (2.5 MB)\n",
            "\u001b[K     |████████████████████████████████| 2.5 MB 77.8 MB/s \n",
            "\u001b[?25hCollecting requests<3.0.0dev,>=2.18.0\n",
            "  Downloading requests-2.28.1-py3-none-any.whl (62 kB)\n",
            "\u001b[K     |████████████████████████████████| 62 kB 1.6 MB/s \n",
            "\u001b[?25hCollecting orjson<4.0\n",
            "  Downloading orjson-3.8.3-cp38-cp38-manylinux_2_17_x86_64.manylinux2014_x86_64.whl (278 kB)\n",
            "\u001b[K     |████████████████████████████████| 278 kB 103.2 MB/s \n",
            "\u001b[?25hCollecting docopt\n",
            "  Downloading docopt-0.6.2.tar.gz (25 kB)\n",
            "Requirement already satisfied: charset-normalizer<3,>=2 in /usr/local/lib/python3.8/dist-packages (from requests<3.0.0dev,>=2.18.0->google-api-core<3dev,>=1.21.0->google-api-python-client>=1.6.7->tf-models-official>=2.5.1->object-detection==0.1) (2.1.1)\n",
            "Requirement already satisfied: cycler>=0.10.0 in /usr/local/lib/python3.8/dist-packages (from lvis->object-detection==0.1) (0.11.0)\n",
            "Requirement already satisfied: kiwisolver>=1.1.0 in /usr/local/lib/python3.8/dist-packages (from lvis->object-detection==0.1) (1.4.4)\n",
            "Requirement already satisfied: opencv-python>=4.1.0.25 in /usr/local/lib/python3.8/dist-packages (from lvis->object-detection==0.1) (4.7.0.68)\n",
            "Requirement already satisfied: text-unidecode>=1.3 in /usr/local/lib/python3.8/dist-packages (from python-slugify->kaggle>=1.3.9->tf-models-official>=2.5.1->object-detection==0.1) (1.3)\n",
            "Requirement already satisfied: scikit-learn>=0.21.3 in /usr/local/lib/python3.8/dist-packages (from seqeval->tf-models-official>=2.5.1->object-detection==0.1) (1.0.2)\n",
            "Requirement already satisfied: joblib>=0.11 in /usr/local/lib/python3.8/dist-packages (from scikit-learn>=0.21.3->seqeval->tf-models-official>=2.5.1->object-detection==0.1) (1.2.0)\n",
            "Requirement already satisfied: threadpoolctl>=2.0.0 in /usr/local/lib/python3.8/dist-packages (from scikit-learn>=0.21.3->seqeval->tf-models-official>=2.5.1->object-detection==0.1) (3.1.0)\n",
            "Requirement already satisfied: typeguard>=2.7 in /usr/local/lib/python3.8/dist-packages (from tensorflow-addons->tf-models-official>=2.5.1->object-detection==0.1) (2.7.1)\n",
            "Requirement already satisfied: tensorflow-metadata in /usr/local/lib/python3.8/dist-packages (from tensorflow-datasets->tf-models-official>=2.5.1->object-detection==0.1) (1.12.0)\n",
            "Requirement already satisfied: toml in /usr/local/lib/python3.8/dist-packages (from tensorflow-datasets->tf-models-official>=2.5.1->object-detection==0.1) (0.10.2)\n",
            "Requirement already satisfied: etils[epath] in /usr/local/lib/python3.8/dist-packages (from tensorflow-datasets->tf-models-official>=2.5.1->object-detection==0.1) (0.9.0)\n",
            "Requirement already satisfied: importlib-resources in /usr/local/lib/python3.8/dist-packages (from tensorflow-datasets->tf-models-official>=2.5.1->object-detection==0.1) (5.10.1)\n",
            "Requirement already satisfied: promise in /usr/local/lib/python3.8/dist-packages (from tensorflow-datasets->tf-models-official>=2.5.1->object-detection==0.1) (2.3)\n",
            "Building wheels for collected packages: object-detection, dill, avro-python3, docopt, seqeval\n",
            "  Building wheel for object-detection (setup.py) ... \u001b[?25l\u001b[?25hdone\n",
            "  Created wheel for object-detection: filename=object_detection-0.1-py3-none-any.whl size=1696474 sha256=34117794663000b8f62cc352ecf1b21631a02e8cc5a563dfbca3feb7c3090778\n",
            "  Stored in directory: /tmp/pip-ephem-wheel-cache-qs1dnkje/wheels/5a/cc/74/43f231ffe41f747ee0cae05b33a8944908a148ffa9a7143f86\n",
            "  Building wheel for dill (setup.py) ... \u001b[?25l\u001b[?25hdone\n",
            "  Created wheel for dill: filename=dill-0.3.1.1-py3-none-any.whl size=78544 sha256=9f23c013701d75cfc0816bbc5ea3bd0018e761cc3f7b11b0c318f166307b6957\n",
            "  Stored in directory: /root/.cache/pip/wheels/07/35/78/e9004fa30578734db7f10e7a211605f3f0778d2bdde38a239d\n",
            "  Building wheel for avro-python3 (setup.py) ... \u001b[?25l\u001b[?25hdone\n",
            "  Created wheel for avro-python3: filename=avro_python3-1.10.2-py3-none-any.whl size=44009 sha256=9d140c108e2d3ce36e31eabf67767952c0a5dad30b408080d90733784c78d25c\n",
            "  Stored in directory: /root/.cache/pip/wheels/bb/73/e9/d273421f5723c4bf544dcf9eb097bda94421ef8d3252699f0a\n",
            "  Building wheel for docopt (setup.py) ... \u001b[?25l\u001b[?25hdone\n",
            "  Created wheel for docopt: filename=docopt-0.6.2-py2.py3-none-any.whl size=13723 sha256=1e7672344eb5e94f321acc2936ae01bdf14927af16f1027612ee3cd7a2606601\n",
            "  Stored in directory: /root/.cache/pip/wheels/56/ea/58/ead137b087d9e326852a851351d1debf4ada529b6ac0ec4e8c\n",
            "  Building wheel for seqeval (setup.py) ... \u001b[?25l\u001b[?25hdone\n",
            "  Created wheel for seqeval: filename=seqeval-1.2.2-py3-none-any.whl size=16179 sha256=1aef31d794cb7a99a1c688ce8dde66d2176d2ffc56748e9c3455a71473829297\n",
            "  Stored in directory: /root/.cache/pip/wheels/ad/5c/ba/05fa33fa5855777b7d686e843ec07452f22a66a138e290e732\n",
            "Successfully built object-detection dill avro-python3 docopt seqeval\n",
            "Installing collected packages: requests, pyparsing, tensorflow-estimator, tensorboard, keras, flatbuffers, tensorflow, portalocker, docopt, dill, colorama, zstandard, tensorflow-text, tensorflow-model-optimization, seqeval, sentencepiece, sacrebleu, pyyaml, pymongo, py-cpuinfo, orjson, objsize, immutabledict, hdfs, fasteners, fastavro, cloudpickle, tf-models-official, avro-python3, apache-beam, object-detection\n",
            "  Attempting uninstall: requests\n",
            "    Found existing installation: requests 2.23.0\n",
            "    Uninstalling requests-2.23.0:\n",
            "      Successfully uninstalled requests-2.23.0\n",
            "  Attempting uninstall: pyparsing\n",
            "    Found existing installation: pyparsing 3.0.9\n",
            "    Uninstalling pyparsing-3.0.9:\n",
            "      Successfully uninstalled pyparsing-3.0.9\n",
            "  Attempting uninstall: tensorflow-estimator\n",
            "    Found existing installation: tensorflow-estimator 2.9.0\n",
            "    Uninstalling tensorflow-estimator-2.9.0:\n",
            "      Successfully uninstalled tensorflow-estimator-2.9.0\n",
            "  Attempting uninstall: tensorboard\n",
            "    Found existing installation: tensorboard 2.9.1\n",
            "    Uninstalling tensorboard-2.9.1:\n",
            "      Successfully uninstalled tensorboard-2.9.1\n",
            "  Attempting uninstall: keras\n",
            "    Found existing installation: keras 2.9.0\n",
            "    Uninstalling keras-2.9.0:\n",
            "      Successfully uninstalled keras-2.9.0\n",
            "  Attempting uninstall: flatbuffers\n",
            "    Found existing installation: flatbuffers 1.12\n",
            "    Uninstalling flatbuffers-1.12:\n",
            "      Successfully uninstalled flatbuffers-1.12\n",
            "  Attempting uninstall: tensorflow\n",
            "    Found existing installation: tensorflow 2.9.2\n",
            "    Uninstalling tensorflow-2.9.2:\n",
            "      Successfully uninstalled tensorflow-2.9.2\n",
            "  Attempting uninstall: dill\n",
            "    Found existing installation: dill 0.3.6\n",
            "    Uninstalling dill-0.3.6:\n",
            "      Successfully uninstalled dill-0.3.6\n",
            "  Attempting uninstall: pyyaml\n",
            "    Found existing installation: PyYAML 6.0\n",
            "    Uninstalling PyYAML-6.0:\n",
            "      Successfully uninstalled PyYAML-6.0\n",
            "  Attempting uninstall: pymongo\n",
            "    Found existing installation: pymongo 4.3.3\n",
            "    Uninstalling pymongo-4.3.3:\n",
            "      Successfully uninstalled pymongo-4.3.3\n",
            "  Attempting uninstall: cloudpickle\n",
            "    Found existing installation: cloudpickle 1.5.0\n",
            "    Uninstalling cloudpickle-1.5.0:\n",
            "      Successfully uninstalled cloudpickle-1.5.0\n",
            "Successfully installed apache-beam-2.43.0 avro-python3-1.10.2 cloudpickle-2.2.0 colorama-0.4.6 dill-0.3.1.1 docopt-0.6.2 fastavro-1.7.0 fasteners-0.18 flatbuffers-22.12.6 hdfs-2.7.0 immutabledict-2.2.3 keras-2.11.0 object-detection-0.1 objsize-0.5.2 orjson-3.8.3 portalocker-2.6.0 py-cpuinfo-9.0.0 pymongo-3.13.0 pyparsing-2.4.7 pyyaml-5.4.1 requests-2.28.1 sacrebleu-2.2.0 sentencepiece-0.1.97 seqeval-1.2.2 tensorboard-2.11.0 tensorflow-2.11.0 tensorflow-estimator-2.11.0 tensorflow-model-optimization-0.7.3 tensorflow-text-2.11.0 tf-models-official-2.11.2 zstandard-0.19.0\n"
          ]
        }
      ]
    },
    {
      "cell_type": "markdown",
      "source": [
        "Test API"
      ],
      "metadata": {
        "id": "ldKbBhC6-Poa"
      }
    },
    {
      "cell_type": "code",
      "source": [
        "!python /content/gdrive/MyDrive/models/research/object_detection/builders/model_builder_tf2_test.py"
      ],
      "metadata": {
        "id": "5zLjE_No5bf7",
        "colab": {
          "base_uri": "https://localhost:8080/"
        },
        "outputId": "0fd65e57-b8b0-4c06-b2a7-397f7f977f60"
      },
      "execution_count": null,
      "outputs": [
        {
          "output_type": "stream",
          "name": "stdout",
          "text": [
            "2023-01-02 12:28:51.817235: I tensorflow/core/platform/cpu_feature_guard.cc:193] This TensorFlow binary is optimized with oneAPI Deep Neural Network Library (oneDNN) to use the following CPU instructions in performance-critical operations:  AVX2 AVX512F AVX512_VNNI FMA\n",
            "To enable them in other operations, rebuild TensorFlow with the appropriate compiler flags.\n",
            "2023-01-02 12:28:51.957574: I tensorflow/core/util/port.cc:104] oneDNN custom operations are on. You may see slightly different numerical results due to floating-point round-off errors from different computation orders. To turn them off, set the environment variable `TF_ENABLE_ONEDNN_OPTS=0`.\n",
            "2023-01-02 12:28:52.779564: W tensorflow/compiler/xla/stream_executor/platform/default/dso_loader.cc:64] Could not load dynamic library 'libnvinfer.so.7'; dlerror: libnvinfer.so.7: cannot open shared object file: No such file or directory; LD_LIBRARY_PATH: /usr/lib64-nvidia\n",
            "2023-01-02 12:28:52.779729: W tensorflow/compiler/xla/stream_executor/platform/default/dso_loader.cc:64] Could not load dynamic library 'libnvinfer_plugin.so.7'; dlerror: libnvinfer_plugin.so.7: cannot open shared object file: No such file or directory; LD_LIBRARY_PATH: /usr/lib64-nvidia\n",
            "2023-01-02 12:28:52.779748: W tensorflow/compiler/tf2tensorrt/utils/py_utils.cc:38] TF-TRT Warning: Cannot dlopen some TensorRT libraries. If you would like to use Nvidia GPU with TensorRT, please make sure the missing libraries mentioned above are installed properly.\n",
            "Running tests under Python 3.8.16: /usr/bin/python3\n",
            "[ RUN      ] ModelBuilderTF2Test.test_create_center_net_deepmac\n",
            "2023-01-02 12:28:56.579772: W tensorflow/core/common_runtime/gpu/gpu_bfc_allocator.cc:42] Overriding orig_value setting because the TF_FORCE_GPU_ALLOW_GROWTH environment variable is set. Original config value was 0.\n",
            "2023-01-02 12:28:56.579835: I tensorflow/core/common_runtime/gpu/gpu_device.cc:1613] Created device /job:localhost/replica:0/task:0/device:GPU:0 with 38350 MB memory:  -> device: 0, name: A100-SXM4-40GB, pci bus id: 0000:00:04.0, compute capability: 8.0\n",
            "W0102 12:28:56.856669 140693505230720 model_builder.py:1112] Building experimental DeepMAC meta-arch. Some features may be omitted.\n",
            "INFO:tensorflow:time(__main__.ModelBuilderTF2Test.test_create_center_net_deepmac): 1.48s\n",
            "I0102 12:28:57.147908 140693505230720 test_util.py:2457] time(__main__.ModelBuilderTF2Test.test_create_center_net_deepmac): 1.48s\n",
            "[       OK ] ModelBuilderTF2Test.test_create_center_net_deepmac\n",
            "[ RUN      ] ModelBuilderTF2Test.test_create_center_net_model0 (customize_head_params=True)\n",
            "INFO:tensorflow:time(__main__.ModelBuilderTF2Test.test_create_center_net_model0 (customize_head_params=True)): 0.68s\n",
            "I0102 12:28:57.833259 140693505230720 test_util.py:2457] time(__main__.ModelBuilderTF2Test.test_create_center_net_model0 (customize_head_params=True)): 0.68s\n",
            "[       OK ] ModelBuilderTF2Test.test_create_center_net_model0 (customize_head_params=True)\n",
            "[ RUN      ] ModelBuilderTF2Test.test_create_center_net_model1 (customize_head_params=False)\n",
            "INFO:tensorflow:time(__main__.ModelBuilderTF2Test.test_create_center_net_model1 (customize_head_params=False)): 0.3s\n",
            "I0102 12:28:58.130290 140693505230720 test_util.py:2457] time(__main__.ModelBuilderTF2Test.test_create_center_net_model1 (customize_head_params=False)): 0.3s\n",
            "[       OK ] ModelBuilderTF2Test.test_create_center_net_model1 (customize_head_params=False)\n",
            "[ RUN      ] ModelBuilderTF2Test.test_create_center_net_model_from_keypoints\n",
            "INFO:tensorflow:time(__main__.ModelBuilderTF2Test.test_create_center_net_model_from_keypoints): 0.27s\n",
            "I0102 12:28:58.403461 140693505230720 test_util.py:2457] time(__main__.ModelBuilderTF2Test.test_create_center_net_model_from_keypoints): 0.27s\n",
            "[       OK ] ModelBuilderTF2Test.test_create_center_net_model_from_keypoints\n",
            "[ RUN      ] ModelBuilderTF2Test.test_create_center_net_model_mobilenet\n",
            "INFO:tensorflow:time(__main__.ModelBuilderTF2Test.test_create_center_net_model_mobilenet): 2.17s\n",
            "I0102 12:29:00.570486 140693505230720 test_util.py:2457] time(__main__.ModelBuilderTF2Test.test_create_center_net_model_mobilenet): 2.17s\n",
            "[       OK ] ModelBuilderTF2Test.test_create_center_net_model_mobilenet\n",
            "[ RUN      ] ModelBuilderTF2Test.test_create_experimental_model\n",
            "INFO:tensorflow:time(__main__.ModelBuilderTF2Test.test_create_experimental_model): 0.0s\n",
            "I0102 12:29:00.575973 140693505230720 test_util.py:2457] time(__main__.ModelBuilderTF2Test.test_create_experimental_model): 0.0s\n",
            "[       OK ] ModelBuilderTF2Test.test_create_experimental_model\n",
            "[ RUN      ] ModelBuilderTF2Test.test_create_faster_rcnn_from_config_with_crop_feature0 (True)\n",
            "INFO:tensorflow:time(__main__.ModelBuilderTF2Test.test_create_faster_rcnn_from_config_with_crop_feature0 (True)): 0.02s\n",
            "I0102 12:29:00.601150 140693505230720 test_util.py:2457] time(__main__.ModelBuilderTF2Test.test_create_faster_rcnn_from_config_with_crop_feature0 (True)): 0.02s\n",
            "[       OK ] ModelBuilderTF2Test.test_create_faster_rcnn_from_config_with_crop_feature0 (True)\n",
            "[ RUN      ] ModelBuilderTF2Test.test_create_faster_rcnn_from_config_with_crop_feature1 (False)\n",
            "INFO:tensorflow:time(__main__.ModelBuilderTF2Test.test_create_faster_rcnn_from_config_with_crop_feature1 (False)): 0.02s\n",
            "I0102 12:29:00.617946 140693505230720 test_util.py:2457] time(__main__.ModelBuilderTF2Test.test_create_faster_rcnn_from_config_with_crop_feature1 (False)): 0.02s\n",
            "[       OK ] ModelBuilderTF2Test.test_create_faster_rcnn_from_config_with_crop_feature1 (False)\n",
            "[ RUN      ] ModelBuilderTF2Test.test_create_faster_rcnn_model_from_config_with_example_miner\n",
            "INFO:tensorflow:time(__main__.ModelBuilderTF2Test.test_create_faster_rcnn_model_from_config_with_example_miner): 0.02s\n",
            "I0102 12:29:00.635665 140693505230720 test_util.py:2457] time(__main__.ModelBuilderTF2Test.test_create_faster_rcnn_model_from_config_with_example_miner): 0.02s\n",
            "[       OK ] ModelBuilderTF2Test.test_create_faster_rcnn_model_from_config_with_example_miner\n",
            "[ RUN      ] ModelBuilderTF2Test.test_create_faster_rcnn_models_from_config_faster_rcnn_with_matmul\n",
            "INFO:tensorflow:time(__main__.ModelBuilderTF2Test.test_create_faster_rcnn_models_from_config_faster_rcnn_with_matmul): 0.24s\n",
            "I0102 12:29:00.873481 140693505230720 test_util.py:2457] time(__main__.ModelBuilderTF2Test.test_create_faster_rcnn_models_from_config_faster_rcnn_with_matmul): 0.24s\n",
            "[       OK ] ModelBuilderTF2Test.test_create_faster_rcnn_models_from_config_faster_rcnn_with_matmul\n",
            "[ RUN      ] ModelBuilderTF2Test.test_create_faster_rcnn_models_from_config_faster_rcnn_without_matmul\n",
            "INFO:tensorflow:time(__main__.ModelBuilderTF2Test.test_create_faster_rcnn_models_from_config_faster_rcnn_without_matmul): 0.1s\n",
            "I0102 12:29:00.974681 140693505230720 test_util.py:2457] time(__main__.ModelBuilderTF2Test.test_create_faster_rcnn_models_from_config_faster_rcnn_without_matmul): 0.1s\n",
            "[       OK ] ModelBuilderTF2Test.test_create_faster_rcnn_models_from_config_faster_rcnn_without_matmul\n",
            "[ RUN      ] ModelBuilderTF2Test.test_create_faster_rcnn_models_from_config_mask_rcnn_with_matmul\n",
            "INFO:tensorflow:time(__main__.ModelBuilderTF2Test.test_create_faster_rcnn_models_from_config_mask_rcnn_with_matmul): 0.11s\n",
            "I0102 12:29:01.080748 140693505230720 test_util.py:2457] time(__main__.ModelBuilderTF2Test.test_create_faster_rcnn_models_from_config_mask_rcnn_with_matmul): 0.11s\n",
            "[       OK ] ModelBuilderTF2Test.test_create_faster_rcnn_models_from_config_mask_rcnn_with_matmul\n",
            "[ RUN      ] ModelBuilderTF2Test.test_create_faster_rcnn_models_from_config_mask_rcnn_without_matmul\n",
            "INFO:tensorflow:time(__main__.ModelBuilderTF2Test.test_create_faster_rcnn_models_from_config_mask_rcnn_without_matmul): 0.11s\n",
            "I0102 12:29:01.186781 140693505230720 test_util.py:2457] time(__main__.ModelBuilderTF2Test.test_create_faster_rcnn_models_from_config_mask_rcnn_without_matmul): 0.11s\n",
            "[       OK ] ModelBuilderTF2Test.test_create_faster_rcnn_models_from_config_mask_rcnn_without_matmul\n",
            "[ RUN      ] ModelBuilderTF2Test.test_create_rfcn_model_from_config\n",
            "INFO:tensorflow:time(__main__.ModelBuilderTF2Test.test_create_rfcn_model_from_config): 0.1s\n",
            "I0102 12:29:01.287409 140693505230720 test_util.py:2457] time(__main__.ModelBuilderTF2Test.test_create_rfcn_model_from_config): 0.1s\n",
            "[       OK ] ModelBuilderTF2Test.test_create_rfcn_model_from_config\n",
            "[ RUN      ] ModelBuilderTF2Test.test_create_ssd_fpn_model_from_config\n",
            "INFO:tensorflow:time(__main__.ModelBuilderTF2Test.test_create_ssd_fpn_model_from_config): 0.03s\n",
            "I0102 12:29:01.317915 140693505230720 test_util.py:2457] time(__main__.ModelBuilderTF2Test.test_create_ssd_fpn_model_from_config): 0.03s\n",
            "[       OK ] ModelBuilderTF2Test.test_create_ssd_fpn_model_from_config\n",
            "[ RUN      ] ModelBuilderTF2Test.test_create_ssd_models_from_config\n",
            "I0102 12:29:01.509660 140693505230720 ssd_efficientnet_bifpn_feature_extractor.py:150] EfficientDet EfficientNet backbone version: efficientnet-b0\n",
            "I0102 12:29:01.509805 140693505230720 ssd_efficientnet_bifpn_feature_extractor.py:152] EfficientDet BiFPN num filters: 64\n",
            "I0102 12:29:01.509865 140693505230720 ssd_efficientnet_bifpn_feature_extractor.py:153] EfficientDet BiFPN num iterations: 3\n",
            "I0102 12:29:01.512201 140693505230720 efficientnet_model.py:143] round_filter input=32 output=32\n",
            "I0102 12:29:01.540107 140693505230720 efficientnet_model.py:143] round_filter input=32 output=32\n",
            "I0102 12:29:01.540236 140693505230720 efficientnet_model.py:143] round_filter input=16 output=16\n",
            "I0102 12:29:01.614311 140693505230720 efficientnet_model.py:143] round_filter input=16 output=16\n",
            "I0102 12:29:01.614444 140693505230720 efficientnet_model.py:143] round_filter input=24 output=24\n",
            "I0102 12:29:01.805522 140693505230720 efficientnet_model.py:143] round_filter input=24 output=24\n",
            "I0102 12:29:01.805674 140693505230720 efficientnet_model.py:143] round_filter input=40 output=40\n",
            "I0102 12:29:01.989566 140693505230720 efficientnet_model.py:143] round_filter input=40 output=40\n",
            "I0102 12:29:01.989723 140693505230720 efficientnet_model.py:143] round_filter input=80 output=80\n",
            "I0102 12:29:02.258473 140693505230720 efficientnet_model.py:143] round_filter input=80 output=80\n",
            "I0102 12:29:02.258639 140693505230720 efficientnet_model.py:143] round_filter input=112 output=112\n",
            "I0102 12:29:02.526676 140693505230720 efficientnet_model.py:143] round_filter input=112 output=112\n",
            "I0102 12:29:02.526830 140693505230720 efficientnet_model.py:143] round_filter input=192 output=192\n",
            "I0102 12:29:02.881151 140693505230720 efficientnet_model.py:143] round_filter input=192 output=192\n",
            "I0102 12:29:02.881320 140693505230720 efficientnet_model.py:143] round_filter input=320 output=320\n",
            "I0102 12:29:02.967924 140693505230720 efficientnet_model.py:143] round_filter input=1280 output=1280\n",
            "I0102 12:29:03.009287 140693505230720 efficientnet_model.py:453] Building model efficientnet with params ModelConfig(width_coefficient=1.0, depth_coefficient=1.0, resolution=224, dropout_rate=0.2, blocks=(BlockConfig(input_filters=32, output_filters=16, kernel_size=3, num_repeat=1, expand_ratio=1, strides=(1, 1), se_ratio=0.25, id_skip=True, fused_conv=False, conv_type='depthwise'), BlockConfig(input_filters=16, output_filters=24, kernel_size=3, num_repeat=2, expand_ratio=6, strides=(2, 2), se_ratio=0.25, id_skip=True, fused_conv=False, conv_type='depthwise'), BlockConfig(input_filters=24, output_filters=40, kernel_size=5, num_repeat=2, expand_ratio=6, strides=(2, 2), se_ratio=0.25, id_skip=True, fused_conv=False, conv_type='depthwise'), BlockConfig(input_filters=40, output_filters=80, kernel_size=3, num_repeat=3, expand_ratio=6, strides=(2, 2), se_ratio=0.25, id_skip=True, fused_conv=False, conv_type='depthwise'), BlockConfig(input_filters=80, output_filters=112, kernel_size=5, num_repeat=3, expand_ratio=6, strides=(1, 1), se_ratio=0.25, id_skip=True, fused_conv=False, conv_type='depthwise'), BlockConfig(input_filters=112, output_filters=192, kernel_size=5, num_repeat=4, expand_ratio=6, strides=(2, 2), se_ratio=0.25, id_skip=True, fused_conv=False, conv_type='depthwise'), BlockConfig(input_filters=192, output_filters=320, kernel_size=3, num_repeat=1, expand_ratio=6, strides=(1, 1), se_ratio=0.25, id_skip=True, fused_conv=False, conv_type='depthwise')), stem_base_filters=32, top_base_filters=1280, activation='simple_swish', batch_norm='default', bn_momentum=0.99, bn_epsilon=0.001, weight_decay=5e-06, drop_connect_rate=0.2, depth_divisor=8, min_depth=None, use_se=True, input_channels=3, num_classes=1000, model_name='efficientnet', rescale_input=False, data_format='channels_last', dtype='float32')\n",
            "I0102 12:29:03.062355 140693505230720 ssd_efficientnet_bifpn_feature_extractor.py:150] EfficientDet EfficientNet backbone version: efficientnet-b1\n",
            "I0102 12:29:03.062497 140693505230720 ssd_efficientnet_bifpn_feature_extractor.py:152] EfficientDet BiFPN num filters: 88\n",
            "I0102 12:29:03.062565 140693505230720 ssd_efficientnet_bifpn_feature_extractor.py:153] EfficientDet BiFPN num iterations: 4\n",
            "I0102 12:29:03.064237 140693505230720 efficientnet_model.py:143] round_filter input=32 output=32\n",
            "I0102 12:29:03.081283 140693505230720 efficientnet_model.py:143] round_filter input=32 output=32\n",
            "I0102 12:29:03.081393 140693505230720 efficientnet_model.py:143] round_filter input=16 output=16\n",
            "I0102 12:29:03.223460 140693505230720 efficientnet_model.py:143] round_filter input=16 output=16\n",
            "I0102 12:29:03.223625 140693505230720 efficientnet_model.py:143] round_filter input=24 output=24\n",
            "I0102 12:29:03.477265 140693505230720 efficientnet_model.py:143] round_filter input=24 output=24\n",
            "I0102 12:29:03.477415 140693505230720 efficientnet_model.py:143] round_filter input=40 output=40\n",
            "I0102 12:29:03.727681 140693505230720 efficientnet_model.py:143] round_filter input=40 output=40\n",
            "I0102 12:29:03.727826 140693505230720 efficientnet_model.py:143] round_filter input=80 output=80\n",
            "I0102 12:29:04.067494 140693505230720 efficientnet_model.py:143] round_filter input=80 output=80\n",
            "I0102 12:29:04.067656 140693505230720 efficientnet_model.py:143] round_filter input=112 output=112\n",
            "I0102 12:29:04.407930 140693505230720 efficientnet_model.py:143] round_filter input=112 output=112\n",
            "I0102 12:29:04.408085 140693505230720 efficientnet_model.py:143] round_filter input=192 output=192\n",
            "I0102 12:29:04.832967 140693505230720 efficientnet_model.py:143] round_filter input=192 output=192\n",
            "I0102 12:29:04.833117 140693505230720 efficientnet_model.py:143] round_filter input=320 output=320\n",
            "I0102 12:29:05.009246 140693505230720 efficientnet_model.py:143] round_filter input=1280 output=1280\n",
            "I0102 12:29:05.041920 140693505230720 efficientnet_model.py:453] Building model efficientnet with params ModelConfig(width_coefficient=1.0, depth_coefficient=1.1, resolution=240, dropout_rate=0.2, blocks=(BlockConfig(input_filters=32, output_filters=16, kernel_size=3, num_repeat=1, expand_ratio=1, strides=(1, 1), se_ratio=0.25, id_skip=True, fused_conv=False, conv_type='depthwise'), BlockConfig(input_filters=16, output_filters=24, kernel_size=3, num_repeat=2, expand_ratio=6, strides=(2, 2), se_ratio=0.25, id_skip=True, fused_conv=False, conv_type='depthwise'), BlockConfig(input_filters=24, output_filters=40, kernel_size=5, num_repeat=2, expand_ratio=6, strides=(2, 2), se_ratio=0.25, id_skip=True, fused_conv=False, conv_type='depthwise'), BlockConfig(input_filters=40, output_filters=80, kernel_size=3, num_repeat=3, expand_ratio=6, strides=(2, 2), se_ratio=0.25, id_skip=True, fused_conv=False, conv_type='depthwise'), BlockConfig(input_filters=80, output_filters=112, kernel_size=5, num_repeat=3, expand_ratio=6, strides=(1, 1), se_ratio=0.25, id_skip=True, fused_conv=False, conv_type='depthwise'), BlockConfig(input_filters=112, output_filters=192, kernel_size=5, num_repeat=4, expand_ratio=6, strides=(2, 2), se_ratio=0.25, id_skip=True, fused_conv=False, conv_type='depthwise'), BlockConfig(input_filters=192, output_filters=320, kernel_size=3, num_repeat=1, expand_ratio=6, strides=(1, 1), se_ratio=0.25, id_skip=True, fused_conv=False, conv_type='depthwise')), stem_base_filters=32, top_base_filters=1280, activation='simple_swish', batch_norm='default', bn_momentum=0.99, bn_epsilon=0.001, weight_decay=5e-06, drop_connect_rate=0.2, depth_divisor=8, min_depth=None, use_se=True, input_channels=3, num_classes=1000, model_name='efficientnet', rescale_input=False, data_format='channels_last', dtype='float32')\n",
            "I0102 12:29:05.102315 140693505230720 ssd_efficientnet_bifpn_feature_extractor.py:150] EfficientDet EfficientNet backbone version: efficientnet-b2\n",
            "I0102 12:29:05.102456 140693505230720 ssd_efficientnet_bifpn_feature_extractor.py:152] EfficientDet BiFPN num filters: 112\n",
            "I0102 12:29:05.102512 140693505230720 ssd_efficientnet_bifpn_feature_extractor.py:153] EfficientDet BiFPN num iterations: 5\n",
            "I0102 12:29:05.104151 140693505230720 efficientnet_model.py:143] round_filter input=32 output=32\n",
            "I0102 12:29:05.121183 140693505230720 efficientnet_model.py:143] round_filter input=32 output=32\n",
            "I0102 12:29:05.121293 140693505230720 efficientnet_model.py:143] round_filter input=16 output=16\n",
            "I0102 12:29:05.252139 140693505230720 efficientnet_model.py:143] round_filter input=16 output=16\n",
            "I0102 12:29:05.252269 140693505230720 efficientnet_model.py:143] round_filter input=24 output=24\n",
            "I0102 12:29:05.518967 140693505230720 efficientnet_model.py:143] round_filter input=24 output=24\n",
            "I0102 12:29:05.519170 140693505230720 efficientnet_model.py:143] round_filter input=40 output=48\n",
            "I0102 12:29:05.956112 140693505230720 efficientnet_model.py:143] round_filter input=40 output=48\n",
            "I0102 12:29:05.956269 140693505230720 efficientnet_model.py:143] round_filter input=80 output=88\n",
            "I0102 12:29:06.313933 140693505230720 efficientnet_model.py:143] round_filter input=80 output=88\n",
            "I0102 12:29:06.314091 140693505230720 efficientnet_model.py:143] round_filter input=112 output=120\n",
            "I0102 12:29:06.672771 140693505230720 efficientnet_model.py:143] round_filter input=112 output=120\n",
            "I0102 12:29:06.672926 140693505230720 efficientnet_model.py:143] round_filter input=192 output=208\n",
            "I0102 12:29:07.104918 140693505230720 efficientnet_model.py:143] round_filter input=192 output=208\n",
            "I0102 12:29:07.105085 140693505230720 efficientnet_model.py:143] round_filter input=320 output=352\n",
            "I0102 12:29:07.287802 140693505230720 efficientnet_model.py:143] round_filter input=1280 output=1408\n",
            "I0102 12:29:07.323859 140693505230720 efficientnet_model.py:453] Building model efficientnet with params ModelConfig(width_coefficient=1.1, depth_coefficient=1.2, resolution=260, dropout_rate=0.3, blocks=(BlockConfig(input_filters=32, output_filters=16, kernel_size=3, num_repeat=1, expand_ratio=1, strides=(1, 1), se_ratio=0.25, id_skip=True, fused_conv=False, conv_type='depthwise'), BlockConfig(input_filters=16, output_filters=24, kernel_size=3, num_repeat=2, expand_ratio=6, strides=(2, 2), se_ratio=0.25, id_skip=True, fused_conv=False, conv_type='depthwise'), BlockConfig(input_filters=24, output_filters=40, kernel_size=5, num_repeat=2, expand_ratio=6, strides=(2, 2), se_ratio=0.25, id_skip=True, fused_conv=False, conv_type='depthwise'), BlockConfig(input_filters=40, output_filters=80, kernel_size=3, num_repeat=3, expand_ratio=6, strides=(2, 2), se_ratio=0.25, id_skip=True, fused_conv=False, conv_type='depthwise'), BlockConfig(input_filters=80, output_filters=112, kernel_size=5, num_repeat=3, expand_ratio=6, strides=(1, 1), se_ratio=0.25, id_skip=True, fused_conv=False, conv_type='depthwise'), BlockConfig(input_filters=112, output_filters=192, kernel_size=5, num_repeat=4, expand_ratio=6, strides=(2, 2), se_ratio=0.25, id_skip=True, fused_conv=False, conv_type='depthwise'), BlockConfig(input_filters=192, output_filters=320, kernel_size=3, num_repeat=1, expand_ratio=6, strides=(1, 1), se_ratio=0.25, id_skip=True, fused_conv=False, conv_type='depthwise')), stem_base_filters=32, top_base_filters=1280, activation='simple_swish', batch_norm='default', bn_momentum=0.99, bn_epsilon=0.001, weight_decay=5e-06, drop_connect_rate=0.2, depth_divisor=8, min_depth=None, use_se=True, input_channels=3, num_classes=1000, model_name='efficientnet', rescale_input=False, data_format='channels_last', dtype='float32')\n",
            "I0102 12:29:07.383989 140693505230720 ssd_efficientnet_bifpn_feature_extractor.py:150] EfficientDet EfficientNet backbone version: efficientnet-b3\n",
            "I0102 12:29:07.384128 140693505230720 ssd_efficientnet_bifpn_feature_extractor.py:152] EfficientDet BiFPN num filters: 160\n",
            "I0102 12:29:07.384183 140693505230720 ssd_efficientnet_bifpn_feature_extractor.py:153] EfficientDet BiFPN num iterations: 6\n",
            "I0102 12:29:07.385851 140693505230720 efficientnet_model.py:143] round_filter input=32 output=40\n",
            "I0102 12:29:07.405808 140693505230720 efficientnet_model.py:143] round_filter input=32 output=40\n",
            "I0102 12:29:07.405938 140693505230720 efficientnet_model.py:143] round_filter input=16 output=24\n",
            "I0102 12:29:07.559210 140693505230720 efficientnet_model.py:143] round_filter input=16 output=24\n",
            "I0102 12:29:07.559381 140693505230720 efficientnet_model.py:143] round_filter input=24 output=32\n",
            "I0102 12:29:07.827354 140693505230720 efficientnet_model.py:143] round_filter input=24 output=32\n",
            "I0102 12:29:07.827522 140693505230720 efficientnet_model.py:143] round_filter input=40 output=48\n",
            "I0102 12:29:08.088380 140693505230720 efficientnet_model.py:143] round_filter input=40 output=48\n",
            "I0102 12:29:08.088561 140693505230720 efficientnet_model.py:143] round_filter input=80 output=96\n",
            "I0102 12:29:08.546412 140693505230720 efficientnet_model.py:143] round_filter input=80 output=96\n",
            "I0102 12:29:08.546615 140693505230720 efficientnet_model.py:143] round_filter input=112 output=136\n",
            "I0102 12:29:08.994622 140693505230720 efficientnet_model.py:143] round_filter input=112 output=136\n",
            "I0102 12:29:08.994777 140693505230720 efficientnet_model.py:143] round_filter input=192 output=232\n",
            "I0102 12:29:09.545097 140693505230720 efficientnet_model.py:143] round_filter input=192 output=232\n",
            "I0102 12:29:09.545295 140693505230720 efficientnet_model.py:143] round_filter input=320 output=384\n",
            "I0102 12:29:09.726066 140693505230720 efficientnet_model.py:143] round_filter input=1280 output=1536\n",
            "I0102 12:29:09.764768 140693505230720 efficientnet_model.py:453] Building model efficientnet with params ModelConfig(width_coefficient=1.2, depth_coefficient=1.4, resolution=300, dropout_rate=0.3, blocks=(BlockConfig(input_filters=32, output_filters=16, kernel_size=3, num_repeat=1, expand_ratio=1, strides=(1, 1), se_ratio=0.25, id_skip=True, fused_conv=False, conv_type='depthwise'), BlockConfig(input_filters=16, output_filters=24, kernel_size=3, num_repeat=2, expand_ratio=6, strides=(2, 2), se_ratio=0.25, id_skip=True, fused_conv=False, conv_type='depthwise'), BlockConfig(input_filters=24, output_filters=40, kernel_size=5, num_repeat=2, expand_ratio=6, strides=(2, 2), se_ratio=0.25, id_skip=True, fused_conv=False, conv_type='depthwise'), BlockConfig(input_filters=40, output_filters=80, kernel_size=3, num_repeat=3, expand_ratio=6, strides=(2, 2), se_ratio=0.25, id_skip=True, fused_conv=False, conv_type='depthwise'), BlockConfig(input_filters=80, output_filters=112, kernel_size=5, num_repeat=3, expand_ratio=6, strides=(1, 1), se_ratio=0.25, id_skip=True, fused_conv=False, conv_type='depthwise'), BlockConfig(input_filters=112, output_filters=192, kernel_size=5, num_repeat=4, expand_ratio=6, strides=(2, 2), se_ratio=0.25, id_skip=True, fused_conv=False, conv_type='depthwise'), BlockConfig(input_filters=192, output_filters=320, kernel_size=3, num_repeat=1, expand_ratio=6, strides=(1, 1), se_ratio=0.25, id_skip=True, fused_conv=False, conv_type='depthwise')), stem_base_filters=32, top_base_filters=1280, activation='simple_swish', batch_norm='default', bn_momentum=0.99, bn_epsilon=0.001, weight_decay=5e-06, drop_connect_rate=0.2, depth_divisor=8, min_depth=None, use_se=True, input_channels=3, num_classes=1000, model_name='efficientnet', rescale_input=False, data_format='channels_last', dtype='float32')\n",
            "I0102 12:29:09.829694 140693505230720 ssd_efficientnet_bifpn_feature_extractor.py:150] EfficientDet EfficientNet backbone version: efficientnet-b4\n",
            "I0102 12:29:09.829837 140693505230720 ssd_efficientnet_bifpn_feature_extractor.py:152] EfficientDet BiFPN num filters: 224\n",
            "I0102 12:29:09.829913 140693505230720 ssd_efficientnet_bifpn_feature_extractor.py:153] EfficientDet BiFPN num iterations: 7\n",
            "I0102 12:29:09.831598 140693505230720 efficientnet_model.py:143] round_filter input=32 output=48\n",
            "I0102 12:29:09.850446 140693505230720 efficientnet_model.py:143] round_filter input=32 output=48\n",
            "I0102 12:29:09.850575 140693505230720 efficientnet_model.py:143] round_filter input=16 output=24\n",
            "I0102 12:29:09.990245 140693505230720 efficientnet_model.py:143] round_filter input=16 output=24\n",
            "I0102 12:29:09.990387 140693505230720 efficientnet_model.py:143] round_filter input=24 output=32\n",
            "I0102 12:29:10.334511 140693505230720 efficientnet_model.py:143] round_filter input=24 output=32\n",
            "I0102 12:29:10.334684 140693505230720 efficientnet_model.py:143] round_filter input=40 output=56\n",
            "I0102 12:29:10.700404 140693505230720 efficientnet_model.py:143] round_filter input=40 output=56\n",
            "I0102 12:29:10.700575 140693505230720 efficientnet_model.py:143] round_filter input=80 output=112\n",
            "I0102 12:29:11.219192 140693505230720 efficientnet_model.py:143] round_filter input=80 output=112\n",
            "I0102 12:29:11.219353 140693505230720 efficientnet_model.py:143] round_filter input=112 output=160\n",
            "I0102 12:29:11.751595 140693505230720 efficientnet_model.py:143] round_filter input=112 output=160\n",
            "I0102 12:29:11.751749 140693505230720 efficientnet_model.py:143] round_filter input=192 output=272\n",
            "I0102 12:29:12.641806 140693505230720 efficientnet_model.py:143] round_filter input=192 output=272\n",
            "I0102 12:29:12.641971 140693505230720 efficientnet_model.py:143] round_filter input=320 output=448\n",
            "I0102 12:29:12.821533 140693505230720 efficientnet_model.py:143] round_filter input=1280 output=1792\n",
            "I0102 12:29:12.857982 140693505230720 efficientnet_model.py:453] Building model efficientnet with params ModelConfig(width_coefficient=1.4, depth_coefficient=1.8, resolution=380, dropout_rate=0.4, blocks=(BlockConfig(input_filters=32, output_filters=16, kernel_size=3, num_repeat=1, expand_ratio=1, strides=(1, 1), se_ratio=0.25, id_skip=True, fused_conv=False, conv_type='depthwise'), BlockConfig(input_filters=16, output_filters=24, kernel_size=3, num_repeat=2, expand_ratio=6, strides=(2, 2), se_ratio=0.25, id_skip=True, fused_conv=False, conv_type='depthwise'), BlockConfig(input_filters=24, output_filters=40, kernel_size=5, num_repeat=2, expand_ratio=6, strides=(2, 2), se_ratio=0.25, id_skip=True, fused_conv=False, conv_type='depthwise'), BlockConfig(input_filters=40, output_filters=80, kernel_size=3, num_repeat=3, expand_ratio=6, strides=(2, 2), se_ratio=0.25, id_skip=True, fused_conv=False, conv_type='depthwise'), BlockConfig(input_filters=80, output_filters=112, kernel_size=5, num_repeat=3, expand_ratio=6, strides=(1, 1), se_ratio=0.25, id_skip=True, fused_conv=False, conv_type='depthwise'), BlockConfig(input_filters=112, output_filters=192, kernel_size=5, num_repeat=4, expand_ratio=6, strides=(2, 2), se_ratio=0.25, id_skip=True, fused_conv=False, conv_type='depthwise'), BlockConfig(input_filters=192, output_filters=320, kernel_size=3, num_repeat=1, expand_ratio=6, strides=(1, 1), se_ratio=0.25, id_skip=True, fused_conv=False, conv_type='depthwise')), stem_base_filters=32, top_base_filters=1280, activation='simple_swish', batch_norm='default', bn_momentum=0.99, bn_epsilon=0.001, weight_decay=5e-06, drop_connect_rate=0.2, depth_divisor=8, min_depth=None, use_se=True, input_channels=3, num_classes=1000, model_name='efficientnet', rescale_input=False, data_format='channels_last', dtype='float32')\n",
            "I0102 12:29:12.931772 140693505230720 ssd_efficientnet_bifpn_feature_extractor.py:150] EfficientDet EfficientNet backbone version: efficientnet-b5\n",
            "I0102 12:29:12.931918 140693505230720 ssd_efficientnet_bifpn_feature_extractor.py:152] EfficientDet BiFPN num filters: 288\n",
            "I0102 12:29:12.931993 140693505230720 ssd_efficientnet_bifpn_feature_extractor.py:153] EfficientDet BiFPN num iterations: 7\n",
            "I0102 12:29:12.933696 140693505230720 efficientnet_model.py:143] round_filter input=32 output=48\n",
            "I0102 12:29:12.950869 140693505230720 efficientnet_model.py:143] round_filter input=32 output=48\n",
            "I0102 12:29:12.950977 140693505230720 efficientnet_model.py:143] round_filter input=16 output=24\n",
            "I0102 12:29:13.156249 140693505230720 efficientnet_model.py:143] round_filter input=16 output=24\n",
            "I0102 12:29:13.156421 140693505230720 efficientnet_model.py:143] round_filter input=24 output=40\n",
            "I0102 12:29:13.577433 140693505230720 efficientnet_model.py:143] round_filter input=24 output=40\n",
            "I0102 12:29:13.577612 140693505230720 efficientnet_model.py:143] round_filter input=40 output=64\n",
            "I0102 12:29:14.010352 140693505230720 efficientnet_model.py:143] round_filter input=40 output=64\n",
            "I0102 12:29:14.010517 140693505230720 efficientnet_model.py:143] round_filter input=80 output=128\n",
            "I0102 12:29:14.618293 140693505230720 efficientnet_model.py:143] round_filter input=80 output=128\n",
            "I0102 12:29:14.618470 140693505230720 efficientnet_model.py:143] round_filter input=112 output=176\n",
            "I0102 12:29:15.227406 140693505230720 efficientnet_model.py:143] round_filter input=112 output=176\n",
            "I0102 12:29:15.227588 140693505230720 efficientnet_model.py:143] round_filter input=192 output=304\n",
            "I0102 12:29:16.002116 140693505230720 efficientnet_model.py:143] round_filter input=192 output=304\n",
            "I0102 12:29:16.002289 140693505230720 efficientnet_model.py:143] round_filter input=320 output=512\n",
            "I0102 12:29:16.270943 140693505230720 efficientnet_model.py:143] round_filter input=1280 output=2048\n",
            "I0102 12:29:16.307313 140693505230720 efficientnet_model.py:453] Building model efficientnet with params ModelConfig(width_coefficient=1.6, depth_coefficient=2.2, resolution=456, dropout_rate=0.4, blocks=(BlockConfig(input_filters=32, output_filters=16, kernel_size=3, num_repeat=1, expand_ratio=1, strides=(1, 1), se_ratio=0.25, id_skip=True, fused_conv=False, conv_type='depthwise'), BlockConfig(input_filters=16, output_filters=24, kernel_size=3, num_repeat=2, expand_ratio=6, strides=(2, 2), se_ratio=0.25, id_skip=True, fused_conv=False, conv_type='depthwise'), BlockConfig(input_filters=24, output_filters=40, kernel_size=5, num_repeat=2, expand_ratio=6, strides=(2, 2), se_ratio=0.25, id_skip=True, fused_conv=False, conv_type='depthwise'), BlockConfig(input_filters=40, output_filters=80, kernel_size=3, num_repeat=3, expand_ratio=6, strides=(2, 2), se_ratio=0.25, id_skip=True, fused_conv=False, conv_type='depthwise'), BlockConfig(input_filters=80, output_filters=112, kernel_size=5, num_repeat=3, expand_ratio=6, strides=(1, 1), se_ratio=0.25, id_skip=True, fused_conv=False, conv_type='depthwise'), BlockConfig(input_filters=112, output_filters=192, kernel_size=5, num_repeat=4, expand_ratio=6, strides=(2, 2), se_ratio=0.25, id_skip=True, fused_conv=False, conv_type='depthwise'), BlockConfig(input_filters=192, output_filters=320, kernel_size=3, num_repeat=1, expand_ratio=6, strides=(1, 1), se_ratio=0.25, id_skip=True, fused_conv=False, conv_type='depthwise')), stem_base_filters=32, top_base_filters=1280, activation='simple_swish', batch_norm='default', bn_momentum=0.99, bn_epsilon=0.001, weight_decay=5e-06, drop_connect_rate=0.2, depth_divisor=8, min_depth=None, use_se=True, input_channels=3, num_classes=1000, model_name='efficientnet', rescale_input=False, data_format='channels_last', dtype='float32')\n",
            "I0102 12:29:16.392115 140693505230720 ssd_efficientnet_bifpn_feature_extractor.py:150] EfficientDet EfficientNet backbone version: efficientnet-b6\n",
            "I0102 12:29:16.392258 140693505230720 ssd_efficientnet_bifpn_feature_extractor.py:152] EfficientDet BiFPN num filters: 384\n",
            "I0102 12:29:16.392337 140693505230720 ssd_efficientnet_bifpn_feature_extractor.py:153] EfficientDet BiFPN num iterations: 8\n",
            "I0102 12:29:16.394028 140693505230720 efficientnet_model.py:143] round_filter input=32 output=56\n",
            "I0102 12:29:16.412624 140693505230720 efficientnet_model.py:143] round_filter input=32 output=56\n",
            "I0102 12:29:16.412739 140693505230720 efficientnet_model.py:143] round_filter input=16 output=32\n",
            "I0102 12:29:16.621386 140693505230720 efficientnet_model.py:143] round_filter input=16 output=32\n",
            "I0102 12:29:16.621539 140693505230720 efficientnet_model.py:143] round_filter input=24 output=40\n",
            "I0102 12:29:17.128379 140693505230720 efficientnet_model.py:143] round_filter input=24 output=40\n",
            "I0102 12:29:17.128564 140693505230720 efficientnet_model.py:143] round_filter input=40 output=72\n",
            "I0102 12:29:17.650583 140693505230720 efficientnet_model.py:143] round_filter input=40 output=72\n",
            "I0102 12:29:17.650742 140693505230720 efficientnet_model.py:143] round_filter input=80 output=144\n",
            "I0102 12:29:18.338586 140693505230720 efficientnet_model.py:143] round_filter input=80 output=144\n",
            "I0102 12:29:18.338745 140693505230720 efficientnet_model.py:143] round_filter input=112 output=200\n",
            "I0102 12:29:19.241108 140693505230720 efficientnet_model.py:143] round_filter input=112 output=200\n",
            "I0102 12:29:19.241267 140693505230720 efficientnet_model.py:143] round_filter input=192 output=344\n",
            "I0102 12:29:20.187113 140693505230720 efficientnet_model.py:143] round_filter input=192 output=344\n",
            "I0102 12:29:20.187268 140693505230720 efficientnet_model.py:143] round_filter input=320 output=576\n",
            "I0102 12:29:20.453992 140693505230720 efficientnet_model.py:143] round_filter input=1280 output=2304\n",
            "I0102 12:29:20.489122 140693505230720 efficientnet_model.py:453] Building model efficientnet with params ModelConfig(width_coefficient=1.8, depth_coefficient=2.6, resolution=528, dropout_rate=0.5, blocks=(BlockConfig(input_filters=32, output_filters=16, kernel_size=3, num_repeat=1, expand_ratio=1, strides=(1, 1), se_ratio=0.25, id_skip=True, fused_conv=False, conv_type='depthwise'), BlockConfig(input_filters=16, output_filters=24, kernel_size=3, num_repeat=2, expand_ratio=6, strides=(2, 2), se_ratio=0.25, id_skip=True, fused_conv=False, conv_type='depthwise'), BlockConfig(input_filters=24, output_filters=40, kernel_size=5, num_repeat=2, expand_ratio=6, strides=(2, 2), se_ratio=0.25, id_skip=True, fused_conv=False, conv_type='depthwise'), BlockConfig(input_filters=40, output_filters=80, kernel_size=3, num_repeat=3, expand_ratio=6, strides=(2, 2), se_ratio=0.25, id_skip=True, fused_conv=False, conv_type='depthwise'), BlockConfig(input_filters=80, output_filters=112, kernel_size=5, num_repeat=3, expand_ratio=6, strides=(1, 1), se_ratio=0.25, id_skip=True, fused_conv=False, conv_type='depthwise'), BlockConfig(input_filters=112, output_filters=192, kernel_size=5, num_repeat=4, expand_ratio=6, strides=(2, 2), se_ratio=0.25, id_skip=True, fused_conv=False, conv_type='depthwise'), BlockConfig(input_filters=192, output_filters=320, kernel_size=3, num_repeat=1, expand_ratio=6, strides=(1, 1), se_ratio=0.25, id_skip=True, fused_conv=False, conv_type='depthwise')), stem_base_filters=32, top_base_filters=1280, activation='simple_swish', batch_norm='default', bn_momentum=0.99, bn_epsilon=0.001, weight_decay=5e-06, drop_connect_rate=0.2, depth_divisor=8, min_depth=None, use_se=True, input_channels=3, num_classes=1000, model_name='efficientnet', rescale_input=False, data_format='channels_last', dtype='float32')\n",
            "I0102 12:29:20.585665 140693505230720 ssd_efficientnet_bifpn_feature_extractor.py:150] EfficientDet EfficientNet backbone version: efficientnet-b7\n",
            "I0102 12:29:20.585795 140693505230720 ssd_efficientnet_bifpn_feature_extractor.py:152] EfficientDet BiFPN num filters: 384\n",
            "I0102 12:29:20.585858 140693505230720 ssd_efficientnet_bifpn_feature_extractor.py:153] EfficientDet BiFPN num iterations: 8\n",
            "I0102 12:29:20.587491 140693505230720 efficientnet_model.py:143] round_filter input=32 output=64\n",
            "I0102 12:29:20.606105 140693505230720 efficientnet_model.py:143] round_filter input=32 output=64\n",
            "I0102 12:29:20.606217 140693505230720 efficientnet_model.py:143] round_filter input=16 output=32\n",
            "I0102 12:29:20.886161 140693505230720 efficientnet_model.py:143] round_filter input=16 output=32\n",
            "I0102 12:29:20.886311 140693505230720 efficientnet_model.py:143] round_filter input=24 output=48\n",
            "I0102 12:29:21.482007 140693505230720 efficientnet_model.py:143] round_filter input=24 output=48\n",
            "I0102 12:29:21.482165 140693505230720 efficientnet_model.py:143] round_filter input=40 output=80\n",
            "I0102 12:29:22.072592 140693505230720 efficientnet_model.py:143] round_filter input=40 output=80\n",
            "I0102 12:29:22.072746 140693505230720 efficientnet_model.py:143] round_filter input=80 output=160\n",
            "I0102 12:29:22.938645 140693505230720 efficientnet_model.py:143] round_filter input=80 output=160\n",
            "I0102 12:29:22.938857 140693505230720 efficientnet_model.py:143] round_filter input=112 output=224\n",
            "I0102 12:29:23.794754 140693505230720 efficientnet_model.py:143] round_filter input=112 output=224\n",
            "I0102 12:29:23.794920 140693505230720 efficientnet_model.py:143] round_filter input=192 output=384\n",
            "I0102 12:29:24.901870 140693505230720 efficientnet_model.py:143] round_filter input=192 output=384\n",
            "I0102 12:29:24.902036 140693505230720 efficientnet_model.py:143] round_filter input=320 output=640\n",
            "I0102 12:29:25.256133 140693505230720 efficientnet_model.py:143] round_filter input=1280 output=2560\n",
            "I0102 12:29:25.291858 140693505230720 efficientnet_model.py:453] Building model efficientnet with params ModelConfig(width_coefficient=2.0, depth_coefficient=3.1, resolution=600, dropout_rate=0.5, blocks=(BlockConfig(input_filters=32, output_filters=16, kernel_size=3, num_repeat=1, expand_ratio=1, strides=(1, 1), se_ratio=0.25, id_skip=True, fused_conv=False, conv_type='depthwise'), BlockConfig(input_filters=16, output_filters=24, kernel_size=3, num_repeat=2, expand_ratio=6, strides=(2, 2), se_ratio=0.25, id_skip=True, fused_conv=False, conv_type='depthwise'), BlockConfig(input_filters=24, output_filters=40, kernel_size=5, num_repeat=2, expand_ratio=6, strides=(2, 2), se_ratio=0.25, id_skip=True, fused_conv=False, conv_type='depthwise'), BlockConfig(input_filters=40, output_filters=80, kernel_size=3, num_repeat=3, expand_ratio=6, strides=(2, 2), se_ratio=0.25, id_skip=True, fused_conv=False, conv_type='depthwise'), BlockConfig(input_filters=80, output_filters=112, kernel_size=5, num_repeat=3, expand_ratio=6, strides=(1, 1), se_ratio=0.25, id_skip=True, fused_conv=False, conv_type='depthwise'), BlockConfig(input_filters=112, output_filters=192, kernel_size=5, num_repeat=4, expand_ratio=6, strides=(2, 2), se_ratio=0.25, id_skip=True, fused_conv=False, conv_type='depthwise'), BlockConfig(input_filters=192, output_filters=320, kernel_size=3, num_repeat=1, expand_ratio=6, strides=(1, 1), se_ratio=0.25, id_skip=True, fused_conv=False, conv_type='depthwise')), stem_base_filters=32, top_base_filters=1280, activation='simple_swish', batch_norm='default', bn_momentum=0.99, bn_epsilon=0.001, weight_decay=5e-06, drop_connect_rate=0.2, depth_divisor=8, min_depth=None, use_se=True, input_channels=3, num_classes=1000, model_name='efficientnet', rescale_input=False, data_format='channels_last', dtype='float32')\n",
            "INFO:tensorflow:time(__main__.ModelBuilderTF2Test.test_create_ssd_models_from_config): 24.3s\n",
            "I0102 12:29:25.617043 140693505230720 test_util.py:2457] time(__main__.ModelBuilderTF2Test.test_create_ssd_models_from_config): 24.3s\n",
            "[       OK ] ModelBuilderTF2Test.test_create_ssd_models_from_config\n",
            "[ RUN      ] ModelBuilderTF2Test.test_invalid_faster_rcnn_batchnorm_update\n",
            "INFO:tensorflow:time(__main__.ModelBuilderTF2Test.test_invalid_faster_rcnn_batchnorm_update): 0.0s\n",
            "I0102 12:29:25.642103 140693505230720 test_util.py:2457] time(__main__.ModelBuilderTF2Test.test_invalid_faster_rcnn_batchnorm_update): 0.0s\n",
            "[       OK ] ModelBuilderTF2Test.test_invalid_faster_rcnn_batchnorm_update\n",
            "[ RUN      ] ModelBuilderTF2Test.test_invalid_first_stage_nms_iou_threshold\n",
            "INFO:tensorflow:time(__main__.ModelBuilderTF2Test.test_invalid_first_stage_nms_iou_threshold): 0.0s\n",
            "I0102 12:29:25.643716 140693505230720 test_util.py:2457] time(__main__.ModelBuilderTF2Test.test_invalid_first_stage_nms_iou_threshold): 0.0s\n",
            "[       OK ] ModelBuilderTF2Test.test_invalid_first_stage_nms_iou_threshold\n",
            "[ RUN      ] ModelBuilderTF2Test.test_invalid_model_config_proto\n",
            "INFO:tensorflow:time(__main__.ModelBuilderTF2Test.test_invalid_model_config_proto): 0.0s\n",
            "I0102 12:29:25.644160 140693505230720 test_util.py:2457] time(__main__.ModelBuilderTF2Test.test_invalid_model_config_proto): 0.0s\n",
            "[       OK ] ModelBuilderTF2Test.test_invalid_model_config_proto\n",
            "[ RUN      ] ModelBuilderTF2Test.test_invalid_second_stage_batch_size\n",
            "INFO:tensorflow:time(__main__.ModelBuilderTF2Test.test_invalid_second_stage_batch_size): 0.0s\n",
            "I0102 12:29:25.645501 140693505230720 test_util.py:2457] time(__main__.ModelBuilderTF2Test.test_invalid_second_stage_batch_size): 0.0s\n",
            "[       OK ] ModelBuilderTF2Test.test_invalid_second_stage_batch_size\n",
            "[ RUN      ] ModelBuilderTF2Test.test_session\n",
            "[  SKIPPED ] ModelBuilderTF2Test.test_session\n",
            "[ RUN      ] ModelBuilderTF2Test.test_unknown_faster_rcnn_feature_extractor\n",
            "INFO:tensorflow:time(__main__.ModelBuilderTF2Test.test_unknown_faster_rcnn_feature_extractor): 0.0s\n",
            "I0102 12:29:25.646713 140693505230720 test_util.py:2457] time(__main__.ModelBuilderTF2Test.test_unknown_faster_rcnn_feature_extractor): 0.0s\n",
            "[       OK ] ModelBuilderTF2Test.test_unknown_faster_rcnn_feature_extractor\n",
            "[ RUN      ] ModelBuilderTF2Test.test_unknown_meta_architecture\n",
            "INFO:tensorflow:time(__main__.ModelBuilderTF2Test.test_unknown_meta_architecture): 0.0s\n",
            "I0102 12:29:25.647089 140693505230720 test_util.py:2457] time(__main__.ModelBuilderTF2Test.test_unknown_meta_architecture): 0.0s\n",
            "[       OK ] ModelBuilderTF2Test.test_unknown_meta_architecture\n",
            "[ RUN      ] ModelBuilderTF2Test.test_unknown_ssd_feature_extractor\n",
            "INFO:tensorflow:time(__main__.ModelBuilderTF2Test.test_unknown_ssd_feature_extractor): 0.0s\n",
            "I0102 12:29:25.647986 140693505230720 test_util.py:2457] time(__main__.ModelBuilderTF2Test.test_unknown_ssd_feature_extractor): 0.0s\n",
            "[       OK ] ModelBuilderTF2Test.test_unknown_ssd_feature_extractor\n",
            "----------------------------------------------------------------------\n",
            "Ran 24 tests in 29.980s\n",
            "\n",
            "OK (skipped=1)\n"
          ]
        }
      ]
    },
    {
      "cell_type": "markdown",
      "source": [
        "## 4. Lable_Map, train 및 test.record 생성성"
      ],
      "metadata": {
        "id": "asSPS2sj4Vo_"
      }
    },
    {
      "cell_type": "markdown",
      "source": [
        "CSV에서 TFRecordfh. and MiAI_SSD_TF2 클론"
      ],
      "metadata": {
        "id": "2EriRrSI_py5"
      }
    },
    {
      "cell_type": "code",
      "source": [
        "%cd /content/gdrive/MyDrive/models/research\n",
        "!git clone https://github.com/thangnch/MiAI_SSD_TF2 #이미 생성되었음\n",
        "!cp MiAI_SSD_TF2/generate_tfrecord.py .\n",
        "!cp MiAI_SSD_TF2/label_map.txt /content/gdrive/MyDrive/data"
      ],
      "metadata": {
        "colab": {
          "base_uri": "https://localhost:8080/"
        },
        "id": "q9qAYJ1BD2Xd",
        "outputId": "25baa3a5-ee84-48e6-8b64-06ec5af16086"
      },
      "execution_count": null,
      "outputs": [
        {
          "output_type": "stream",
          "name": "stdout",
          "text": [
            "/content/gdrive/MyDrive/models/research\n",
            "fatal: destination path 'MiAI_SSD_TF2' already exists and is not an empty directory.\n"
          ]
        }
      ]
    },
    {
      "cell_type": "markdown",
      "source": [
        "##### 파일 내용 변경(Customized)"
      ],
      "metadata": {
        "id": "eDwAvK3f_A7-"
      }
    },
    {
      "cell_type": "code",
      "source": [
        "try:\n",
        "  # label.txt 파일 변경\n",
        "  # MiAI_SSD_TF2\n",
        "  shutil.copyfile('/content/gdrive/MyDrive/files_changed/label_map.txt', '/content/gdrive/MyDrive/models/research/MiAI_SSD_TF2/label_map.txt')\n",
        "  # data\n",
        "  shutil.copyfile('/content/gdrive/MyDrive/files_changed/label_map.txt', '/content/gdrive/MyDrive/data/label_map.txt')\n",
        "\n",
        "\n",
        "  # generate.py 파일 변경\n",
        "  # MiAI_SSD_TF2\n",
        "  shutil.copyfile('/content/gdrive/MyDrive/files_changed/generate_tfrecord.py', '/content/gdrive/MyDrive/models/research/MiAI_SSD_TF2/generate_tfrecord.py')\n",
        "  # research\n",
        "  shutil.copyfile('/content/gdrive/MyDrive/files_changed/generate_tfrecord.py', '/content/gdrive/MyDrive/models/research/generate_tfrecord.py')\n",
        "\n",
        "\n",
        "  # pipeconfig 파일 변경\n",
        "  # MiAI_SSD_TF2\n",
        "  shutil.copyfile('/content/gdrive/MyDrive/files_changed/pipeline.config', '/content/gdrive/MyDrive/models/research/MiAI_SSD_TF2/pipeline.config')\n",
        "  # pretrained\n",
        "  shutil.copyfile('/content/gdrive/MyDrive/files_changed/pipeline.config', '/content/gdrive/MyDrive/pretrained/ssd_mobilenet_v2_fpnlite_320x320_coco17_tpu-8/pipeline.config')\n",
        "except Exception as e:\n",
        "    print(e)"
      ],
      "metadata": {
        "id": "wi-bz4zz_AK6"
      },
      "execution_count": null,
      "outputs": []
    },
    {
      "cell_type": "markdown",
      "source": [
        "##### record 생성성"
      ],
      "metadata": {
        "id": "DFp3SVfp_H6O"
      }
    },
    {
      "cell_type": "code",
      "source": [
        "if not os.path.exists(\"/content/gdrive/MyDrive/data/tfrecord_data/\"):\n",
        "  os.mkdir(\"/content/gdrive/MyDrive/data/tfrecord_data/\")\n",
        "\n",
        "!python generate_tfrecord.py --image_dir=/content/gdrive/MyDrive/data/split_data/train --csv_input=/content/gdrive/MyDrive/data/split_data/train_labels.csv --output_path=/content/gdrive/MyDrive/data/tfrecord_data/train.record \n",
        "!python generate_tfrecord.py --image_dir=/content/gdrive/MyDrive/data/split_data/test --csv_input=/content/gdrive/MyDrive/data/split_data/test_labels.csv --output_path=/content/gdrive/MyDrive/data/tfrecord_data/test.record \n"
      ],
      "metadata": {
        "id": "c0T-lh5I_gN0",
        "colab": {
          "base_uri": "https://localhost:8080/"
        },
        "outputId": "8f1666c0-7793-459b-8383-d6869c71a451"
      },
      "execution_count": null,
      "outputs": [
        {
          "output_type": "stream",
          "name": "stdout",
          "text": [
            "2023-01-02 12:29:37.491995: I tensorflow/core/platform/cpu_feature_guard.cc:193] This TensorFlow binary is optimized with oneAPI Deep Neural Network Library (oneDNN) to use the following CPU instructions in performance-critical operations:  AVX2 AVX512F AVX512_VNNI FMA\n",
            "To enable them in other operations, rebuild TensorFlow with the appropriate compiler flags.\n",
            "2023-01-02 12:29:37.630085: I tensorflow/core/util/port.cc:104] oneDNN custom operations are on. You may see slightly different numerical results due to floating-point round-off errors from different computation orders. To turn them off, set the environment variable `TF_ENABLE_ONEDNN_OPTS=0`.\n",
            "2023-01-02 12:29:38.395411: W tensorflow/compiler/xla/stream_executor/platform/default/dso_loader.cc:64] Could not load dynamic library 'libnvinfer.so.7'; dlerror: libnvinfer.so.7: cannot open shared object file: No such file or directory; LD_LIBRARY_PATH: /usr/lib64-nvidia\n",
            "2023-01-02 12:29:38.395514: W tensorflow/compiler/xla/stream_executor/platform/default/dso_loader.cc:64] Could not load dynamic library 'libnvinfer_plugin.so.7'; dlerror: libnvinfer_plugin.so.7: cannot open shared object file: No such file or directory; LD_LIBRARY_PATH: /usr/lib64-nvidia\n",
            "2023-01-02 12:29:38.395534: W tensorflow/compiler/tf2tensorrt/utils/py_utils.cc:38] TF-TRT Warning: Cannot dlopen some TensorRT libraries. If you would like to use Nvidia GPU with TensorRT, please make sure the missing libraries mentioned above are installed properly.\n",
            "Successfully created the TFRecords: /content/gdrive/MyDrive/data/tfrecord_data/train.record\n",
            "2023-01-02 12:29:44.565579: I tensorflow/core/platform/cpu_feature_guard.cc:193] This TensorFlow binary is optimized with oneAPI Deep Neural Network Library (oneDNN) to use the following CPU instructions in performance-critical operations:  AVX2 AVX512F AVX512_VNNI FMA\n",
            "To enable them in other operations, rebuild TensorFlow with the appropriate compiler flags.\n",
            "2023-01-02 12:29:44.706312: I tensorflow/core/util/port.cc:104] oneDNN custom operations are on. You may see slightly different numerical results due to floating-point round-off errors from different computation orders. To turn them off, set the environment variable `TF_ENABLE_ONEDNN_OPTS=0`.\n",
            "2023-01-02 12:29:45.479652: W tensorflow/compiler/xla/stream_executor/platform/default/dso_loader.cc:64] Could not load dynamic library 'libnvinfer.so.7'; dlerror: libnvinfer.so.7: cannot open shared object file: No such file or directory; LD_LIBRARY_PATH: /usr/lib64-nvidia\n",
            "2023-01-02 12:29:45.479767: W tensorflow/compiler/xla/stream_executor/platform/default/dso_loader.cc:64] Could not load dynamic library 'libnvinfer_plugin.so.7'; dlerror: libnvinfer_plugin.so.7: cannot open shared object file: No such file or directory; LD_LIBRARY_PATH: /usr/lib64-nvidia\n",
            "2023-01-02 12:29:45.479789: W tensorflow/compiler/tf2tensorrt/utils/py_utils.cc:38] TF-TRT Warning: Cannot dlopen some TensorRT libraries. If you would like to use Nvidia GPU with TensorRT, please make sure the missing libraries mentioned above are installed properly.\n",
            "Successfully created the TFRecords: /content/gdrive/MyDrive/data/tfrecord_data/test.record\n"
          ]
        }
      ]
    },
    {
      "cell_type": "markdown",
      "source": [
        "## 5.Download pretrain and config"
      ],
      "metadata": {
        "id": "aRBG2CGz-ZYQ"
      }
    },
    {
      "cell_type": "code",
      "source": [
        "# 이미 있으므로 생략하겠음(pipeliine.config)\n",
        "if not os.path.exists(\"/content/gdrive/MyDrive/pretrained\"):\n",
        "  os.mkdir(\"/content/gdrive/MyDrive/pretrained\")\n",
        "\n",
        "%cd /content/gdrive/MyDrive/pretrained\n",
        "!wget http://download.tensorflow.org/models/object_detection/tf2/20200711/ssd_mobilenet_v2_fpnlite_320x320_coco17_tpu-8.tar.gz\n",
        "# Unzip\n",
        "!tar -xzvf ssd_mobilenet_v2_fpnlite_320x320_coco17_tpu-8.tar.gz\n",
        "\n",
        "# Config pipeline.config, label_map.txt if needed"
      ],
      "metadata": {
        "id": "2F4y7ZDx-ZPo",
        "colab": {
          "base_uri": "https://localhost:8080/"
        },
        "outputId": "33410b20-d4b4-4472-de76-384965daef14"
      },
      "execution_count": null,
      "outputs": [
        {
          "output_type": "stream",
          "name": "stdout",
          "text": [
            "/content/gdrive/MyDrive/pretrained\n",
            "--2023-01-02 12:29:56--  http://download.tensorflow.org/models/object_detection/tf2/20200711/ssd_mobilenet_v2_fpnlite_320x320_coco17_tpu-8.tar.gz\n",
            "Resolving download.tensorflow.org (download.tensorflow.org)... 74.125.70.128, 2607:f8b0:4001:c02::80\n",
            "Connecting to download.tensorflow.org (download.tensorflow.org)|74.125.70.128|:80... connected.\n",
            "HTTP request sent, awaiting response... 200 OK\n",
            "Length: 20515344 (20M) [application/x-tar]\n",
            "Saving to: ‘ssd_mobilenet_v2_fpnlite_320x320_coco17_tpu-8.tar.gz.2’\n",
            "\n",
            "ssd_mobilenet_v2_fp 100%[===================>]  19.56M  81.0MB/s    in 0.2s    \n",
            "\n",
            "2023-01-02 12:29:56 (81.0 MB/s) - ‘ssd_mobilenet_v2_fpnlite_320x320_coco17_tpu-8.tar.gz.2’ saved [20515344/20515344]\n",
            "\n",
            "ssd_mobilenet_v2_fpnlite_320x320_coco17_tpu-8/\n",
            "ssd_mobilenet_v2_fpnlite_320x320_coco17_tpu-8/checkpoint/\n",
            "ssd_mobilenet_v2_fpnlite_320x320_coco17_tpu-8/checkpoint/ckpt-0.data-00000-of-00001\n",
            "ssd_mobilenet_v2_fpnlite_320x320_coco17_tpu-8/checkpoint/checkpoint\n",
            "ssd_mobilenet_v2_fpnlite_320x320_coco17_tpu-8/checkpoint/ckpt-0.index\n",
            "ssd_mobilenet_v2_fpnlite_320x320_coco17_tpu-8/pipeline.config\n",
            "ssd_mobilenet_v2_fpnlite_320x320_coco17_tpu-8/saved_model/\n",
            "ssd_mobilenet_v2_fpnlite_320x320_coco17_tpu-8/saved_model/saved_model.pb\n",
            "ssd_mobilenet_v2_fpnlite_320x320_coco17_tpu-8/saved_model/variables/\n",
            "ssd_mobilenet_v2_fpnlite_320x320_coco17_tpu-8/saved_model/variables/variables.data-00000-of-00001\n",
            "ssd_mobilenet_v2_fpnlite_320x320_coco17_tpu-8/saved_model/variables/variables.index\n"
          ]
        }
      ]
    },
    {
      "cell_type": "markdown",
      "source": [
        "##### 파일 내용 변경(Customized)"
      ],
      "metadata": {
        "id": "zUxDmC63iOvY"
      }
    },
    {
      "cell_type": "code",
      "source": [
        "try:\n",
        "  # label.txt 파일 변경\n",
        "  # MiAI_SSD_TF2\n",
        "  shutil.copyfile('/content/gdrive/MyDrive/files_changed/label_map.txt', '/content/gdrive/MyDrive/models/research/MiAI_SSD_TF2/label_map.txt')\n",
        "  # data\n",
        "  shutil.copyfile('/content/gdrive/MyDrive/files_changed/label_map.txt', '/content/gdrive/MyDrive/data/label_map.txt')\n",
        "\n",
        "\n",
        "  # generate.py 파일 변경\n",
        "  # MiAI_SSD_TF2\n",
        "  shutil.copyfile('/content/gdrive/MyDrive/files_changed/generate_tfrecord.py', '/content/gdrive/MyDrive/models/research/MiAI_SSD_TF2/generate_tfrecord.py')\n",
        "  # research\n",
        "  shutil.copyfile('/content/gdrive/MyDrive/files_changed/generate_tfrecord.py', '/content/gdrive/MyDrive/models/research/generate_tfrecord.py')\n",
        "\n",
        "\n",
        "  # pipeconfig 파일 변경\n",
        "  # MiAI_SSD_TF2\n",
        "  shutil.copyfile('/content/gdrive/MyDrive/files_changed/pipeline.config', '/content/gdrive/MyDrive/models/research/MiAI_SSD_TF2/pipeline.config')\n",
        "  # pretrained\n",
        "  shutil.copyfile('/content/gdrive/MyDrive/files_changed/pipeline.config', '/content/gdrive/MyDrive/pretrained/ssd_mobilenet_v2_fpnlite_320x320_coco17_tpu-8/pipeline.config')\n",
        "except Exception as e:\n",
        "    print(e)"
      ],
      "metadata": {
        "id": "pPmBrquniOvZ"
      },
      "execution_count": null,
      "outputs": []
    },
    {
      "cell_type": "markdown",
      "source": [
        "## 6.필요한 라이브러리 다운로드드"
      ],
      "metadata": {
        "id": "bBH6agzh6stt"
      }
    },
    {
      "cell_type": "markdown",
      "source": [
        "##### label파일들 object-detection.txt를 data 폴더에 업로드"
      ],
      "metadata": {
        "id": "21EZVitM-lQp"
      }
    },
    {
      "cell_type": "code",
      "source": [
        "%cd /content/gdrive/MyDrive/models\n",
        "!pip install -r /content/gdrive/MyDrive/models/research/MiAI_SSD_TF2/setup.txt # 이미 완료\n",
        "!pip install --upgrade opencv-python # 이미 완료"
      ],
      "metadata": {
        "id": "F8OPFWBx-ZM8",
        "colab": {
          "base_uri": "https://localhost:8080/",
          "height": 1000
        },
        "outputId": "b17dcafc-cd18-4757-e2c7-0f3131e4fe4f"
      },
      "execution_count": null,
      "outputs": [
        {
          "output_type": "stream",
          "name": "stdout",
          "text": [
            "/content/gdrive/MyDrive/models\n",
            "Looking in indexes: https://pypi.org/simple, https://us-python.pkg.dev/colab-wheels/public/simple/\n",
            "Requirement already satisfied: tensorflow in /usr/local/lib/python3.8/dist-packages (from -r /content/gdrive/MyDrive/models/research/MiAI_SSD_TF2/setup.txt (line 1)) (2.9.2)\n",
            "Collecting tensorflow_io\n",
            "  Downloading tensorflow_io-0.29.0-cp38-cp38-manylinux_2_12_x86_64.manylinux2010_x86_64.whl (26.9 MB)\n",
            "\u001b[K     |████████████████████████████████| 26.9 MB 1.1 MB/s \n",
            "\u001b[?25hCollecting tensorflow_addons\n",
            "  Downloading tensorflow_addons-0.19.0-cp38-cp38-manylinux_2_17_x86_64.manylinux2014_x86_64.whl (1.1 MB)\n",
            "\u001b[K     |████████████████████████████████| 1.1 MB 83.6 MB/s \n",
            "\u001b[?25hRequirement already satisfied: pillow in /usr/local/lib/python3.8/dist-packages (from -r /content/gdrive/MyDrive/models/research/MiAI_SSD_TF2/setup.txt (line 4)) (7.1.2)\n",
            "Requirement already satisfied: lxml in /usr/local/lib/python3.8/dist-packages (from -r /content/gdrive/MyDrive/models/research/MiAI_SSD_TF2/setup.txt (line 5)) (4.9.2)\n",
            "Requirement already satisfied: matplotlib in /usr/local/lib/python3.8/dist-packages (from -r /content/gdrive/MyDrive/models/research/MiAI_SSD_TF2/setup.txt (line 6)) (3.2.2)\n",
            "Requirement already satisfied: pandas in /usr/local/lib/python3.8/dist-packages (from -r /content/gdrive/MyDrive/models/research/MiAI_SSD_TF2/setup.txt (line 7)) (1.3.5)\n",
            "Collecting tf_slim\n",
            "  Downloading tf_slim-1.1.0-py2.py3-none-any.whl (352 kB)\n",
            "\u001b[K     |████████████████████████████████| 352 kB 98.0 MB/s \n",
            "\u001b[?25hRequirement already satisfied: pycocotools in /usr/local/lib/python3.8/dist-packages (from -r /content/gdrive/MyDrive/models/research/MiAI_SSD_TF2/setup.txt (line 9)) (2.0.6)\n",
            "Requirement already satisfied: scipy in /usr/local/lib/python3.8/dist-packages (from -r /content/gdrive/MyDrive/models/research/MiAI_SSD_TF2/setup.txt (line 10)) (1.7.3)\n",
            "Collecting dataclasses\n",
            "  Downloading dataclasses-0.6-py3-none-any.whl (14 kB)\n",
            "Requirement already satisfied: pyyaml in /usr/local/lib/python3.8/dist-packages (from -r /content/gdrive/MyDrive/models/research/MiAI_SSD_TF2/setup.txt (line 12)) (6.0)\n",
            "Collecting lvis\n",
            "  Downloading lvis-0.5.3-py3-none-any.whl (14 kB)\n",
            "Requirement already satisfied: gin-config in /usr/local/lib/python3.8/dist-packages (from -r /content/gdrive/MyDrive/models/research/MiAI_SSD_TF2/setup.txt (line 14)) (0.5.0)\n",
            "Requirement already satisfied: tensorflow-io-gcs-filesystem>=0.23.1 in /usr/local/lib/python3.8/dist-packages (from tensorflow->-r /content/gdrive/MyDrive/models/research/MiAI_SSD_TF2/setup.txt (line 1)) (0.28.0)\n",
            "Requirement already satisfied: h5py>=2.9.0 in /usr/local/lib/python3.8/dist-packages (from tensorflow->-r /content/gdrive/MyDrive/models/research/MiAI_SSD_TF2/setup.txt (line 1)) (3.1.0)\n",
            "Requirement already satisfied: keras-preprocessing>=1.1.1 in /usr/local/lib/python3.8/dist-packages (from tensorflow->-r /content/gdrive/MyDrive/models/research/MiAI_SSD_TF2/setup.txt (line 1)) (1.1.2)\n",
            "Requirement already satisfied: numpy>=1.20 in /usr/local/lib/python3.8/dist-packages (from tensorflow->-r /content/gdrive/MyDrive/models/research/MiAI_SSD_TF2/setup.txt (line 1)) (1.21.6)\n",
            "Requirement already satisfied: astunparse>=1.6.0 in /usr/local/lib/python3.8/dist-packages (from tensorflow->-r /content/gdrive/MyDrive/models/research/MiAI_SSD_TF2/setup.txt (line 1)) (1.6.3)\n",
            "Requirement already satisfied: protobuf<3.20,>=3.9.2 in /usr/local/lib/python3.8/dist-packages (from tensorflow->-r /content/gdrive/MyDrive/models/research/MiAI_SSD_TF2/setup.txt (line 1)) (3.19.6)\n",
            "Requirement already satisfied: google-pasta>=0.1.1 in /usr/local/lib/python3.8/dist-packages (from tensorflow->-r /content/gdrive/MyDrive/models/research/MiAI_SSD_TF2/setup.txt (line 1)) (0.2.0)\n",
            "Requirement already satisfied: opt-einsum>=2.3.2 in /usr/local/lib/python3.8/dist-packages (from tensorflow->-r /content/gdrive/MyDrive/models/research/MiAI_SSD_TF2/setup.txt (line 1)) (3.3.0)\n",
            "Requirement already satisfied: setuptools in /usr/local/lib/python3.8/dist-packages (from tensorflow->-r /content/gdrive/MyDrive/models/research/MiAI_SSD_TF2/setup.txt (line 1)) (57.4.0)\n",
            "Requirement already satisfied: flatbuffers<2,>=1.12 in /usr/local/lib/python3.8/dist-packages (from tensorflow->-r /content/gdrive/MyDrive/models/research/MiAI_SSD_TF2/setup.txt (line 1)) (1.12)\n",
            "Requirement already satisfied: tensorflow-estimator<2.10.0,>=2.9.0rc0 in /usr/local/lib/python3.8/dist-packages (from tensorflow->-r /content/gdrive/MyDrive/models/research/MiAI_SSD_TF2/setup.txt (line 1)) (2.9.0)\n",
            "Requirement already satisfied: six>=1.12.0 in /usr/local/lib/python3.8/dist-packages (from tensorflow->-r /content/gdrive/MyDrive/models/research/MiAI_SSD_TF2/setup.txt (line 1)) (1.15.0)\n",
            "Requirement already satisfied: gast<=0.4.0,>=0.2.1 in /usr/local/lib/python3.8/dist-packages (from tensorflow->-r /content/gdrive/MyDrive/models/research/MiAI_SSD_TF2/setup.txt (line 1)) (0.4.0)\n",
            "Requirement already satisfied: packaging in /usr/local/lib/python3.8/dist-packages (from tensorflow->-r /content/gdrive/MyDrive/models/research/MiAI_SSD_TF2/setup.txt (line 1)) (21.3)\n",
            "Requirement already satisfied: grpcio<2.0,>=1.24.3 in /usr/local/lib/python3.8/dist-packages (from tensorflow->-r /content/gdrive/MyDrive/models/research/MiAI_SSD_TF2/setup.txt (line 1)) (1.51.1)\n",
            "Requirement already satisfied: keras<2.10.0,>=2.9.0rc0 in /usr/local/lib/python3.8/dist-packages (from tensorflow->-r /content/gdrive/MyDrive/models/research/MiAI_SSD_TF2/setup.txt (line 1)) (2.9.0)\n",
            "Requirement already satisfied: tensorboard<2.10,>=2.9 in /usr/local/lib/python3.8/dist-packages (from tensorflow->-r /content/gdrive/MyDrive/models/research/MiAI_SSD_TF2/setup.txt (line 1)) (2.9.1)\n",
            "Requirement already satisfied: libclang>=13.0.0 in /usr/local/lib/python3.8/dist-packages (from tensorflow->-r /content/gdrive/MyDrive/models/research/MiAI_SSD_TF2/setup.txt (line 1)) (14.0.6)\n",
            "Requirement already satisfied: termcolor>=1.1.0 in /usr/local/lib/python3.8/dist-packages (from tensorflow->-r /content/gdrive/MyDrive/models/research/MiAI_SSD_TF2/setup.txt (line 1)) (2.1.1)\n",
            "Requirement already satisfied: absl-py>=1.0.0 in /usr/local/lib/python3.8/dist-packages (from tensorflow->-r /content/gdrive/MyDrive/models/research/MiAI_SSD_TF2/setup.txt (line 1)) (1.3.0)\n",
            "Requirement already satisfied: typing-extensions>=3.6.6 in /usr/local/lib/python3.8/dist-packages (from tensorflow->-r /content/gdrive/MyDrive/models/research/MiAI_SSD_TF2/setup.txt (line 1)) (4.4.0)\n",
            "Requirement already satisfied: wrapt>=1.11.0 in /usr/local/lib/python3.8/dist-packages (from tensorflow->-r /content/gdrive/MyDrive/models/research/MiAI_SSD_TF2/setup.txt (line 1)) (1.14.1)\n",
            "Requirement already satisfied: wheel<1.0,>=0.23.0 in /usr/local/lib/python3.8/dist-packages (from astunparse>=1.6.0->tensorflow->-r /content/gdrive/MyDrive/models/research/MiAI_SSD_TF2/setup.txt (line 1)) (0.38.4)\n",
            "Requirement already satisfied: markdown>=2.6.8 in /usr/local/lib/python3.8/dist-packages (from tensorboard<2.10,>=2.9->tensorflow->-r /content/gdrive/MyDrive/models/research/MiAI_SSD_TF2/setup.txt (line 1)) (3.4.1)\n",
            "Requirement already satisfied: werkzeug>=1.0.1 in /usr/local/lib/python3.8/dist-packages (from tensorboard<2.10,>=2.9->tensorflow->-r /content/gdrive/MyDrive/models/research/MiAI_SSD_TF2/setup.txt (line 1)) (1.0.1)\n",
            "Requirement already satisfied: requests<3,>=2.21.0 in /usr/local/lib/python3.8/dist-packages (from tensorboard<2.10,>=2.9->tensorflow->-r /content/gdrive/MyDrive/models/research/MiAI_SSD_TF2/setup.txt (line 1)) (2.23.0)\n",
            "Requirement already satisfied: google-auth<3,>=1.6.3 in /usr/local/lib/python3.8/dist-packages (from tensorboard<2.10,>=2.9->tensorflow->-r /content/gdrive/MyDrive/models/research/MiAI_SSD_TF2/setup.txt (line 1)) (2.15.0)\n",
            "Requirement already satisfied: google-auth-oauthlib<0.5,>=0.4.1 in /usr/local/lib/python3.8/dist-packages (from tensorboard<2.10,>=2.9->tensorflow->-r /content/gdrive/MyDrive/models/research/MiAI_SSD_TF2/setup.txt (line 1)) (0.4.6)\n",
            "Requirement already satisfied: tensorboard-plugin-wit>=1.6.0 in /usr/local/lib/python3.8/dist-packages (from tensorboard<2.10,>=2.9->tensorflow->-r /content/gdrive/MyDrive/models/research/MiAI_SSD_TF2/setup.txt (line 1)) (1.8.1)\n",
            "Requirement already satisfied: tensorboard-data-server<0.7.0,>=0.6.0 in /usr/local/lib/python3.8/dist-packages (from tensorboard<2.10,>=2.9->tensorflow->-r /content/gdrive/MyDrive/models/research/MiAI_SSD_TF2/setup.txt (line 1)) (0.6.1)\n",
            "Requirement already satisfied: pyasn1-modules>=0.2.1 in /usr/local/lib/python3.8/dist-packages (from google-auth<3,>=1.6.3->tensorboard<2.10,>=2.9->tensorflow->-r /content/gdrive/MyDrive/models/research/MiAI_SSD_TF2/setup.txt (line 1)) (0.2.8)\n",
            "Requirement already satisfied: rsa<5,>=3.1.4 in /usr/local/lib/python3.8/dist-packages (from google-auth<3,>=1.6.3->tensorboard<2.10,>=2.9->tensorflow->-r /content/gdrive/MyDrive/models/research/MiAI_SSD_TF2/setup.txt (line 1)) (4.9)\n",
            "Requirement already satisfied: cachetools<6.0,>=2.0.0 in /usr/local/lib/python3.8/dist-packages (from google-auth<3,>=1.6.3->tensorboard<2.10,>=2.9->tensorflow->-r /content/gdrive/MyDrive/models/research/MiAI_SSD_TF2/setup.txt (line 1)) (5.2.0)\n",
            "Requirement already satisfied: requests-oauthlib>=0.7.0 in /usr/local/lib/python3.8/dist-packages (from google-auth-oauthlib<0.5,>=0.4.1->tensorboard<2.10,>=2.9->tensorflow->-r /content/gdrive/MyDrive/models/research/MiAI_SSD_TF2/setup.txt (line 1)) (1.3.1)\n",
            "Requirement already satisfied: importlib-metadata>=4.4 in /usr/local/lib/python3.8/dist-packages (from markdown>=2.6.8->tensorboard<2.10,>=2.9->tensorflow->-r /content/gdrive/MyDrive/models/research/MiAI_SSD_TF2/setup.txt (line 1)) (5.1.0)\n",
            "Requirement already satisfied: zipp>=0.5 in /usr/local/lib/python3.8/dist-packages (from importlib-metadata>=4.4->markdown>=2.6.8->tensorboard<2.10,>=2.9->tensorflow->-r /content/gdrive/MyDrive/models/research/MiAI_SSD_TF2/setup.txt (line 1)) (3.11.0)\n",
            "Requirement already satisfied: pyasn1<0.5.0,>=0.4.6 in /usr/local/lib/python3.8/dist-packages (from pyasn1-modules>=0.2.1->google-auth<3,>=1.6.3->tensorboard<2.10,>=2.9->tensorflow->-r /content/gdrive/MyDrive/models/research/MiAI_SSD_TF2/setup.txt (line 1)) (0.4.8)\n",
            "Requirement already satisfied: urllib3!=1.25.0,!=1.25.1,<1.26,>=1.21.1 in /usr/local/lib/python3.8/dist-packages (from requests<3,>=2.21.0->tensorboard<2.10,>=2.9->tensorflow->-r /content/gdrive/MyDrive/models/research/MiAI_SSD_TF2/setup.txt (line 1)) (1.24.3)\n",
            "Requirement already satisfied: certifi>=2017.4.17 in /usr/local/lib/python3.8/dist-packages (from requests<3,>=2.21.0->tensorboard<2.10,>=2.9->tensorflow->-r /content/gdrive/MyDrive/models/research/MiAI_SSD_TF2/setup.txt (line 1)) (2022.12.7)\n",
            "Requirement already satisfied: idna<3,>=2.5 in /usr/local/lib/python3.8/dist-packages (from requests<3,>=2.21.0->tensorboard<2.10,>=2.9->tensorflow->-r /content/gdrive/MyDrive/models/research/MiAI_SSD_TF2/setup.txt (line 1)) (2.10)\n",
            "Requirement already satisfied: chardet<4,>=3.0.2 in /usr/local/lib/python3.8/dist-packages (from requests<3,>=2.21.0->tensorboard<2.10,>=2.9->tensorflow->-r /content/gdrive/MyDrive/models/research/MiAI_SSD_TF2/setup.txt (line 1)) (3.0.4)\n",
            "Requirement already satisfied: oauthlib>=3.0.0 in /usr/local/lib/python3.8/dist-packages (from requests-oauthlib>=0.7.0->google-auth-oauthlib<0.5,>=0.4.1->tensorboard<2.10,>=2.9->tensorflow->-r /content/gdrive/MyDrive/models/research/MiAI_SSD_TF2/setup.txt (line 1)) (3.2.2)\n",
            "Collecting tensorflow-io-gcs-filesystem>=0.23.1\n",
            "  Downloading tensorflow_io_gcs_filesystem-0.29.0-cp38-cp38-manylinux_2_12_x86_64.manylinux2010_x86_64.whl (2.4 MB)\n",
            "\u001b[K     |████████████████████████████████| 2.4 MB 83.7 MB/s \n",
            "\u001b[?25hRequirement already satisfied: typeguard>=2.7 in /usr/local/lib/python3.8/dist-packages (from tensorflow_addons->-r /content/gdrive/MyDrive/models/research/MiAI_SSD_TF2/setup.txt (line 3)) (2.7.1)\n",
            "Requirement already satisfied: python-dateutil>=2.1 in /usr/local/lib/python3.8/dist-packages (from matplotlib->-r /content/gdrive/MyDrive/models/research/MiAI_SSD_TF2/setup.txt (line 6)) (2.8.2)\n",
            "Requirement already satisfied: cycler>=0.10 in /usr/local/lib/python3.8/dist-packages (from matplotlib->-r /content/gdrive/MyDrive/models/research/MiAI_SSD_TF2/setup.txt (line 6)) (0.11.0)\n",
            "Requirement already satisfied: kiwisolver>=1.0.1 in /usr/local/lib/python3.8/dist-packages (from matplotlib->-r /content/gdrive/MyDrive/models/research/MiAI_SSD_TF2/setup.txt (line 6)) (1.4.4)\n",
            "Requirement already satisfied: pyparsing!=2.0.4,!=2.1.2,!=2.1.6,>=2.0.1 in /usr/local/lib/python3.8/dist-packages (from matplotlib->-r /content/gdrive/MyDrive/models/research/MiAI_SSD_TF2/setup.txt (line 6)) (3.0.9)\n",
            "Requirement already satisfied: pytz>=2017.3 in /usr/local/lib/python3.8/dist-packages (from pandas->-r /content/gdrive/MyDrive/models/research/MiAI_SSD_TF2/setup.txt (line 7)) (2022.6)\n",
            "Requirement already satisfied: Cython>=0.29.12 in /usr/local/lib/python3.8/dist-packages (from lvis->-r /content/gdrive/MyDrive/models/research/MiAI_SSD_TF2/setup.txt (line 13)) (0.29.32)\n",
            "Requirement already satisfied: opencv-python>=4.1.0.25 in /usr/local/lib/python3.8/dist-packages (from lvis->-r /content/gdrive/MyDrive/models/research/MiAI_SSD_TF2/setup.txt (line 13)) (4.6.0.66)\n",
            "Installing collected packages: tensorflow-io-gcs-filesystem, tf-slim, tensorflow-io, tensorflow-addons, lvis, dataclasses\n",
            "  Attempting uninstall: tensorflow-io-gcs-filesystem\n",
            "    Found existing installation: tensorflow-io-gcs-filesystem 0.28.0\n",
            "    Uninstalling tensorflow-io-gcs-filesystem-0.28.0:\n",
            "      Successfully uninstalled tensorflow-io-gcs-filesystem-0.28.0\n",
            "Successfully installed dataclasses-0.6 lvis-0.5.3 tensorflow-addons-0.19.0 tensorflow-io-0.29.0 tensorflow-io-gcs-filesystem-0.29.0 tf-slim-1.1.0\n"
          ]
        },
        {
          "output_type": "display_data",
          "data": {
            "application/vnd.colab-display-data+json": {
              "pip_warning": {
                "packages": [
                  "dataclasses"
                ]
              }
            }
          },
          "metadata": {}
        },
        {
          "output_type": "stream",
          "name": "stdout",
          "text": [
            "Looking in indexes: https://pypi.org/simple, https://us-python.pkg.dev/colab-wheels/public/simple/\n",
            "Requirement already satisfied: opencv-python in /usr/local/lib/python3.8/dist-packages (4.6.0.66)\n",
            "Collecting opencv-python\n",
            "  Downloading opencv_python-4.7.0.68-cp37-abi3-manylinux_2_17_x86_64.manylinux2014_x86_64.whl (61.8 MB)\n",
            "\u001b[K     |████████████████████████████████| 61.8 MB 1.2 MB/s \n",
            "\u001b[?25hRequirement already satisfied: numpy>=1.17.3 in /usr/local/lib/python3.8/dist-packages (from opencv-python) (1.21.6)\n",
            "Installing collected packages: opencv-python\n",
            "  Attempting uninstall: opencv-python\n",
            "    Found existing installation: opencv-python 4.6.0.66\n",
            "    Uninstalling opencv-python-4.6.0.66:\n",
            "      Successfully uninstalled opencv-python-4.6.0.66\n",
            "Successfully installed opencv-python-4.7.0.68\n"
          ]
        }
      ]
    },
    {
      "cell_type": "markdown",
      "source": [
        "## 7.Train"
      ],
      "metadata": {
        "id": "glI9HZRh6yfa"
      }
    },
    {
      "cell_type": "markdown",
      "source": [
        "Train and Test"
      ],
      "metadata": {
        "id": "P_IiOSie-v__"
      }
    },
    {
      "cell_type": "code",
      "source": [
        "# # Train\n",
        "%cd /content/gdrive/MyDrive/models/research\n",
        "%cp /content/gdrive/MyDrive/models/research/object_detection/model_main_tf2.py ."
      ],
      "metadata": {
        "id": "UzUnJMdY-ZKd",
        "colab": {
          "base_uri": "https://localhost:8080/"
        },
        "outputId": "4b460246-2ad7-420d-a4fa-8537b155c9c2"
      },
      "execution_count": null,
      "outputs": [
        {
          "output_type": "stream",
          "name": "stdout",
          "text": [
            "/content/gdrive/MyDrive/models/research\n"
          ]
        }
      ]
    },
    {
      "cell_type": "markdown",
      "source": [],
      "metadata": {
        "id": "o3vbVdRg61o1"
      }
    },
    {
      "cell_type": "code",
      "source": [
        "#train \n",
        "%cd /content/gdrive/MyDrive/models/research\n",
        "!python model_main_tf2.py \\\n",
        "--pipeline_config_path=/content/gdrive/MyDrive/pretrained/ssd_mobilenet_v2_fpnlite_320x320_coco17_tpu-8/pipeline.config \\\n",
        "--model_dir=/content/gdrive/MyDrive/output_model --alsologtostderr --num_train_steps=2000"
      ],
      "metadata": {
        "id": "lD8-yFjg9dQp",
        "outputId": "bac7f604-9291-43da-ea16-6e8dbfe69265",
        "colab": {
          "base_uri": "https://localhost:8080/"
        }
      },
      "execution_count": null,
      "outputs": [
        {
          "output_type": "stream",
          "name": "stdout",
          "text": [
            "/content/gdrive/MyDrive/models/research\n",
            "2023-01-02 13:01:46.100669: I tensorflow/core/platform/cpu_feature_guard.cc:193] This TensorFlow binary is optimized with oneAPI Deep Neural Network Library (oneDNN) to use the following CPU instructions in performance-critical operations:  AVX2 AVX512F AVX512_VNNI FMA\n",
            "To enable them in other operations, rebuild TensorFlow with the appropriate compiler flags.\n",
            "2023-01-02 13:01:46.239624: I tensorflow/core/util/port.cc:104] oneDNN custom operations are on. You may see slightly different numerical results due to floating-point round-off errors from different computation orders. To turn them off, set the environment variable `TF_ENABLE_ONEDNN_OPTS=0`.\n",
            "2023-01-02 13:01:47.091457: W tensorflow/compiler/xla/stream_executor/platform/default/dso_loader.cc:64] Could not load dynamic library 'libnvinfer.so.7'; dlerror: libnvinfer.so.7: cannot open shared object file: No such file or directory; LD_LIBRARY_PATH: /usr/lib64-nvidia\n",
            "2023-01-02 13:01:47.091570: W tensorflow/compiler/xla/stream_executor/platform/default/dso_loader.cc:64] Could not load dynamic library 'libnvinfer_plugin.so.7'; dlerror: libnvinfer_plugin.so.7: cannot open shared object file: No such file or directory; LD_LIBRARY_PATH: /usr/lib64-nvidia\n",
            "2023-01-02 13:01:47.091587: W tensorflow/compiler/tf2tensorrt/utils/py_utils.cc:38] TF-TRT Warning: Cannot dlopen some TensorRT libraries. If you would like to use Nvidia GPU with TensorRT, please make sure the missing libraries mentioned above are installed properly.\n",
            "2023-01-02 13:01:50.908885: W tensorflow/core/common_runtime/gpu/gpu_bfc_allocator.cc:42] Overriding orig_value setting because the TF_FORCE_GPU_ALLOW_GROWTH environment variable is set. Original config value was 0.\n",
            "2023-01-02 13:01:50.908950: I tensorflow/core/common_runtime/gpu/gpu_device.cc:1613] Created device /job:localhost/replica:0/task:0/device:GPU:0 with 38350 MB memory:  -> device: 0, name: A100-SXM4-40GB, pci bus id: 0000:00:04.0, compute capability: 8.0\n",
            "INFO:tensorflow:Using MirroredStrategy with devices ('/job:localhost/replica:0/task:0/device:GPU:0',)\n",
            "I0102 13:01:50.924889 139844916111232 mirrored_strategy.py:374] Using MirroredStrategy with devices ('/job:localhost/replica:0/task:0/device:GPU:0',)\n",
            "INFO:tensorflow:Maybe overwriting train_steps: 2000\n",
            "I0102 13:01:50.930152 139844916111232 config_util.py:552] Maybe overwriting train_steps: 2000\n",
            "INFO:tensorflow:Maybe overwriting use_bfloat16: False\n",
            "I0102 13:01:50.930297 139844916111232 config_util.py:552] Maybe overwriting use_bfloat16: False\n",
            "WARNING:tensorflow:From /content/gdrive/MyDrive/models/research/object_detection/model_lib_v2.py:563: StrategyBase.experimental_distribute_datasets_from_function (from tensorflow.python.distribute.distribute_lib) is deprecated and will be removed in a future version.\n",
            "Instructions for updating:\n",
            "rename to distribute_datasets_from_function\n",
            "W0102 13:01:50.955732 139844916111232 deprecation.py:350] From /content/gdrive/MyDrive/models/research/object_detection/model_lib_v2.py:563: StrategyBase.experimental_distribute_datasets_from_function (from tensorflow.python.distribute.distribute_lib) is deprecated and will be removed in a future version.\n",
            "Instructions for updating:\n",
            "rename to distribute_datasets_from_function\n",
            "INFO:tensorflow:Reading unweighted datasets: ['/content/gdrive/MyDrive/data/tfrecord_data/train.record']\n",
            "I0102 13:01:50.969685 139844916111232 dataset_builder.py:162] Reading unweighted datasets: ['/content/gdrive/MyDrive/data/tfrecord_data/train.record']\n",
            "INFO:tensorflow:Reading record datasets for input file: ['/content/gdrive/MyDrive/data/tfrecord_data/train.record']\n",
            "I0102 13:01:50.970050 139844916111232 dataset_builder.py:79] Reading record datasets for input file: ['/content/gdrive/MyDrive/data/tfrecord_data/train.record']\n",
            "INFO:tensorflow:Number of filenames to read: 1\n",
            "I0102 13:01:50.970134 139844916111232 dataset_builder.py:80] Number of filenames to read: 1\n",
            "WARNING:tensorflow:num_readers has been reduced to 1 to match input file shards.\n",
            "W0102 13:01:50.970189 139844916111232 dataset_builder.py:86] num_readers has been reduced to 1 to match input file shards.\n",
            "WARNING:tensorflow:From /content/gdrive/MyDrive/models/research/object_detection/builders/dataset_builder.py:100: parallel_interleave (from tensorflow.python.data.experimental.ops.interleave_ops) is deprecated and will be removed in a future version.\n",
            "Instructions for updating:\n",
            "Use `tf.data.Dataset.interleave(map_func, cycle_length, block_length, num_parallel_calls=tf.data.AUTOTUNE)` instead. If sloppy execution is desired, use `tf.data.Options.deterministic`.\n",
            "W0102 13:01:50.977680 139844916111232 deprecation.py:350] From /content/gdrive/MyDrive/models/research/object_detection/builders/dataset_builder.py:100: parallel_interleave (from tensorflow.python.data.experimental.ops.interleave_ops) is deprecated and will be removed in a future version.\n",
            "Instructions for updating:\n",
            "Use `tf.data.Dataset.interleave(map_func, cycle_length, block_length, num_parallel_calls=tf.data.AUTOTUNE)` instead. If sloppy execution is desired, use `tf.data.Options.deterministic`.\n",
            "WARNING:tensorflow:From /content/gdrive/MyDrive/models/research/object_detection/builders/dataset_builder.py:235: DatasetV1.map_with_legacy_function (from tensorflow.python.data.ops.dataset_ops) is deprecated and will be removed in a future version.\n",
            "Instructions for updating:\n",
            "Use `tf.data.Dataset.map()\n",
            "W0102 13:01:50.995243 139844916111232 deprecation.py:350] From /content/gdrive/MyDrive/models/research/object_detection/builders/dataset_builder.py:235: DatasetV1.map_with_legacy_function (from tensorflow.python.data.ops.dataset_ops) is deprecated and will be removed in a future version.\n",
            "Instructions for updating:\n",
            "Use `tf.data.Dataset.map()\n",
            "WARNING:tensorflow:From /usr/local/lib/python3.8/dist-packages/tensorflow/python/autograph/pyct/static_analysis/liveness.py:83: Analyzer.lamba_check (from tensorflow.python.autograph.pyct.static_analysis.liveness) is deprecated and will be removed after 2023-09-23.\n",
            "Instructions for updating:\n",
            "Lambda fuctions will be no more assumed to be used in the statement where they are used, or at least in the same block. https://github.com/tensorflow/tensorflow/issues/56089\n",
            "W0102 13:01:51.599426 139844916111232 deprecation.py:350] From /usr/local/lib/python3.8/dist-packages/tensorflow/python/autograph/pyct/static_analysis/liveness.py:83: Analyzer.lamba_check (from tensorflow.python.autograph.pyct.static_analysis.liveness) is deprecated and will be removed after 2023-09-23.\n",
            "Instructions for updating:\n",
            "Lambda fuctions will be no more assumed to be used in the statement where they are used, or at least in the same block. https://github.com/tensorflow/tensorflow/issues/56089\n",
            "WARNING:tensorflow:From /usr/local/lib/python3.8/dist-packages/tensorflow/python/util/dispatch.py:1176: sparse_to_dense (from tensorflow.python.ops.sparse_ops) is deprecated and will be removed in a future version.\n",
            "Instructions for updating:\n",
            "Create a `tf.sparse.SparseTensor` and use `tf.sparse.to_dense` instead.\n",
            "W0102 13:01:57.326046 139844916111232 deprecation.py:350] From /usr/local/lib/python3.8/dist-packages/tensorflow/python/util/dispatch.py:1176: sparse_to_dense (from tensorflow.python.ops.sparse_ops) is deprecated and will be removed in a future version.\n",
            "Instructions for updating:\n",
            "Create a `tf.sparse.SparseTensor` and use `tf.sparse.to_dense` instead.\n",
            "WARNING:tensorflow:From /usr/local/lib/python3.8/dist-packages/tensorflow/python/util/dispatch.py:1176: sample_distorted_bounding_box (from tensorflow.python.ops.image_ops_impl) is deprecated and will be removed in a future version.\n",
            "Instructions for updating:\n",
            "`seed2` arg is deprecated.Use sample_distorted_bounding_box_v2 instead.\n",
            "W0102 13:02:00.192400 139844916111232 deprecation.py:350] From /usr/local/lib/python3.8/dist-packages/tensorflow/python/util/dispatch.py:1176: sample_distorted_bounding_box (from tensorflow.python.ops.image_ops_impl) is deprecated and will be removed in a future version.\n",
            "Instructions for updating:\n",
            "`seed2` arg is deprecated.Use sample_distorted_bounding_box_v2 instead.\n",
            "WARNING:tensorflow:From /usr/local/lib/python3.8/dist-packages/tensorflow/python/util/dispatch.py:1176: to_float (from tensorflow.python.ops.math_ops) is deprecated and will be removed in a future version.\n",
            "Instructions for updating:\n",
            "Use `tf.cast` instead.\n",
            "W0102 13:02:01.607803 139844916111232 deprecation.py:350] From /usr/local/lib/python3.8/dist-packages/tensorflow/python/util/dispatch.py:1176: to_float (from tensorflow.python.ops.math_ops) is deprecated and will be removed in a future version.\n",
            "Instructions for updating:\n",
            "Use `tf.cast` instead.\n",
            "/usr/local/lib/python3.8/dist-packages/keras/backend.py:451: UserWarning: `tf.keras.backend.set_learning_phase` is deprecated and will be removed after 2020-10-11. To update it, simply pass a True/False value to the `training` argument of the `__call__` method of your layer or model.\n",
            "  warnings.warn(\n",
            "2023-01-02 13:02:23.159112: I tensorflow/compiler/xla/stream_executor/cuda/cuda_dnn.cc:428] Loaded cuDNN version 8101\n",
            "2023-01-02 13:02:25.164746: I tensorflow/compiler/xla/stream_executor/cuda/cuda_blas.cc:630] TensorFloat-32 will be used for the matrix multiplication. This will only be logged once.\n",
            "WARNING:tensorflow:From /usr/local/lib/python3.8/dist-packages/tensorflow/python/util/deprecation.py:629: calling map_fn_v2 (from tensorflow.python.ops.map_fn) with dtype is deprecated and will be removed in a future version.\n",
            "Instructions for updating:\n",
            "Use fn_output_signature instead\n",
            "W0102 13:02:28.575403 139836646635264 deprecation.py:554] From /usr/local/lib/python3.8/dist-packages/tensorflow/python/util/deprecation.py:629: calling map_fn_v2 (from tensorflow.python.ops.map_fn) with dtype is deprecated and will be removed in a future version.\n",
            "Instructions for updating:\n",
            "Use fn_output_signature instead\n",
            "INFO:tensorflow:Step 1100 per-step time 0.544s\n",
            "I0102 13:03:22.503977 139844916111232 model_lib_v2.py:705] Step 1100 per-step time 0.544s\n",
            "INFO:tensorflow:{'Loss/classification_loss': 0.23907813,\n",
            " 'Loss/localization_loss': 0.2064913,\n",
            " 'Loss/regularization_loss': 0.15651861,\n",
            " 'Loss/total_loss': 0.6020881,\n",
            " 'learning_rate': 0.07999918}\n",
            "I0102 13:03:22.504281 139844916111232 model_lib_v2.py:708] {'Loss/classification_loss': 0.23907813,\n",
            " 'Loss/localization_loss': 0.2064913,\n",
            " 'Loss/regularization_loss': 0.15651861,\n",
            " 'Loss/total_loss': 0.6020881,\n",
            " 'learning_rate': 0.07999918}\n",
            "INFO:tensorflow:Step 1200 per-step time 0.227s\n",
            "I0102 13:03:45.184773 139844916111232 model_lib_v2.py:705] Step 1200 per-step time 0.227s\n",
            "INFO:tensorflow:{'Loss/classification_loss': 0.26393414,\n",
            " 'Loss/localization_loss': 0.13775726,\n",
            " 'Loss/regularization_loss': 0.1566657,\n",
            " 'Loss/total_loss': 0.55835706,\n",
            " 'learning_rate': 0.079996705}\n",
            "I0102 13:03:45.185061 139844916111232 model_lib_v2.py:708] {'Loss/classification_loss': 0.26393414,\n",
            " 'Loss/localization_loss': 0.13775726,\n",
            " 'Loss/regularization_loss': 0.1566657,\n",
            " 'Loss/total_loss': 0.55835706,\n",
            " 'learning_rate': 0.079996705}\n",
            "INFO:tensorflow:Step 1300 per-step time 0.226s\n",
            "I0102 13:04:07.824716 139844916111232 model_lib_v2.py:705] Step 1300 per-step time 0.226s\n",
            "INFO:tensorflow:{'Loss/classification_loss': 0.2801832,\n",
            " 'Loss/localization_loss': 0.26627854,\n",
            " 'Loss/regularization_loss': 0.15669906,\n",
            " 'Loss/total_loss': 0.70316076,\n",
            " 'learning_rate': 0.0799926}\n",
            "I0102 13:04:07.825009 139844916111232 model_lib_v2.py:708] {'Loss/classification_loss': 0.2801832,\n",
            " 'Loss/localization_loss': 0.26627854,\n",
            " 'Loss/regularization_loss': 0.15669906,\n",
            " 'Loss/total_loss': 0.70316076,\n",
            " 'learning_rate': 0.0799926}\n",
            "INFO:tensorflow:Step 1400 per-step time 0.226s\n",
            "I0102 13:04:30.461694 139844916111232 model_lib_v2.py:705] Step 1400 per-step time 0.226s\n",
            "INFO:tensorflow:{'Loss/classification_loss': 0.20516601,\n",
            " 'Loss/localization_loss': 0.124056935,\n",
            " 'Loss/regularization_loss': 0.1566482,\n",
            " 'Loss/total_loss': 0.48587114,\n",
            " 'learning_rate': 0.07998685}\n",
            "I0102 13:04:30.461986 139844916111232 model_lib_v2.py:708] {'Loss/classification_loss': 0.20516601,\n",
            " 'Loss/localization_loss': 0.124056935,\n",
            " 'Loss/regularization_loss': 0.1566482,\n",
            " 'Loss/total_loss': 0.48587114,\n",
            " 'learning_rate': 0.07998685}\n",
            "INFO:tensorflow:Step 1500 per-step time 0.226s\n",
            "I0102 13:04:53.101107 139844916111232 model_lib_v2.py:705] Step 1500 per-step time 0.226s\n",
            "INFO:tensorflow:{'Loss/classification_loss': 0.2088554,\n",
            " 'Loss/localization_loss': 0.1963597,\n",
            " 'Loss/regularization_loss': 0.15659694,\n",
            " 'Loss/total_loss': 0.56181204,\n",
            " 'learning_rate': 0.07997945}\n",
            "I0102 13:04:53.101400 139844916111232 model_lib_v2.py:708] {'Loss/classification_loss': 0.2088554,\n",
            " 'Loss/localization_loss': 0.1963597,\n",
            " 'Loss/regularization_loss': 0.15659694,\n",
            " 'Loss/total_loss': 0.56181204,\n",
            " 'learning_rate': 0.07997945}\n",
            "INFO:tensorflow:Step 1600 per-step time 0.226s\n",
            "I0102 13:05:15.737426 139844916111232 model_lib_v2.py:705] Step 1600 per-step time 0.226s\n",
            "INFO:tensorflow:{'Loss/classification_loss': 0.44285107,\n",
            " 'Loss/localization_loss': 0.31359172,\n",
            " 'Loss/regularization_loss': 0.15650032,\n",
            " 'Loss/total_loss': 0.9129431,\n",
            " 'learning_rate': 0.079970405}\n",
            "I0102 13:05:15.737738 139844916111232 model_lib_v2.py:708] {'Loss/classification_loss': 0.44285107,\n",
            " 'Loss/localization_loss': 0.31359172,\n",
            " 'Loss/regularization_loss': 0.15650032,\n",
            " 'Loss/total_loss': 0.9129431,\n",
            " 'learning_rate': 0.079970405}\n",
            "INFO:tensorflow:Step 1700 per-step time 0.226s\n",
            "I0102 13:05:38.385241 139844916111232 model_lib_v2.py:705] Step 1700 per-step time 0.226s\n",
            "INFO:tensorflow:{'Loss/classification_loss': 0.32462302,\n",
            " 'Loss/localization_loss': 0.2346302,\n",
            " 'Loss/regularization_loss': 0.15639234,\n",
            " 'Loss/total_loss': 0.71564555,\n",
            " 'learning_rate': 0.07995972}\n",
            "I0102 13:05:38.385539 139844916111232 model_lib_v2.py:708] {'Loss/classification_loss': 0.32462302,\n",
            " 'Loss/localization_loss': 0.2346302,\n",
            " 'Loss/regularization_loss': 0.15639234,\n",
            " 'Loss/total_loss': 0.71564555,\n",
            " 'learning_rate': 0.07995972}\n",
            "INFO:tensorflow:Step 1800 per-step time 0.227s\n",
            "I0102 13:06:01.059121 139844916111232 model_lib_v2.py:705] Step 1800 per-step time 0.227s\n",
            "INFO:tensorflow:{'Loss/classification_loss': 0.3015918,\n",
            " 'Loss/localization_loss': 0.1787413,\n",
            " 'Loss/regularization_loss': 0.15645707,\n",
            " 'Loss/total_loss': 0.63679016,\n",
            " 'learning_rate': 0.0799474}\n",
            "I0102 13:06:01.059427 139844916111232 model_lib_v2.py:708] {'Loss/classification_loss': 0.3015918,\n",
            " 'Loss/localization_loss': 0.1787413,\n",
            " 'Loss/regularization_loss': 0.15645707,\n",
            " 'Loss/total_loss': 0.63679016,\n",
            " 'learning_rate': 0.0799474}\n",
            "INFO:tensorflow:Step 1900 per-step time 0.226s\n",
            "I0102 13:06:23.694113 139844916111232 model_lib_v2.py:705] Step 1900 per-step time 0.226s\n",
            "INFO:tensorflow:{'Loss/classification_loss': 0.21521913,\n",
            " 'Loss/localization_loss': 0.16929063,\n",
            " 'Loss/regularization_loss': 0.15633461,\n",
            " 'Loss/total_loss': 0.5408443,\n",
            " 'learning_rate': 0.07993342}\n",
            "I0102 13:06:23.694403 139844916111232 model_lib_v2.py:708] {'Loss/classification_loss': 0.21521913,\n",
            " 'Loss/localization_loss': 0.16929063,\n",
            " 'Loss/regularization_loss': 0.15633461,\n",
            " 'Loss/total_loss': 0.5408443,\n",
            " 'learning_rate': 0.07993342}\n",
            "INFO:tensorflow:Step 2000 per-step time 0.227s\n",
            "I0102 13:06:46.358836 139844916111232 model_lib_v2.py:705] Step 2000 per-step time 0.227s\n",
            "INFO:tensorflow:{'Loss/classification_loss': 0.38023582,\n",
            " 'Loss/localization_loss': 0.17107946,\n",
            " 'Loss/regularization_loss': 0.15627594,\n",
            " 'Loss/total_loss': 0.70759124,\n",
            " 'learning_rate': 0.07991781}\n",
            "I0102 13:06:46.359135 139844916111232 model_lib_v2.py:708] {'Loss/classification_loss': 0.38023582,\n",
            " 'Loss/localization_loss': 0.17107946,\n",
            " 'Loss/regularization_loss': 0.15627594,\n",
            " 'Loss/total_loss': 0.70759124,\n",
            " 'learning_rate': 0.07991781}\n",
            "INFO:tensorflow:Reduce to /job:localhost/replica:0/task:0/device:CPU:0 then broadcast to ('/job:localhost/replica:0/task:0/device:CPU:0',).\n",
            "I0102 13:06:46.458879 139844916111232 cross_device_ops.py:616] Reduce to /job:localhost/replica:0/task:0/device:CPU:0 then broadcast to ('/job:localhost/replica:0/task:0/device:CPU:0',).\n",
            "INFO:tensorflow:Reduce to /job:localhost/replica:0/task:0/device:CPU:0 then broadcast to ('/job:localhost/replica:0/task:0/device:CPU:0',).\n",
            "I0102 13:06:46.460983 139844916111232 cross_device_ops.py:616] Reduce to /job:localhost/replica:0/task:0/device:CPU:0 then broadcast to ('/job:localhost/replica:0/task:0/device:CPU:0',).\n",
            "INFO:tensorflow:Reduce to /job:localhost/replica:0/task:0/device:CPU:0 then broadcast to ('/job:localhost/replica:0/task:0/device:CPU:0',).\n",
            "I0102 13:06:46.462036 139844916111232 cross_device_ops.py:616] Reduce to /job:localhost/replica:0/task:0/device:CPU:0 then broadcast to ('/job:localhost/replica:0/task:0/device:CPU:0',).\n",
            "INFO:tensorflow:Reduce to /job:localhost/replica:0/task:0/device:CPU:0 then broadcast to ('/job:localhost/replica:0/task:0/device:CPU:0',).\n",
            "I0102 13:06:46.462982 139844916111232 cross_device_ops.py:616] Reduce to /job:localhost/replica:0/task:0/device:CPU:0 then broadcast to ('/job:localhost/replica:0/task:0/device:CPU:0',).\n",
            "INFO:tensorflow:Reduce to /job:localhost/replica:0/task:0/device:CPU:0 then broadcast to ('/job:localhost/replica:0/task:0/device:CPU:0',).\n",
            "I0102 13:06:46.466480 139844916111232 cross_device_ops.py:616] Reduce to /job:localhost/replica:0/task:0/device:CPU:0 then broadcast to ('/job:localhost/replica:0/task:0/device:CPU:0',).\n",
            "INFO:tensorflow:Reduce to /job:localhost/replica:0/task:0/device:CPU:0 then broadcast to ('/job:localhost/replica:0/task:0/device:CPU:0',).\n",
            "I0102 13:06:46.467427 139844916111232 cross_device_ops.py:616] Reduce to /job:localhost/replica:0/task:0/device:CPU:0 then broadcast to ('/job:localhost/replica:0/task:0/device:CPU:0',).\n",
            "INFO:tensorflow:Reduce to /job:localhost/replica:0/task:0/device:CPU:0 then broadcast to ('/job:localhost/replica:0/task:0/device:CPU:0',).\n",
            "I0102 13:06:46.468410 139844916111232 cross_device_ops.py:616] Reduce to /job:localhost/replica:0/task:0/device:CPU:0 then broadcast to ('/job:localhost/replica:0/task:0/device:CPU:0',).\n",
            "INFO:tensorflow:Reduce to /job:localhost/replica:0/task:0/device:CPU:0 then broadcast to ('/job:localhost/replica:0/task:0/device:CPU:0',).\n",
            "I0102 13:06:46.469349 139844916111232 cross_device_ops.py:616] Reduce to /job:localhost/replica:0/task:0/device:CPU:0 then broadcast to ('/job:localhost/replica:0/task:0/device:CPU:0',).\n",
            "INFO:tensorflow:Reduce to /job:localhost/replica:0/task:0/device:CPU:0 then broadcast to ('/job:localhost/replica:0/task:0/device:CPU:0',).\n",
            "I0102 13:06:46.473699 139844916111232 cross_device_ops.py:616] Reduce to /job:localhost/replica:0/task:0/device:CPU:0 then broadcast to ('/job:localhost/replica:0/task:0/device:CPU:0',).\n",
            "INFO:tensorflow:Reduce to /job:localhost/replica:0/task:0/device:CPU:0 then broadcast to ('/job:localhost/replica:0/task:0/device:CPU:0',).\n",
            "I0102 13:06:46.474663 139844916111232 cross_device_ops.py:616] Reduce to /job:localhost/replica:0/task:0/device:CPU:0 then broadcast to ('/job:localhost/replica:0/task:0/device:CPU:0',).\n"
          ]
        }
      ]
    },
    {
      "cell_type": "markdown",
      "source": [
        "## 8.Export Model"
      ],
      "metadata": {
        "id": "NTgkTOFa7U3A"
      }
    },
    {
      "cell_type": "code",
      "source": [
        "# # Export model   :    /content/gdrive/MyDrive/export_model/saved_model\n",
        "%cd /content/gdrive/MyDrive/models/research\n",
        "%cp /content/gdrive/MyDrive/models/research/object_detection/exporter_main_v2.py .\n",
        "\n",
        "# Export model2   :    /content/gdrive/MyDrive/export_model/saved_model\n",
        "!python exporter_main_v2.py \\\n",
        "--trained_checkpoint_dir=/content/gdrive/MyDrive/output_model \\\n",
        "--pipeline_config_path=/content/gdrive/MyDrive/pretrained/ssd_mobilenet_v2_fpnlite_320x320_coco17_tpu-8/pipeline.config \\\n",
        "--output_directory=/content/gdrive/MyDrive/export_model_train1000"
      ],
      "metadata": {
        "id": "uFednvRZ-ZHU",
        "colab": {
          "base_uri": "https://localhost:8080/"
        },
        "outputId": "384474d3-fe9a-48d9-eecb-09f727a739cb"
      },
      "execution_count": null,
      "outputs": [
        {
          "output_type": "stream",
          "name": "stdout",
          "text": [
            "/content/gdrive/MyDrive/models/research\n",
            "2022-12-21 16:32:52.327442: I tensorflow/core/platform/cpu_feature_guard.cc:193] This TensorFlow binary is optimized with oneAPI Deep Neural Network Library (oneDNN) to use the following CPU instructions in performance-critical operations:  AVX2 AVX512F AVX512_VNNI FMA\n",
            "To enable them in other operations, rebuild TensorFlow with the appropriate compiler flags.\n",
            "2022-12-21 16:32:52.468807: I tensorflow/core/util/port.cc:104] oneDNN custom operations are on. You may see slightly different numerical results due to floating-point round-off errors from different computation orders. To turn them off, set the environment variable `TF_ENABLE_ONEDNN_OPTS=0`.\n",
            "2022-12-21 16:32:53.430009: W tensorflow/compiler/xla/stream_executor/platform/default/dso_loader.cc:64] Could not load dynamic library 'libnvinfer.so.7'; dlerror: libnvinfer.so.7: cannot open shared object file: No such file or directory; LD_LIBRARY_PATH: /usr/lib64-nvidia\n",
            "2022-12-21 16:32:53.430122: W tensorflow/compiler/xla/stream_executor/platform/default/dso_loader.cc:64] Could not load dynamic library 'libnvinfer_plugin.so.7'; dlerror: libnvinfer_plugin.so.7: cannot open shared object file: No such file or directory; LD_LIBRARY_PATH: /usr/lib64-nvidia\n",
            "2022-12-21 16:32:53.430141: W tensorflow/compiler/tf2tensorrt/utils/py_utils.cc:38] TF-TRT Warning: Cannot dlopen some TensorRT libraries. If you would like to use Nvidia GPU with TensorRT, please make sure the missing libraries mentioned above are installed properly.\n",
            "2022-12-21 16:32:57.312067: W tensorflow/core/common_runtime/gpu/gpu_bfc_allocator.cc:42] Overriding orig_value setting because the TF_FORCE_GPU_ALLOW_GROWTH environment variable is set. Original config value was 0.\n",
            "2022-12-21 16:32:57.312130: I tensorflow/core/common_runtime/gpu/gpu_device.cc:1613] Created device /job:localhost/replica:0/task:0/device:GPU:0 with 38350 MB memory:  -> device: 0, name: A100-SXM4-40GB, pci bus id: 0000:00:04.0, compute capability: 8.0\n",
            "WARNING:tensorflow:From /usr/local/lib/python3.8/dist-packages/tensorflow/python/autograph/pyct/static_analysis/liveness.py:83: Analyzer.lamba_check (from tensorflow.python.autograph.pyct.static_analysis.liveness) is deprecated and will be removed after 2023-09-23.\n",
            "Instructions for updating:\n",
            "Lambda fuctions will be no more assumed to be used in the statement where they are used, or at least in the same block. https://github.com/tensorflow/tensorflow/issues/56089\n",
            "W1221 16:32:57.381574 140103636948864 deprecation.py:350] From /usr/local/lib/python3.8/dist-packages/tensorflow/python/autograph/pyct/static_analysis/liveness.py:83: Analyzer.lamba_check (from tensorflow.python.autograph.pyct.static_analysis.liveness) is deprecated and will be removed after 2023-09-23.\n",
            "Instructions for updating:\n",
            "Lambda fuctions will be no more assumed to be used in the statement where they are used, or at least in the same block. https://github.com/tensorflow/tensorflow/issues/56089\n",
            "WARNING:tensorflow:From /usr/local/lib/python3.8/dist-packages/tensorflow/python/autograph/impl/api.py:458: calling map_fn_v2 (from tensorflow.python.ops.map_fn) with back_prop=False is deprecated and will be removed in a future version.\n",
            "Instructions for updating:\n",
            "back_prop=False is deprecated. Consider using tf.stop_gradient instead.\n",
            "Instead of:\n",
            "results = tf.map_fn(fn, elems, back_prop=False)\n",
            "Use:\n",
            "results = tf.nest.map_structure(tf.stop_gradient, tf.map_fn(fn, elems))\n",
            "W1221 16:32:57.455250 140103636948864 deprecation.py:623] From /usr/local/lib/python3.8/dist-packages/tensorflow/python/autograph/impl/api.py:458: calling map_fn_v2 (from tensorflow.python.ops.map_fn) with back_prop=False is deprecated and will be removed in a future version.\n",
            "Instructions for updating:\n",
            "back_prop=False is deprecated. Consider using tf.stop_gradient instead.\n",
            "Instead of:\n",
            "results = tf.map_fn(fn, elems, back_prop=False)\n",
            "Use:\n",
            "results = tf.nest.map_structure(tf.stop_gradient, tf.map_fn(fn, elems))\n",
            "Traceback (most recent call last):\n",
            "  File \"exporter_main_v2.py\", line 164, in <module>\n",
            "    app.run(main)\n",
            "  File \"/usr/local/lib/python3.8/dist-packages/absl/app.py\", line 308, in run\n",
            "    _run_main(main, args)\n",
            "  File \"/usr/local/lib/python3.8/dist-packages/absl/app.py\", line 254, in _run_main\n",
            "    sys.exit(main(argv))\n",
            "  File \"exporter_main_v2.py\", line 157, in main\n",
            "    exporter_lib_v2.export_inference_graph(\n",
            "  File \"/content/gdrive/MyDrive/models/research/object_detection/exporter_lib_v2.py\", line 271, in export_inference_graph\n",
            "    status.assert_existing_objects_matched()\n",
            "  File \"/usr/local/lib/python3.8/dist-packages/tensorflow/python/checkpoint/checkpoint.py\", line 951, in assert_existing_objects_matched\n",
            "    raise AssertionError(\n",
            "AssertionError: No checkpoint specified (save_path=None); nothing is being restored.\n"
          ]
        }
      ]
    },
    {
      "cell_type": "code",
      "source": [
        "import io\n",
        "import os\n",
        "import scipy.misc\n",
        "import numpy as np\n",
        "import six\n",
        "import time\n",
        "import glob\n",
        "from IPython.display import display\n",
        "\n",
        "from six import BytesIO\n",
        "\n",
        "import matplotlib\n",
        "import matplotlib.pyplot as plt\n",
        "from PIL import Image, ImageDraw, ImageFont\n",
        "\n",
        "import tensorflow as tf\n",
        "from object_detection.utils import ops as utils_ops\n",
        "from object_detection.utils import label_map_util\n",
        "from object_detection.utils import visualization_utils as vis_util\n",
        "%cd /content/gdrive/MyDrive/models/research\n",
        "#Load model\n",
        "tf.keras.backend.clear_session()\n",
        "model = tf.saved_model.load(\"/content/gdrive/MyDrive/export_model_train1000/saved_model\")\n",
        "     "
      ],
      "metadata": {
        "id": "QSBpovj_-ZEg",
        "colab": {
          "base_uri": "https://localhost:8080/",
          "height": 395
        },
        "outputId": "7ab37152-6380-456c-9b97-36b0cca581a5"
      },
      "execution_count": null,
      "outputs": [
        {
          "output_type": "stream",
          "name": "stdout",
          "text": [
            "/content/gdrive/MyDrive/models/research\n"
          ]
        },
        {
          "output_type": "error",
          "ename": "OSError",
          "evalue": "ignored",
          "traceback": [
            "\u001b[0;31m---------------------------------------------------------------------------\u001b[0m",
            "\u001b[0;31mOSError\u001b[0m                                   Traceback (most recent call last)",
            "\u001b[0;32m<ipython-input-20-c1fdbeb9a15a>\u001b[0m in \u001b[0;36m<module>\u001b[0;34m\u001b[0m\n\u001b[1;32m     21\u001b[0m \u001b[0;31m#Load model\u001b[0m\u001b[0;34m\u001b[0m\u001b[0;34m\u001b[0m\u001b[0;34m\u001b[0m\u001b[0m\n\u001b[1;32m     22\u001b[0m \u001b[0mtf\u001b[0m\u001b[0;34m.\u001b[0m\u001b[0mkeras\u001b[0m\u001b[0;34m.\u001b[0m\u001b[0mbackend\u001b[0m\u001b[0;34m.\u001b[0m\u001b[0mclear_session\u001b[0m\u001b[0;34m(\u001b[0m\u001b[0;34m)\u001b[0m\u001b[0;34m\u001b[0m\u001b[0;34m\u001b[0m\u001b[0m\n\u001b[0;32m---> 23\u001b[0;31m \u001b[0mmodel\u001b[0m \u001b[0;34m=\u001b[0m \u001b[0mtf\u001b[0m\u001b[0;34m.\u001b[0m\u001b[0msaved_model\u001b[0m\u001b[0;34m.\u001b[0m\u001b[0mload\u001b[0m\u001b[0;34m(\u001b[0m\u001b[0;34m\"/content/gdrive/MyDrive/export_model_train1000/saved_model\"\u001b[0m\u001b[0;34m)\u001b[0m\u001b[0;34m\u001b[0m\u001b[0;34m\u001b[0m\u001b[0m\n\u001b[0m\u001b[1;32m     24\u001b[0m \u001b[0;34m\u001b[0m\u001b[0m\n",
            "\u001b[0;32m/usr/local/lib/python3.8/dist-packages/tensorflow/python/saved_model/load.py\u001b[0m in \u001b[0;36mload\u001b[0;34m(export_dir, tags, options)\u001b[0m\n\u001b[1;32m    826\u001b[0m   \u001b[0;32mif\u001b[0m \u001b[0misinstance\u001b[0m\u001b[0;34m(\u001b[0m\u001b[0mexport_dir\u001b[0m\u001b[0;34m,\u001b[0m \u001b[0mos\u001b[0m\u001b[0;34m.\u001b[0m\u001b[0mPathLike\u001b[0m\u001b[0;34m)\u001b[0m\u001b[0;34m:\u001b[0m\u001b[0;34m\u001b[0m\u001b[0;34m\u001b[0m\u001b[0m\n\u001b[1;32m    827\u001b[0m     \u001b[0mexport_dir\u001b[0m \u001b[0;34m=\u001b[0m \u001b[0mos\u001b[0m\u001b[0;34m.\u001b[0m\u001b[0mfspath\u001b[0m\u001b[0;34m(\u001b[0m\u001b[0mexport_dir\u001b[0m\u001b[0;34m)\u001b[0m\u001b[0;34m\u001b[0m\u001b[0;34m\u001b[0m\u001b[0m\n\u001b[0;32m--> 828\u001b[0;31m   \u001b[0mresult\u001b[0m \u001b[0;34m=\u001b[0m \u001b[0mload_partial\u001b[0m\u001b[0;34m(\u001b[0m\u001b[0mexport_dir\u001b[0m\u001b[0;34m,\u001b[0m \u001b[0;32mNone\u001b[0m\u001b[0;34m,\u001b[0m \u001b[0mtags\u001b[0m\u001b[0;34m,\u001b[0m \u001b[0moptions\u001b[0m\u001b[0;34m)\u001b[0m\u001b[0;34m[\u001b[0m\u001b[0;34m\"root\"\u001b[0m\u001b[0;34m]\u001b[0m\u001b[0;34m\u001b[0m\u001b[0;34m\u001b[0m\u001b[0m\n\u001b[0m\u001b[1;32m    829\u001b[0m   \u001b[0;32mreturn\u001b[0m \u001b[0mresult\u001b[0m\u001b[0;34m\u001b[0m\u001b[0;34m\u001b[0m\u001b[0m\n\u001b[1;32m    830\u001b[0m \u001b[0;34m\u001b[0m\u001b[0m\n",
            "\u001b[0;32m/usr/local/lib/python3.8/dist-packages/tensorflow/python/saved_model/load.py\u001b[0m in \u001b[0;36mload_partial\u001b[0;34m(export_dir, filters, tags, options)\u001b[0m\n\u001b[1;32m    931\u001b[0m     \u001b[0mtags\u001b[0m \u001b[0;34m=\u001b[0m \u001b[0mnest\u001b[0m\u001b[0;34m.\u001b[0m\u001b[0mflatten\u001b[0m\u001b[0;34m(\u001b[0m\u001b[0mtags\u001b[0m\u001b[0;34m)\u001b[0m\u001b[0;34m\u001b[0m\u001b[0;34m\u001b[0m\u001b[0m\n\u001b[1;32m    932\u001b[0m   saved_model_proto, debug_info = (\n\u001b[0;32m--> 933\u001b[0;31m       loader_impl.parse_saved_model_with_debug_info(export_dir))\n\u001b[0m\u001b[1;32m    934\u001b[0m \u001b[0;34m\u001b[0m\u001b[0m\n\u001b[1;32m    935\u001b[0m   if (len(saved_model_proto.meta_graphs) == 1 and\n",
            "\u001b[0;32m/usr/local/lib/python3.8/dist-packages/tensorflow/python/saved_model/loader_impl.py\u001b[0m in \u001b[0;36mparse_saved_model_with_debug_info\u001b[0;34m(export_dir)\u001b[0m\n\u001b[1;32m     55\u001b[0m     \u001b[0mparsed\u001b[0m\u001b[0;34m.\u001b[0m \u001b[0mMissing\u001b[0m \u001b[0mgraph\u001b[0m \u001b[0mdebug\u001b[0m \u001b[0minfo\u001b[0m \u001b[0mfile\u001b[0m \u001b[0;32mis\u001b[0m \u001b[0mfine\u001b[0m\u001b[0;34m.\u001b[0m\u001b[0;34m\u001b[0m\u001b[0;34m\u001b[0m\u001b[0m\n\u001b[1;32m     56\u001b[0m   \"\"\"\n\u001b[0;32m---> 57\u001b[0;31m   \u001b[0msaved_model\u001b[0m \u001b[0;34m=\u001b[0m \u001b[0mparse_saved_model\u001b[0m\u001b[0;34m(\u001b[0m\u001b[0mexport_dir\u001b[0m\u001b[0;34m)\u001b[0m\u001b[0;34m\u001b[0m\u001b[0;34m\u001b[0m\u001b[0m\n\u001b[0m\u001b[1;32m     58\u001b[0m \u001b[0;34m\u001b[0m\u001b[0m\n\u001b[1;32m     59\u001b[0m   debug_info_path = file_io.join(\n",
            "\u001b[0;32m/usr/local/lib/python3.8/dist-packages/tensorflow/python/saved_model/loader_impl.py\u001b[0m in \u001b[0;36mparse_saved_model\u001b[0;34m(export_dir)\u001b[0m\n\u001b[1;32m    113\u001b[0m       \u001b[0;32mraise\u001b[0m \u001b[0mIOError\u001b[0m\u001b[0;34m(\u001b[0m\u001b[0;34mf\"Cannot parse file {path_to_pbtxt}: {str(e)}.\"\u001b[0m\u001b[0;34m)\u001b[0m\u001b[0;34m\u001b[0m\u001b[0;34m\u001b[0m\u001b[0m\n\u001b[1;32m    114\u001b[0m   \u001b[0;32melse\u001b[0m\u001b[0;34m:\u001b[0m\u001b[0;34m\u001b[0m\u001b[0;34m\u001b[0m\u001b[0m\n\u001b[0;32m--> 115\u001b[0;31m     raise IOError(\n\u001b[0m\u001b[1;32m    116\u001b[0m         \u001b[0;34mf\"SavedModel file does not exist at: {export_dir}{os.path.sep}\"\u001b[0m\u001b[0;34m\u001b[0m\u001b[0;34m\u001b[0m\u001b[0m\n\u001b[1;32m    117\u001b[0m         \u001b[0;34mf\"{{{constants.SAVED_MODEL_FILENAME_PBTXT}|\"\u001b[0m\u001b[0;34m\u001b[0m\u001b[0;34m\u001b[0m\u001b[0m\n",
            "\u001b[0;31mOSError\u001b[0m: SavedModel file does not exist at: /content/gdrive/MyDrive/export_model_train1000/saved_model/{saved_model.pbtxt|saved_model.pb}"
          ]
        }
      ]
    },
    {
      "cell_type": "markdown",
      "source": [
        "#### 줄이기기"
      ],
      "metadata": {
        "id": "potXeUS6QWsE"
      }
    },
    {
      "cell_type": "code",
      "source": [
        "# Các hàm inference\n",
        "\n",
        "import cv2\n",
        "def run_inference_for_single_image(model, image):\n",
        "  \n",
        "  image = np.asarray(image)\n",
        "  input_tensor = tf.convert_to_tensor(image)\n",
        "  input_tensor = input_tensor[tf.newaxis,...]\n",
        "\n",
        "  model_fn = model.signatures['serving_default']\n",
        "  output_dict = model_fn(input_tensor)\n",
        "\n",
        "  num_detections = int(output_dict.pop('num_detections'))\n",
        "  output_dict = {key:value[0, :num_detections].numpy() \n",
        "                 for key,value in output_dict.items()}\n",
        "  output_dict['num_detections'] = num_detections\n",
        "  output_dict['detection_classes'] = output_dict['detection_classes'].astype(np.int64)\n",
        "   \n",
        "  if 'detection_masks' in output_dict:\n",
        "    detection_masks_reframed = utils_ops.reframe_box_masks_to_image_masks(\n",
        "              output_dict['detection_masks'], output_dict['detection_boxes'],\n",
        "               image.shape[0], image.shape[1])      \n",
        "    detection_masks_reframed = tf.cast(detection_masks_reframed > 0.5,\n",
        "                                       tf.uint8)\n",
        "    output_dict['detection_masks_reframed'] = detection_masks_reframed.numpy()\n",
        "    \n",
        "  return output_dict\n",
        "\n",
        "def load_image_into_numpy_array(path):\n",
        "  img_data = tf.io.gfile.GFile(path, 'rb').read()\n",
        "  image = Image.open(BytesIO(img_data))\n",
        "  (im_width, im_height) = image.size\n",
        "  return np.array(image.getdata()).reshape(\n",
        "      (im_height, im_width, 3)).astype(np.uint8)\n",
        "     "
      ],
      "metadata": {
        "id": "5XB8N0ywAZSG"
      },
      "execution_count": null,
      "outputs": []
    },
    {
      "cell_type": "markdown",
      "source": [
        "#### 실행\n",
        "\n",
        " image_path = '/content/gdrive/MyDrive/data/split_data/new/gucci2.jpg'  \n",
        " image_path = '/content/gdrive/MyDrive/data/split_data/new/gucci1.jpg'  \n",
        " image_path = '/content/gdrive/MyDrive/data/split_data/new/gucci3.jpg'  \n",
        " image_path = '/content/gdrive/MyDrive/data/split_data/new/gucci4.jpg'  \n",
        " image_path = '/content/gdrive/MyDrive/data/split_data/new/gucci5.jpg'  \n",
        " image_path = '/content/gdrive/MyDri/ve/data/split_data/new/gucci6.jpg'  \n",
        " image_path = '/content/gdrive/MyDrive/data/split_data/new/gucci7.jpg'  \n",
        " image_path = '/content/gdrive/MyDrive/data/split_data/new/gucci8.jpg'  \n",
        " image_path = '/content/gdrive/MyDrive/data/split_data/new/gucci9.jpg'  \n",
        "image_path = '/content/gdrive/MyDrive/data/split_data/test/400249_0K7JN_9680_001_076_0000_Light5.jpg'  \n",
        " image_path = '/content/gdrive/MyDrive/data/split_data/test/가방사진 (717).jpg'  \n",
        " image_path = '/content/gdrive/MyDrive/data/split_data/new/gucci9.jpg'  \n",
        " image_path = '/content/gdrive/MyDrive/data/split_data/new/channel2.jpg  "
      ],
      "metadata": {
        "id": "BRDKM16qQaJr"
      }
    },
    {
      "cell_type": "code",
      "source": [
        "%cd /content/gdrive/MyDrive/models/research\n",
        "category_index = label_map_util.create_category_index_from_labelmap(\"/content/gdrive/MyDrive/data/label_map.txt\", use_display_name=True)\n",
        "\n",
        "# image_path = '/content/gdrive/MyDrive/data/split_data/test/가방사진 (321).jpg'\n",
        "# image_path = '/content/gdrive/MyDrive/data/split_data/test/400249_0K7JN_9680_001_076_0000_Light5.jpg'\n",
        "image_path = '/content/gdrive/MyDrive/data/split_data/new/channel_14.jpg'\n",
        "# image_path = '/content/gdrive/MyDrive/data/split_data/new/channel2.jpg'\n",
        "# image_path = '/content/gdrive/MyDrive/data/split_data/new/gucci7.jpg'\n",
        "\n",
        "image_np = load_image_into_numpy_array(image_path)\n",
        "print(\"Done load image \")\n",
        "image_np = cv2.resize(image_np, dsize=None, fx=1, fy=1)\n",
        "output_dict = run_inference_for_single_image(model, image_np)\n",
        "print(\"Done inference\")\n",
        "vis_util.visualize_boxes_and_labels_on_image_array(\n",
        "    image_np,\n",
        "    output_dict['detection_boxes'],\n",
        "    output_dict['detection_classes'],\n",
        "    output_dict['detection_scores'],\n",
        "    category_index = category_index,\n",
        "    # instance_masks=output_dict.get('detection_masks_reframed', None),\n",
        "    instance_masks=output_dict.get('detection_masks', None),\n",
        "    use_normalized_coordinates=True,\n",
        "    line_thickness=5,\n",
        "    # skip_boxes = True,\n",
        "    # skip_scores = True,\n",
        "    # skip_labels=True,\n",
        "    # skip_track_ids=True\n",
        "    )\n",
        "print(\"Done draw on image \")\n",
        "display(Image.fromarray(image_np))"
      ],
      "metadata": {
        "id": "hU2bc_YUAZOK"
      },
      "execution_count": null,
      "outputs": []
    },
    {
      "cell_type": "code",
      "source": [
        "# /content/gdrive/MyDrive/data/com_data/images_c"
      ],
      "metadata": {
        "id": "qQz7SIwGcURo"
      },
      "execution_count": null,
      "outputs": []
    },
    {
      "cell_type": "code",
      "source": [
        "# from PIL import Image\n",
        "# import glob\n",
        "# import numpy as mp\n",
        "\n",
        "# images = glob.glob(\"/content/gdrive/MyDrive/data/com_data/images_c/*.jpg\")\n",
        "# h = []; w = []\n",
        "\n",
        "# for num in range(len(images)):\n",
        "#   image1 = Image.open(images[num])\n",
        "#   imag1_size = image1.size\n",
        "#   w.append(imag1_size[0])\n",
        "#   h.append(imag1_size[1])"
      ],
      "metadata": {
        "id": "lw-qf_IbcUO5"
      },
      "execution_count": null,
      "outputs": []
    },
    {
      "cell_type": "code",
      "source": [
        "# print(\"최대값 : 높이 -\", max(h), \"가로 -\", max(w))\n",
        "# print(\"평균값 : 높이 -\", int(mp.mean(h)), \"가로 -\", int(mp.mean(w)))\n",
        "# print(\"중간값 : 높이 -\", int(mp.median(h)), \"가로 -\", int(mp.median(w)))"
      ],
      "metadata": {
        "id": "xZI1etgFcUHg"
      },
      "execution_count": null,
      "outputs": []
    },
    {
      "cell_type": "code",
      "source": [
        "# print(\"이미지 총 개수 :\",len(images))\n",
        "\n",
        "# print(\"중간값보다 큰 이미지 개수 :\", len([h_ for h_ in h if h_>int(mp.median(w))]))\n",
        "# print(\"중간값보다 큰 이미지 개수 :\", len([w_ for w_ in w if w_>int(mp.median(h))]))\n",
        "\n",
        "# print(\"평균값보다 큰 이미지 개수 :\", len([h_ for h_ in h if h_>int(mp.mean(h))]))\n",
        "# print(\"평균값보다 큰 이미지 개수 :\", len([w_ for w_ in w if w_>int(mp.mean(w))]))\n"
      ],
      "metadata": {
        "id": "Bq6JqdGWlh3O"
      },
      "execution_count": null,
      "outputs": []
    },
    {
      "cell_type": "code",
      "source": [
        "# h_2 = [h_ for h_ in h if h_>int(mp.mean(h))]\n",
        "# w_2 = [w_ for w_ in h if w_>int(mp.mean(w))]\n",
        "\n",
        "# print(\"===== 평균 기준으로 재측정 =======\")\n",
        "# print(\"최대값 : 높이 -\", max(h_2), \"가로 -\", max(w_2))\n",
        "# print(\"평균값 : 높이 -\", int(mp.mean(h_2)), \"가로 -\", int(mp.mean(w_2)))\n",
        "# print(\"중간값 : 높이 -\", int(mp.median(h_2)), \"가로 -\", int(mp.median(w_2)))\n",
        "\n",
        "# print(\" \")\n",
        "# print(\"이미지 총 개수 :\",len(images))\n",
        "\n",
        "# print(\"중간값보다 큰 이미지 개수 :\", len([h_ for h_ in h_2 if h_>int(mp.median(w_2))]))\n",
        "# print(\"중간값보다 큰 이미지 개수 :\", len([w_ for w_ in w_2 if w_>int(mp.median(h_2))]))\n",
        "\n",
        "# print(\"평균값보다 큰 이미지 개수 :\", len([h_ for h_ in h_2 if h_>int(mp.mean(h_2))]))\n",
        "# print(\"평균값보다 큰 이미지 개수 :\", len([w_ for w_ in w_2 if w_>int(mp.mean(w_2))]))"
      ],
      "metadata": {
        "id": "BYCNrm4dnEfw"
      },
      "execution_count": null,
      "outputs": []
    }
  ]
}